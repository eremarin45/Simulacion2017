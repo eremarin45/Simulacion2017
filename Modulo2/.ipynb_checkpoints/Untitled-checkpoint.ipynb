{
 "cells": [
  {
   "cell_type": "code",
   "execution_count": null,
   "metadata": {
    "collapsed": true
   },
   "outputs": [],
   "source": [
    "# Importamos librerías\n",
    "import numpy as np\n",
    "import pandas as pd\n",
    "import pandas_datareader as data\n",
    "import matplotlib.pyplot as plt\n",
    "%matplotlib inline"
   ]
  },
  {
   "cell_type": "code",
   "execution_count": null,
   "metadata": {
    "collapsed": true
   },
   "outputs": [],
   "source": [
    "# Función que creamos en clase para bajar datos\n",
    "def load_adj_close(ticker, data_source, start_date, end_date):\n",
    "    panel_data = data.DataReader(ticker, data_source, start_date, end_date)\n",
    "    closes = panel_data.loc['Adj Close']\n",
    "    all_weekdays = pd.date_range(start=start_date, end=end_date)\n",
    "    closes = closes.reindex(all_weekdays)\n",
    "    closes = closes.fillna(method='ffill')\n",
    "    return closes\n",
    "\n",
    "# Función que devuelve rendimientos diarios, media y desviación estándar\n",
    "def mu_std_daily_ret(closes):\n",
    "    daily_returns = (np.log(closes/closes.shift(1)))[1:]\n",
    "    mu = daily_returns.mean().values\n",
    "    sigma = daily_returns.std().values\n",
    "    return daily_returns, mu, sigma\n",
    "\n",
    "# Función que simula varios escenarios de rendimientos diarios\n",
    "def daily_ret_sim(mu, sigma, ndays, ntraj, start_date):\n",
    "    dates = pd.date_range(start=start_date,periods=ndays)\n",
    "    return pd.DataFrame(sigma*np.random.randn(ndays, ntraj)+mu, index = dates)\n",
    "\n",
    "# Función de proyección de precios\n",
    "def closes_proj(simret, closes):\n",
    "    return (closes.iloc[-1,:].values[0])*np.exp(simret.cumsum())"
   ]
  }
 ],
 "metadata": {
  "kernelspec": {
   "display_name": "Python 3",
   "language": "python",
   "name": "python3"
  },
  "language_info": {
   "codemirror_mode": {
    "name": "ipython",
    "version": 3
   },
   "file_extension": ".py",
   "mimetype": "text/x-python",
   "name": "python",
   "nbconvert_exporter": "python",
   "pygments_lexer": "ipython3",
   "version": "3.6.1"
  }
 },
 "nbformat": 4,
 "nbformat_minor": 2
}
