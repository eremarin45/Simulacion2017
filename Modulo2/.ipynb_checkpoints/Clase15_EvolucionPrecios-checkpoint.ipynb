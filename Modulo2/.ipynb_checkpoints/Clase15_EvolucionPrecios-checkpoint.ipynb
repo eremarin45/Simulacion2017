{
 "cells": [
  {
   "cell_type": "markdown",
   "metadata": {},
   "source": [
    "# Aplicando Python para análisis de precios: simulación de escenarios futuros de precios\n",
    "\n",
    "> En esta y en las siguientes dos clases veremos un caso de aplicación de simulación montecarlo en la toma de decisiones. Para lograr este objetivo, primero veremos (en esta clase) como manipular datos con pandas, tanto desde un archivo local de excel como remotamente desde Yahoo Finance.\n",
    "\n",
    "**Referencias:**\n",
    "- http://pandas.pydata.org/\n",
    "- http://www.learndatasci.com/python-finance-part-yahoo-finance-api-pandas-matplotlib/"
   ]
  },
  {
   "cell_type": "markdown",
   "metadata": {},
   "source": [
    "## 1. Motivación\n",
    "\n",
    "Hace menos de una década, los instrumentos financieros llamados derivados estaban en la cúspide de la popularidad. Las instituciones financieras de todo el mundo estaban negociando miles de millones de dólares de estos instrumentos a diario, y los analistas cuantitativos estaban modelándolos utilizando el cálculo estocástico y el poderoso C ++.\n",
    "\n",
    "Avance rápido nueve años después y las cosas han cambiado. La crisis financiera ha demostrado ser un derivado-némesis hasta el momento. Los volúmenes han bajado y la demanda de modelado C ++ se ha marchitado con ellos. Pero hay un nuevo jugador en la ciudad ... Python!\n",
    "\n",
    "Python ha estado ganando significativa tracción en la industria financiera en los últimos años y con razón. En esta serie de tutoriales vamos a ver cómo se puede aprovechar la potente funcionalidad proporcionada por una serie de paquetes de Python para desarrollar y backtest una estrategia de negociación cuantitativa.\n",
    "\n",
    "En detalle, en el primero de nuestros tutoriales, vamos a mostrar cómo uno puede fácilmente utilizar Python para descargar datos financieros de bases de datos en línea gratuitas, manipular los datos descargados y luego crear algunos indicadores técnicos básicos que luego se utilizarán como base de nuestra estrategia cuantitativa. Para lograrlo, vamos a utilizar uno de los paquetes de Python más potentes y ampliamente utilizados para la manipulación de datos, los pandas."
   ]
  },
  {
   "cell_type": "code",
   "execution_count": null,
   "metadata": {
    "collapsed": true
   },
   "outputs": [],
   "source": []
  },
  {
   "cell_type": "code",
   "execution_count": null,
   "metadata": {
    "collapsed": true
   },
   "outputs": [],
   "source": []
  },
  {
   "cell_type": "code",
   "execution_count": null,
   "metadata": {
    "collapsed": true
   },
   "outputs": [],
   "source": []
  },
  {
   "cell_type": "code",
   "execution_count": null,
   "metadata": {
    "collapsed": true
   },
   "outputs": [],
   "source": []
  },
  {
   "cell_type": "code",
   "execution_count": null,
   "metadata": {
    "collapsed": true
   },
   "outputs": [],
   "source": []
  },
  {
   "cell_type": "code",
   "execution_count": null,
   "metadata": {
    "collapsed": true
   },
   "outputs": [],
   "source": []
  },
  {
   "cell_type": "markdown",
   "metadata": {},
   "source": [
    "<script>\n",
    "  $(document).ready(function(){\n",
    "    $('div.prompt').hide();\n",
    "    $('div.back-to-top').hide();\n",
    "    $('nav#menubar').hide();\n",
    "    $('.breadcrumb').hide();\n",
    "    $('.hidden-print').hide();\n",
    "  });\n",
    "</script>\n",
    "\n",
    "<footer id=\"attribution\" style=\"float:right; color:#808080; background:#fff;\">\n",
    "Created with Jupyter by Esteban Jiménez Rodríguez.\n",
    "</footer>"
   ]
  }
 ],
 "metadata": {
  "kernelspec": {
   "display_name": "Python 3",
   "language": "python",
   "name": "python3"
  },
  "language_info": {
   "codemirror_mode": {
    "name": "ipython",
    "version": 3
   },
   "file_extension": ".py",
   "mimetype": "text/x-python",
   "name": "python",
   "nbconvert_exporter": "python",
   "pygments_lexer": "ipython3",
   "version": "3.6.2"
  }
 },
 "nbformat": 4,
 "nbformat_minor": 2
}
