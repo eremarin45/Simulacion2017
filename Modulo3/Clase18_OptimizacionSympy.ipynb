{
 "cells": [
  {
   "cell_type": "markdown",
   "metadata": {},
   "source": [
    "# Optimización de funciones escalares diferenciables con Sympy\n",
    "\n",
    "> - Mediante optimización se obtienen soluciones elegantes tanto en teoría como en ciertas aplicaciones. \n",
    "> - La teoría de optimización usa elementos comenzando con cálculo elemental y álgebra lineal básica, y luego se extiende con análisis funcional y convexo.\n",
    "> - Las aplicaciones en optimización involucran ciencia, ingeniería, economía, finanzas e industria.\n",
    "> - El amplio y creciente uso de la optimización lo hace escencial para estudiantes y profesionales de cualquier rama de la ciencia y la tecnología.\n",
    "\n",
    "**Referencia**\n",
    "- http://www.math.uwaterloo.ca/~hwolkowi//henry/reports/talks.d/t06talks.d/06msribirs.d/optimportance.shtml"
   ]
  },
  {
   "cell_type": "markdown",
   "metadata": {},
   "source": [
    "Algunas aplicaciones son:\n",
    "\n",
    "1. Ingeniería\n",
    " - Encontrar la composición de equilibrio de una mezcla de diferentes átomos.\n",
    " - Planeación de ruta para un robot (o vehículo aéreo no tripulado).\n",
    "2. Distribución óptima de recursos.\n",
    " - Distribución de rutas de vuelo.\n",
    " - Encontrar una dieta óptima.\n",
    "3. Optimización financiera\n",
    " - Administración de riesgos."
   ]
  },
  {
   "cell_type": "markdown",
   "metadata": {},
   "source": [
    "En esta clase veremos aspectos básicos de optimización. En específico, veremos cómo obtener máximos y mínimos de una función escalar de una variable (como en cálculo diferencial).\n",
    "\n",
    "Basamos todos los resultados en los siguientes teoremas:"
   ]
  },
  {
   "cell_type": "markdown",
   "metadata": {},
   "source": [
    "## 1. Teorema de Fermat (análisis)\n",
    "\n",
    "Si una función $f(x)$ alcanza un máximo o mínimo local en $x=c$, y si la derivada $f'(c)$ existe en el punto $c$, entonces $f'(c) = 0$."
   ]
  },
  {
   "cell_type": "markdown",
   "metadata": {},
   "source": [
    "### Ejemplo\n",
    "\n",
    "Sabemos que la función $f(x)=x^2$ tiene un mínimo global en $x=0$, pues\n",
    "\n",
    "$$f(x)=x^2\\geq0,\\qquad\\text{y}\\qquad f(x)=x^2=0 \\qquad\\text{si y solo si}\\qquad x=0.$$"
   ]
  },
  {
   "cell_type": "code",
<<<<<<< Updated upstream
   "execution_count": 1,
=======
   "execution_count": 31,
>>>>>>> Stashed changes
   "metadata": {
    "collapsed": true
   },
   "outputs": [],
   "source": [
    "# Librería de cálculo simbólico\n",
    "import sympy as sym\n",
    "# Para imprimir en formato TeX\n",
    "from sympy import init_printing; init_printing(use_latex='mathjax')"
   ]
  },
  {
   "cell_type": "code",
<<<<<<< Updated upstream
   "execution_count": 8,
=======
   "execution_count": 32,
>>>>>>> Stashed changes
   "metadata": {},
   "outputs": [
    {
     "data": {
      "text/latex": [
       "$$x^{2}$$"
      ],
      "text/plain": [
       " 2\n",
       "x "
      ]
     },
<<<<<<< Updated upstream
     "execution_count": 8,
=======
     "execution_count": 32,
>>>>>>> Stashed changes
     "metadata": {},
     "output_type": "execute_result"
    }
   ],
   "source": [
    "sym.var('x', real = True) #variable real\n",
    "f = x**2\n",
    "f"
   ]
  },
  {
   "cell_type": "code",
<<<<<<< Updated upstream
   "execution_count": 12,
=======
   "execution_count": 33,
>>>>>>> Stashed changes
   "metadata": {},
   "outputs": [
    {
     "data": {
      "text/latex": [
       "$$2 x$$"
      ],
      "text/plain": [
       "2⋅x"
      ]
     },
<<<<<<< Updated upstream
     "execution_count": 12,
=======
     "execution_count": 33,
>>>>>>> Stashed changes
     "metadata": {},
     "output_type": "execute_result"
    }
   ],
   "source": [
    "df = sym.diff(f, x)\n",
    "df"
   ]
  },
  {
   "cell_type": "code",
<<<<<<< Updated upstream
   "execution_count": 14,
=======
   "execution_count": 34,
>>>>>>> Stashed changes
   "metadata": {},
   "outputs": [
    {
     "data": {
      "text/latex": [
       "$$0$$"
      ],
      "text/plain": [
       "0"
      ]
     },
<<<<<<< Updated upstream
     "execution_count": 14,
=======
     "execution_count": 34,
>>>>>>> Stashed changes
     "metadata": {},
     "output_type": "execute_result"
    }
   ],
   "source": [
    "x_c = sym.solve(df, x)\n",
    "x_c[0]"
   ]
  },
  {
   "cell_type": "markdown",
   "metadata": {},
   "source": [
    "Veamos la gráfica..."
   ]
  },
  {
   "cell_type": "code",
<<<<<<< Updated upstream
   "execution_count": 16,
=======
   "execution_count": 35,
>>>>>>> Stashed changes
   "metadata": {
    "collapsed": true
   },
   "outputs": [],
   "source": [
    "import numpy as np\n",
    "import matplotlib.pyplot as plt\n",
    "%matplotlib inline"
   ]
  },
  {
   "cell_type": "code",
<<<<<<< Updated upstream
   "execution_count": 18,
=======
   "execution_count": 36,
>>>>>>> Stashed changes
   "metadata": {},
   "outputs": [
    {
     "data": {
      "image/png": "iVBORw0KGgoAAAANSUhEUgAAAYYAAAEKCAYAAAAW8vJGAAAABHNCSVQICAgIfAhkiAAAAAlwSFlz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\npA0Vg4iItKFiEBGRNv4P8HCGL4VgC+kAAAAASUVORK5CYII=\n",
      "text/plain": [
<<<<<<< Updated upstream
       "<matplotlib.figure.Figure at 0x7fcb13f7fcc0>"
=======
       "<matplotlib.figure.Figure at 0x11600c748>"
>>>>>>> Stashed changes
      ]
     },
     "metadata": {},
     "output_type": "display_data"
    }
   ],
   "source": [
    "f_num = sym.lambdify([x], f, 'numpy')\n",
    "x_vec = np.linspace(-5, 5, 100)\n",
    "\n",
    "plt.plot(x_vec, f_num(x_vec))\n",
    "plt.xlabel('$x$')\n",
    "plt.ylabel('$x^2$')\n",
    "plt.show()"
   ]
  },
  {
   "cell_type": "markdown",
   "metadata": {},
   "source": [
    "**Otra manera de hacer lo anterior**"
   ]
  },
  {
   "cell_type": "code",
<<<<<<< Updated upstream
   "execution_count": 21,
=======
   "execution_count": 37,
>>>>>>> Stashed changes
   "metadata": {
    "collapsed": true
   },
   "outputs": [],
   "source": [
    "def f(x):\n",
    "    return x**2"
   ]
  },
  {
   "cell_type": "code",
<<<<<<< Updated upstream
   "execution_count": 47,
=======
   "execution_count": 38,
   "metadata": {},
   "outputs": [
    {
     "data": {
      "text/latex": [
       "$$x^{2}$$"
      ],
      "text/plain": [
       " 2\n",
       "x "
      ]
     },
     "execution_count": 38,
     "metadata": {},
     "output_type": "execute_result"
    }
   ],
   "source": [
    "f_sym = f(x)\n",
    "f_sym"
   ]
  },
  {
   "cell_type": "code",
   "execution_count": 39,
>>>>>>> Stashed changes
   "metadata": {},
   "outputs": [
    {
     "data": {
      "text/latex": [
       "$$2 x$$"
      ],
      "text/plain": [
       "2⋅x"
      ]
     },
     "execution_count": 39,
     "metadata": {},
     "output_type": "execute_result"
    }
   ],
   "source": [
    "df = sym.diff(f(x), x)\n",
    "df"
   ]
  },
  {
   "cell_type": "code",
   "execution_count": 40,
   "metadata": {},
   "outputs": [
    {
     "data": {
      "text/latex": [
       "$$0$$"
      ],
      "text/plain": [
       "0"
      ]
     },
     "execution_count": 40,
     "metadata": {},
     "output_type": "execute_result"
    }
   ],
   "source": [
    "x_c = sym.solve(df, x)\n",
    "x_c[0]"
   ]
  },
  {
   "cell_type": "markdown",
   "metadata": {},
   "source": [
    "El converso del teorema anterior no es cierto.\n",
    "\n",
    "### Actividad\n",
    "Considere $g(x)=x^3$. \n",
    "- Usando `sympy`, muestre que $g'(0)=0$.\n",
    "- Sin embargo, descartar que $x=0$ es un extremo de $g(x)$ viendo su gráfica."
   ]
  },
  {
   "cell_type": "code",
<<<<<<< Updated upstream
   "execution_count": 24,
=======
   "execution_count": 41,
>>>>>>> Stashed changes
   "metadata": {
    "collapsed": true
   },
   "outputs": [],
   "source": [
    "def g(x):\n",
    "    return x**3"
   ]
  },
  {
   "cell_type": "code",
<<<<<<< Updated upstream
   "execution_count": 26,
=======
   "execution_count": 42,
>>>>>>> Stashed changes
   "metadata": {},
   "outputs": [
    {
     "data": {
      "text/latex": [
<<<<<<< Updated upstream
       "$$\\left [ 0\\right ]$$"
      ],
      "text/plain": [
       "[0]"
      ]
     },
     "execution_count": 26,
=======
       "$$x^{3}$$"
      ],
      "text/plain": [
       " 3\n",
       "x "
      ]
     },
     "execution_count": 42,
>>>>>>> Stashed changes
     "metadata": {},
     "output_type": "execute_result"
    }
   ],
   "source": [
<<<<<<< Updated upstream
    "dg = sym.diff(g(x), x)\n",
    "x_c = sym.solve(dg, x)\n",
    "x_c"
=======
    "g_sym = g(x)\n",
    "g_sym"
>>>>>>> Stashed changes
   ]
  },
  {
   "cell_type": "code",
<<<<<<< Updated upstream
   "execution_count": 27,
=======
   "execution_count": 43,
>>>>>>> Stashed changes
   "metadata": {},
   "outputs": [
    {
     "data": {
<<<<<<< Updated upstream
      "image/png": "iVBORw0KGgoAAAANSUhEUgAAAfcAAAF3CAYAAAC4xQL/AAAABHNCSVQICAgIfAhkiAAAAAlwSFlz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\n",
      "text/plain": [
       "<matplotlib.figure.Figure at 0x7fcb0400a6a0>"
      ]
     },
     "metadata": {},
     "output_type": "display_data"
    }
   ],
   "source": [
    "x_vec = np.linspace(-2,2,100)\n",
    "plt.figure(figsize=(8,6))\n",
    "plt.plot(x_vec, g(x_vec))\n",
    "plt.xlabel('$x$')\n",
    "plt.ylabel('$x^3$')\n",
=======
      "text/latex": [
       "$$\\left [ 0\\right ]$$"
      ],
      "text/plain": [
       "[0]"
      ]
     },
     "execution_count": 43,
     "metadata": {},
     "output_type": "execute_result"
    }
   ],
   "source": [
    "dg = sym.diff(g(x), x)\n",
    "x_c = sym.solve(dg, x)\n",
    "x_c"
   ]
  },
  {
   "cell_type": "code",
   "execution_count": 45,
   "metadata": {},
   "outputs": [
    {
     "ename": "SyntaxError",
     "evalue": "invalid syntax (<string>, line 1)",
     "output_type": "error",
     "traceback": [
      "\u001b[0;36m  File \u001b[0;32m\"<string>\"\u001b[0;36m, line \u001b[0;32m1\u001b[0m\n\u001b[0;31m    lambda _Dummy_30: (<function g at 0x11622b378>)\u001b[0m\n\u001b[0m                       ^\u001b[0m\n\u001b[0;31mSyntaxError\u001b[0m\u001b[0;31m:\u001b[0m invalid syntax\n"
     ]
    }
   ],
   "source": [
    "f_num = sym.lambdify([x], g, 'numpy')\n",
    "x_vec = np.linspace(-2, 2, 100)\n",
    "plt.figure(figsize=8)\n",
    "plt.plot(x_vec, f_num(x_vec))\n",
    "plt.xlabel('$x$')\n",
    "plt.ylabel('$x^2$')\n",
>>>>>>> Stashed changes
    "plt.show()"
   ]
  },
  {
   "cell_type": "markdown",
   "metadata": {},
   "source": [
    "## 2. Criterio de la segunda derivada\n",
    "\n",
    "Sea $f(x)$ una función tal que $f’(c)=0$ y cuya segunda derivada existe en un intervalo abierto que contiene a $c$.\n",
    "- Si $f’’(c)>0$, entonces $f(c)$ es un mínimo relativo.\n",
    "- Si $f’’(c)<0$, entonces $f(c)$ es un máximo relativo.\n",
    "- Si $f’’(c)=0$, entonces el criterio no decide. "
   ]
  },
  {
   "cell_type": "markdown",
   "metadata": {},
   "source": [
    "### Ejemplo\n",
    "\n",
    "Mostrar, usando `sympy`, que la función $f(x)=x^2$ tiene un mínimo relativo en $x=0$.\n",
    "\n",
    "Ya vimos que $f'(0)=0$. Notemos que:"
   ]
  },
  {
   "cell_type": "code",
<<<<<<< Updated upstream
   "execution_count": 29,
=======
   "execution_count": 46,
>>>>>>> Stashed changes
   "metadata": {},
   "outputs": [
    {
     "data": {
      "text/latex": [
       "$$2$$"
      ],
      "text/plain": [
       "2"
      ]
     },
<<<<<<< Updated upstream
     "execution_count": 29,
=======
     "execution_count": 46,
>>>>>>> Stashed changes
     "metadata": {},
     "output_type": "execute_result"
    }
   ],
   "source": [
    "f = x**2\n",
    "#d2f = sym.diff(f, x, x)\n",
    "d2f = sym.diff(f, x, 2)\n",
    "d2f"
   ]
  },
  {
   "cell_type": "code",
<<<<<<< Updated upstream
   "execution_count": 30,
=======
   "execution_count": 47,
>>>>>>> Stashed changes
   "metadata": {},
   "outputs": [
    {
     "data": {
      "text/latex": [
       "$$\\mathrm{True}$$"
      ],
      "text/plain": [
       "True"
      ]
     },
<<<<<<< Updated upstream
     "execution_count": 30,
=======
     "execution_count": 47,
>>>>>>> Stashed changes
     "metadata": {},
     "output_type": "execute_result"
    }
   ],
   "source": [
    "d2f>0"
   ]
  },
  {
   "cell_type": "markdown",
   "metadata": {},
   "source": [
    "Por tanto, por el criterio de la segunda derivada, $f(0)=0$ es un mínimo relativo (en efecto, el mínimo global)."
   ]
  },
  {
   "cell_type": "markdown",
   "metadata": {},
   "source": [
    "### Actividad\n",
    "¿Qué pasa con $g(x)=x^3$ al intentar utilizar el criterio de la segunda derivada? (usar `sympy`)."
   ]
  },
  {
   "cell_type": "code",
   "execution_count": 31,
   "metadata": {},
   "outputs": [
    {
     "data": {
      "text/latex": [
       "$$x^{3}$$"
      ],
      "text/plain": [
       " 3\n",
       "x "
      ]
     },
     "execution_count": 31,
     "metadata": {},
     "output_type": "execute_result"
    }
   ],
   "source": [
    "g(x)"
   ]
  },
  {
   "cell_type": "code",
   "execution_count": 32,
   "metadata": {},
   "outputs": [
    {
     "data": {
      "text/latex": [
       "$$6 x$$"
      ],
      "text/plain": [
       "6⋅x"
      ]
     },
     "execution_count": 32,
     "metadata": {},
     "output_type": "execute_result"
    }
   ],
   "source": [
    "d2g = sym.diff(g(x), x, 2)\n",
    "d2g"
   ]
  },
  {
   "cell_type": "code",
   "execution_count": 33,
   "metadata": {},
   "outputs": [
    {
     "data": {
      "text/latex": [
       "$$0$$"
      ],
      "text/plain": [
       "0"
      ]
     },
     "execution_count": 33,
     "metadata": {},
     "output_type": "execute_result"
    }
   ],
   "source": [
    "d2g.subs(x, 0)"
   ]
  },
  {
   "cell_type": "markdown",
   "metadata": {},
   "source": [
    "## 3. Método para determinar extremos absolutos de una función continua y=f(x) en [a,b] \n",
    "\n",
    "- Evaluar $f$ en los extremos $x=a$ y $x=b$.\n",
    "- Determinar todos los valores críticos $c_1, c_2, c_3, \\dots, c_n$ en $(a,b)$.\n",
    "- Evaluar $f$ en todos los valores críticos.\n",
    "- El más grande y el más pequeño de los valores de la lista $f(a), f(b), f(c_1), f(c_2), \\dots, f(c_n)$ son el máximo absoluto y el mínimo absoluto, respectivamente, de f en el intervalo [a,b]."
   ]
  },
  {
   "cell_type": "markdown",
   "metadata": {
    "collapsed": true
   },
   "source": [
    "### Ejemplo\n",
    "\n",
    "Determinar los extremos absolutos de $f(x)=x^2-6x$ en $\\left[0,5\\right]$.\n",
    "\n",
    "Obtenemos los puntos críticos de $f$ en $\\left[0,5\\right]$:"
   ]
  },
  {
   "cell_type": "code",
<<<<<<< Updated upstream
   "execution_count": 34,
=======
   "execution_count": 48,
>>>>>>> Stashed changes
   "metadata": {},
   "outputs": [
    {
     "data": {
      "text/latex": [
       "$$x^{2} - 6 x$$"
      ],
      "text/plain": [
       " 2      \n",
       "x  - 6⋅x"
      ]
     },
<<<<<<< Updated upstream
     "execution_count": 34,
=======
     "execution_count": 48,
>>>>>>> Stashed changes
     "metadata": {},
     "output_type": "execute_result"
    }
   ],
   "source": [
    "f = x**2-6*x\n",
    "f"
   ]
  },
  {
   "cell_type": "code",
<<<<<<< Updated upstream
   "execution_count": 35,
=======
   "execution_count": 49,
>>>>>>> Stashed changes
   "metadata": {},
   "outputs": [
    {
     "data": {
      "text/latex": [
       "$$2 x - 6$$"
      ],
      "text/plain": [
       "2⋅x - 6"
      ]
     },
<<<<<<< Updated upstream
     "execution_count": 35,
=======
     "execution_count": 49,
>>>>>>> Stashed changes
     "metadata": {},
     "output_type": "execute_result"
    }
   ],
   "source": [
    "df = sym.diff(f, x)\n",
    "df"
   ]
  },
  {
   "cell_type": "code",
<<<<<<< Updated upstream
   "execution_count": 36,
=======
   "execution_count": 50,
>>>>>>> Stashed changes
   "metadata": {},
   "outputs": [
    {
     "data": {
      "text/latex": [
       "$$\\left [ 3\\right ]$$"
      ],
      "text/plain": [
       "[3]"
      ]
     },
<<<<<<< Updated upstream
     "execution_count": 36,
=======
     "execution_count": 50,
>>>>>>> Stashed changes
     "metadata": {},
     "output_type": "execute_result"
    }
   ],
   "source": [
    "x_c = sym.solve(df, x)\n",
    "x_c"
   ]
  },
  {
   "cell_type": "markdown",
   "metadata": {},
   "source": [
    "Evaluamos $f$ en los extremos y en los puntos críticos:"
   ]
  },
  {
   "cell_type": "code",
   "execution_count": 51,
   "metadata": {},
   "outputs": [
    {
     "data": {
      "text/latex": [
       "$$\\left ( 0, \\quad -5, \\quad -9\\right )$$"
      ],
      "text/plain": [
       "(0, -5, -9)"
      ]
     },
     "execution_count": 51,
     "metadata": {},
     "output_type": "execute_result"
    }
   ],
   "source": [
    "f.subs(x, 0), f.subs(x, 5), f.subs(x, x_c[0])"
   ]
  },
  {
   "cell_type": "markdown",
   "metadata": {},
   "source": [
    "Concluimos que el máximo absoluto de $f$ en $\\left[0,5\\right]$ es $0$ y se alcanza en $x=0$, y que el mínimo absoluto es $-9$ y se alcanza en $x=3$."
   ]
  },
  {
   "cell_type": "code",
<<<<<<< Updated upstream
   "execution_count": 37,
=======
   "execution_count": 52,
>>>>>>> Stashed changes
   "metadata": {},
   "outputs": [
    {
     "data": {
      "image/png": "iVBORw0KGgoAAAANSUhEUgAAAeYAAAF3CAYAAABwqegpAAAABHNCSVQICAgIfAhkiAAAAAlwSFlz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\nA8CImAFgRMwAMBKhxgtvmwIlLAAAAABJRU5ErkJggg==\n",
      "text/plain": [
<<<<<<< Updated upstream
       "<matplotlib.figure.Figure at 0x7fcb03da6f60>"
=======
       "<matplotlib.figure.Figure at 0x116133fd0>"
>>>>>>> Stashed changes
      ]
     },
     "metadata": {},
     "output_type": "display_data"
    }
   ],
   "source": [
    "f_num = sym.lambdify([x], f, 'numpy')\n",
    "x_vec = np.linspace(0, 5, 100)\n",
    "\n",
    "plt.figure(figsize=(8,6))\n",
    "plt.plot(x_vec, f_num(x_vec), 'k', label = '$y=f(x)$')\n",
    "plt.plot([0], [0], '*r', label = '$(0,0=\\max_{0\\leq x\\leq 5} f(x))$')\n",
    "plt.plot([3], [-9], '*b', label = '$(3,-9=\\min_{0\\leq x\\leq 5} f(x))$')\n",
    "plt.legend(loc='best')\n",
    "plt.xlabel('x')\n",
    "plt.show()"
   ]
  },
  {
   "cell_type": "markdown",
   "metadata": {},
   "source": [
    "### Actividad\n",
    "Determinar los valores extremos absolutos de $h(x)=x^3-3x$ en $\\left[-2.2,1.8\\right]$, usando `sympy`. Mostrar en una gráfica."
   ]
  },
  {
   "cell_type": "code",
<<<<<<< Updated upstream
   "execution_count": 38,
   "metadata": {
    "collapsed": true
   },
=======
   "execution_count": 67,
   "metadata": {},
>>>>>>> Stashed changes
   "outputs": [],
   "source": [
    "def h(x):\n",
    "    return x**3-3*x"
   ]
<<<<<<< Updated upstream
=======
  },
  {
   "cell_type": "code",
   "execution_count": 68,
   "metadata": {},
   "outputs": [
    {
     "data": {
      "text/latex": [
       "$$\\left [ -1, \\quad 1\\right ]$$"
      ],
      "text/plain": [
       "[-1, 1]"
      ]
     },
     "execution_count": 68,
     "metadata": {},
     "output_type": "execute_result"
    }
   ],
   "source": [
    "dh = sym.diff(h(x), x)\n",
    "x_c = sym.solve(dh, x)\n",
    "x_c"
   ]
  },
  {
   "cell_type": "code",
   "execution_count": 69,
   "metadata": {},
   "outputs": [
    {
     "data": {
      "text/latex": [
       "$$\\left ( -4.048000000000003, \\quad 2, \\quad -2, \\quad 0.4320000000000004\\right )$$"
      ],
      "text/plain": [
       "(-4.048000000000003, 2, -2, 0.4320000000000004)"
      ]
     },
     "execution_count": 69,
     "metadata": {},
     "output_type": "execute_result"
    }
   ],
   "source": [
    "h(-2.2), h(x_c[0]), h(x_c[1]), h(1.8)"
   ]
  },
  {
   "cell_type": "code",
   "execution_count": 71,
   "metadata": {},
   "outputs": [
    {
     "data": {
      "image/png": "iVBORw0KGgoAAAANSUhEUgAAAeoAAAF3CAYAAABqlQinAAAABHNCSVQICAgIfAhkiAAAAAlwSFlz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\n0C8AAAAASUVORK5CYII=\n",
      "text/plain": [
       "<matplotlib.figure.Figure at 0x115cbaef0>"
      ]
     },
     "metadata": {},
     "output_type": "display_data"
    }
   ],
   "source": [
    "x_Vec = np.linspace(-2.2, 1.8, 100)\n",
    "\n",
    "plt.figure(figsize=(8,6))\n",
    "plt.plot(x_Vec, h(x_Vec), 'k', label = '$y=f(x)$')\n",
    "plt.plot([x_c[0]], [h(x_c[0])], '*r', label = '$(0,0=\\max_{0\\leq x\\leq 5} f(x))$')\n",
    "plt.plot([-2.2], [h(-2.2)], '*b', label = '$(3,-9=\\min_{0\\leq x\\leq 5} f(x))$')\n",
    "plt.legend(loc='best')\n",
    "plt.xlabel('x')\n",
    "plt.show()"
   ]
>>>>>>> Stashed changes
  },
  {
   "cell_type": "code",
   "execution_count": 39,
   "metadata": {},
   "outputs": [
    {
     "data": {
      "text/latex": [
       "$$\\left [ -1, \\quad 1\\right ]$$"
      ],
      "text/plain": [
       "[-1, 1]"
      ]
     },
     "execution_count": 39,
     "metadata": {},
     "output_type": "execute_result"
    }
   ],
   "source": [
    "dh = sym.diff(h(x), x)\n",
    "x_c = sym.solve(dh, x)\n",
    "x_c"
   ]
  },
  {
   "cell_type": "code",
   "execution_count": 40,
   "metadata": {},
   "outputs": [
    {
     "data": {
      "text/latex": [
       "$$\\left ( -4.048000000000003, \\quad 2, \\quad -2, \\quad 0.4320000000000004\\right )$$"
      ],
      "text/plain": [
       "(-4.048000000000003, 2, -2, 0.4320000000000004)"
      ]
     },
     "execution_count": 40,
     "metadata": {},
     "output_type": "execute_result"
    }
   ],
   "source": [
    "h(-2.2), h(x_c[0]), h(x_c[1]), h(1.8)"
   ]
  },
  {
   "cell_type": "code",
   "execution_count": 41,
   "metadata": {},
   "outputs": [
    {
     "data": {
      "image/png": "iVBORw0KGgoAAAANSUhEUgAAAeoAAAF3CAYAAABqlQinAAAABHNCSVQICAgIfAhkiAAAAAlwSFlz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\nBR8C2H1MAAAAAElFTkSuQmCC\n",
      "text/plain": [
       "<matplotlib.figure.Figure at 0x7fcb03d9e128>"
      ]
     },
     "metadata": {},
     "output_type": "display_data"
    }
   ],
   "source": [
    "x_vec = np.linspace(-2.2, 1.8, 100)\n",
    "\n",
    "plt.figure(figsize=(8,6))\n",
    "plt.plot(x_vec, h(x_vec), 'k', label = '$y=f(x)$')\n",
    "plt.plot([x_c[0]], [h(x_c[0])], '*r', label = '$\\max_{-2.2\\leq x\\leq 1.8} h(x)$')\n",
    "plt.plot([-2.2], [h(-2.2)], '*b', label = '$\\min_{-2.2\\leq x\\leq 1.8} h(x)$')\n",
    "plt.legend(loc='best')\n",
    "plt.xlabel('x')\n",
    "plt.show()"
   ]
  },
  {
   "cell_type": "markdown",
   "metadata": {},
   "source": [
    "### En varias variables...\n",
    "\n",
    "El procedimiento es análogo. \n",
    "\n",
    "Si una función $f:\\mathbb{R}^n\\to\\mathbb{R}$ alcanza un máximo o mínimo local en $\\boldsymbol{x}=\\boldsymbol{c}\\in\\mathbb{R}^n$, y $f$ es diferenciable en el punto $\\boldsymbol{x}=\\boldsymbol{c}$, entonces $\\left.\\frac{\\partial f}{\\partial \\boldsymbol{x}}\\right|_{\\boldsymbol{x}=\\boldsymbol{c}}=\\boldsymbol{0}$ (todas las derivadas parciales en el punto $\\boldsymbol{x}=\\boldsymbol{c}$ son cero).\n",
    "\n",
    "**Criterio de la segunda derivada:** para ver si es máximo o mínimo, se toma la segunda derivada (matriz jacobiana) y se verifica definición negativa o positiva, respectivamente.\n",
    "\n",
    "Si se restringe a cierta región, hay ciertas técnicas. La más general, pero también la más compleja es la de **multiplicadores de Lagrange**."
   ]
  },
  {
   "cell_type": "code",
<<<<<<< Updated upstream
   "execution_count": 42,
=======
   "execution_count": 74,
>>>>>>> Stashed changes
   "metadata": {},
   "outputs": [
    {
     "data": {
      "text/latex": [
       "$$\\left ( x, \\quad y\\right )$$"
      ],
      "text/plain": [
       "(x, y)"
      ]
     },
<<<<<<< Updated upstream
     "execution_count": 42,
=======
     "execution_count": 74,
>>>>>>> Stashed changes
     "metadata": {},
     "output_type": "execute_result"
    }
   ],
   "source": [
    "sym.var('x y')\n",
    "x, y"
   ]
  },
  {
   "cell_type": "code",
<<<<<<< Updated upstream
   "execution_count": 43,
=======
   "execution_count": 75,
>>>>>>> Stashed changes
   "metadata": {
    "collapsed": true
   },
   "outputs": [],
   "source": [
    "def f(x, y):\n",
    "    return x**2 + y**2"
   ]
  },
  {
   "cell_type": "code",
<<<<<<< Updated upstream
   "execution_count": 44,
=======
   "execution_count": 76,
>>>>>>> Stashed changes
   "metadata": {},
   "outputs": [
    {
     "data": {
      "text/latex": [
       "$$\\left ( 2 x, \\quad 2 y\\right )$$"
      ],
      "text/plain": [
       "(2⋅x, 2⋅y)"
      ]
     },
<<<<<<< Updated upstream
     "execution_count": 44,
=======
     "execution_count": 76,
>>>>>>> Stashed changes
     "metadata": {},
     "output_type": "execute_result"
    }
   ],
   "source": [
    "dfx = sym.diff(f(x,y), x)\n",
    "dfy = sym.diff(f(x,y), y)\n",
    "dfx, dfy"
   ]
  },
  {
   "cell_type": "code",
<<<<<<< Updated upstream
   "execution_count": 45,
=======
   "execution_count": 77,
>>>>>>> Stashed changes
   "metadata": {},
   "outputs": [
    {
     "data": {
      "text/latex": [
       "$$\\left \\{ x : 0, \\quad y : 0\\right \\}$$"
      ],
      "text/plain": [
       "{x: 0, y: 0}"
      ]
     },
<<<<<<< Updated upstream
     "execution_count": 45,
=======
     "execution_count": 77,
>>>>>>> Stashed changes
     "metadata": {},
     "output_type": "execute_result"
    }
   ],
   "source": [
    "xy_c = sym.solve([dfx, dfy], [x, y])\n",
    "xy_c"
   ]
  },
  {
   "cell_type": "code",
<<<<<<< Updated upstream
   "execution_count": 46,
   "metadata": {},
   "outputs": [
    {
     "data": {
      "text/latex": [
       "$$0$$"
      ],
      "text/plain": [
       "0"
      ]
     },
     "execution_count": 46,
     "metadata": {},
     "output_type": "execute_result"
    }
   ],
=======
   "execution_count": 78,
   "metadata": {
    "collapsed": true
   },
   "outputs": [],
>>>>>>> Stashed changes
   "source": [
    "x_c, y_c = xy_c[x], xy_c[y]\n",
    "x_c"
   ]
  },
  {
   "cell_type": "code",
<<<<<<< Updated upstream
   "execution_count": 49,
=======
   "execution_count": 79,
>>>>>>> Stashed changes
   "metadata": {},
   "outputs": [
    {
     "data": {
      "text/latex": [
       "$$\\left \\{ 2 : 2\\right \\}$$"
      ],
      "text/plain": [
       "{2: 2}"
      ]
     },
<<<<<<< Updated upstream
     "execution_count": 49,
=======
     "execution_count": 79,
>>>>>>> Stashed changes
     "metadata": {},
     "output_type": "execute_result"
    }
   ],
   "source": [
    "d2fx = sym.diff(f(x,y), x, 2)\n",
    "d2fy = sym.diff(f(x,y), y, 2)\n",
    "dfxy = sym.diff(f(x,y), x, y)\n",
    "\n",
    "Jf = sym.Matrix([[d2fx, dfxy], [dfxy, d2fy]])\n",
    "Jf.eigenvals()"
   ]
  },
  {
   "cell_type": "code",
<<<<<<< Updated upstream
   "execution_count": 50,
=======
   "execution_count": 80,
>>>>>>> Stashed changes
   "metadata": {
    "collapsed": true
   },
   "outputs": [],
   "source": [
    "import matplotlib.pyplot as plt\n",
    "from mpl_toolkits.mplot3d import Axes3D"
   ]
  },
  {
   "cell_type": "code",
<<<<<<< Updated upstream
   "execution_count": 52,
=======
   "execution_count": 81,
>>>>>>> Stashed changes
   "metadata": {},
   "outputs": [
    {
     "data": {
      "text/plain": [
<<<<<<< Updated upstream
       "[<mpl_toolkits.mplot3d.art3d.Line3D at 0x7fcb03c08470>]"
      ]
     },
     "execution_count": 52,
=======
       "[<mpl_toolkits.mplot3d.art3d.Line3D at 0x115d45ef0>]"
      ]
     },
     "execution_count": 81,
>>>>>>> Stashed changes
     "metadata": {},
     "output_type": "execute_result"
    },
    {
     "data": {
      "image/png": "iVBORw0KGgoAAAANSUhEUgAAAWQAAADuCAYAAAAOR30qAAAABHNCSVQICAgIfAhkiAAAAAlwSFlz\nAAALEgAACxIB0t1+/AAAIABJREFUeJzsvXl0ZPtd3fs5Nc+l0jzPaqnn2+rZxhBDnm0wvIBjbAg8\nYt7zgwwEk0AWPEhwHAY7ifNYxvCI8cWQ2JjLYMA2xmD72vgOfXtSz92SWkNpqnme5zrvj9I5Kkkl\nqUqtvlZfn73WXXd1qfQ7p0pV+3zP97f3/gqiKKJAgQIFCr71UH2rT0CBAgUKFFSgELICBQoUHBIo\nhKxAgQIFhwQKIStQoEDBIYFCyAoUKFBwSKAQsgIFChQcEiiErECBAgWHBAohK1CgQMEhgULIChQo\nUHBIoGnw+YqtT4ECBQoah1DPk5QKWYECBQoOCRRCVqBAgYJDAoWQFShQoOCQQCFkBQoUKDgkUAhZ\ngQIFCg4JFEJWoECBgkMChZAVKFCg4JBAIWQFChQoOCRQCFmBAgUKDgkUQlagQIGCQwKFkBUoUKDg\nkEAhZAUKFCg4JGg0XEiBgl0hiiKlUgkAtVqNINSVqaJAgQIUQlZwQCiXy5RKJYrFIrlcTn5cEATU\narX8n0qlQqVSIQiCQtYKFGyBQsgKngjlcplisShXxQDZbBaj0SgTrkTUW38vk8ngcDjQaDQKUStQ\ngELICvYBURQpl8uk02k0Go38mM/nY2lpCa1WSz6fRxRFjEYjZrMZk8kk/1+tVpPP51laWsJsNpPP\n5+W1BUFApVKhVqsVolbwbQdBFBvKnFcC6r+NIRGx1Ja4e/cuk5OTuN1uVldXaW1tZWBgQCZPURTJ\nZrOkUin5v3Q6TblcRqvVks1mGRwcxGw2YzabUavViKIo/7cV1a0Pqf2hELWCZwR1fUgVQlawJ6qJ\nuFwuIwgC2WyW69evo1ar6erqor+/H61WiyiK5PP5XUlSFEUSiQSzs7N0dHTIRF0qldDr9ZsqarPZ\njEaj2UTUoijK63s8Hnp7e2WC3tqnVqDgkKCuD6PSslCwIyTFRLFYlEmwUCiwsrKCz+cD4PLly6jV\n6obWFQQBg8GAVqulv79/0/Hy+bxcTXs8HlKpFKVSCZ1OJxO0RNharRa32013dzelUmkTUQMyQdfa\nUFSg4DBCIWQF21CLiPP5PE6nk0gkQn9/P5cvX+batWt1kXEmX8Co0256TGppbH1Mr9ej1+tpbm7e\ndD6FQkEmaq/XSyqVolgskslkmJ+f31RV63Q6uZIuFArbKnaFqBUcViiErECGKIqkUilEUUSj0SAI\nAplMBqfTSSKRYGhoiImJiT2Jq/rnoijyr37vy/z+z7wTbYOVdPV6Op0OnU6Hw+HY9LNr167R3t5O\nKpUiEAiwtLREoVBAo9FsqqYlopZQLBYpFAoA+P1+TCYTNptNIWoF31IohKwAURQpFosUi0VWV1fR\n6/VYrVYWFxfJ5/MMDQ1x/PjxfRHT7UUvrzxa5VNfvctPv2NSfrxWhbwfqFQqmpqaaGpq2vR4oVAg\nnU6TSqUIhUKsrKyQz+dRq9WbWh9ms5lkMimTdTVRV5/rVtWHYnpR8DSgEPK3MarNHFAhnlwuh9vt\nxmg0Mjw8vK0ibRRXZ10IAvzul27wfedG6Wu1ycc6CELeCVqtFrvdjt1u3/R4sViUiTocDrO6uko8\nHicUCmG32zdV1QaDQf69rS0cURR3bX0oZK1gP1AI+dsQtcwcoVAIp9NJsVikvb2dI0eO7Hv9atJ6\n4aUHTA53MbXg4YN//E0+9YEf2PS81xsajQabzYbNZpMfm5+fx263YzAYSKVSRKNRXC4X2WwWlUq1\nSfFhMpkwGo3y71Zf0GZnZxkfH5e11BqNRiFqBQ1BIeRvE1RvcpXLZflxv9+P0+nEarVy/PhxIpHI\nJqJ+Etxx+vBEkqRzBZrMBl6ZXuHLU/N879nRQ0VMUs/carVitVo3/axUKskVdTwex+PxkM1mATYR\ntdT6UKkqeV3lcnmThRwU04uCvaEQ8hsckmIiHo/LlZ0oing8HlZWVnA4HJw5c0a+PY/FYtt6qPs9\n7pdvzlXWTOeYHO4imcvzn154mUvjvTSZ9d+SCrlRqNXqmkQtORXT6TTJZBKfz0c6nebmzZuyO1H6\nz2g0olKpZD13qVTa5E6UjqOYXhQohPwGRbWZo1QqcffuXS5cuMDa2houl4v29nbOnTu3SXkAlU2y\n6gq6UVS79P7u1oL8+K1FD2851s9jd4Tf+PNX+G/v+559H+MwQKVSYbFYsFgsQIWgb926xeTkJJlM\nRq6qA4EA6XR6k428uv2xlaij0SjxeFzWZ9fqUSvKjzcuFEJ+g6GWhrhUKpHL5bh69So9PT1cvHhR\nzqDYCokg9otCoYDb7WbGHaPFasATSQIgCBBMZDDoNHz+2mN+4PwYpn0f5WCx1VDyJGuoVCqZcNva\n2jb9PJPJyFrqUCgk28gNBoP8O4VCgWKxKNvIJaJWTC/fHlAI+Q2CnVx1S0tLBINBBEGoy1UnCMK+\nKuR8Ps/y8jJ+v5/29na+dHMOVzCGXqMiVyzT6zAxvRrkuaE27iwF+dALL/PB7x3d78s9dNiL1AVB\nwGQyYTKZthG1lPeRTqdloo5EIrKNvLqirraRK6aXNx4UQn7GIWmIq6uobDbL0tIS0WiUwcFBxsbG\nuHr1al2uukZbFrlcTib9gYEBLl++TC6f58r814ik8lw40sP1OTftTVZWwxnuLgXpdRjRUOR/vuqk\nzWHbRDoGg+FbQh4HVSHv57hGo1Hu7xsMBtLpNAMDA+RyObmidrlcct7HVht5dd4HVKR9a2trlMtl\nurq6AIWonxUohPyMQhRF0um03LMVBIF0Os3i4iLpdJqhoSGOHj3a8Beu3pZFNpslm80yNTUlk76k\nMHhtZo1gPA3AzTk3w50OVkNJ+bzVai0tTWZemffy3rSa0816YrEYbrdblpptJRy9Xv/UyOMwbS6W\ny2WZKA0GAwaDgZaWFvnnW/M+qm3kWq1Wfr/S6TR6vV5ufUBt04tEzLUkegpefyiE/Iyh2swxNTXF\n5OSkTMTFYpHh4WGam5v3/YXaq2UhHSuRSKDRaLh48eK2yvsb95wb5yuKOMx6lv0x+TFXKEFPS0W1\n8Bufu8aXfvW9dHZ2yj8vlUoy4UQiEdbW1sjlcqjV6m1Ss8NCppJR5CDW2av1USvvA9hE1PF4nEKh\ngNfr3WQjl/7TajeyRRTTy+GBQsjPCGqZOUqlErdu3UKr1TI8PLzNPrwf7NSySCaTLC4ukslkZCv1\ntWvXtj0vmy/yzftLmPVaUrlKNaYSBCZHOrkx5wFgvLeFa4/ddNsNuCMpPvznV/jNn3irvIZard5m\n3oDNLjuJqNPpNFNTU5hMJiwWi0w4Op2uIeI4iJbFQUCqkPeD6ryPUqmEwWCgo6NjUzBTdd5HLRt5\nteqmVCrJFfjAwACwoaVWTC9PBwohH2LsZOYIBoM4nU5yuRwnT56ktbW17vX2+tJsbVkkEgkWFhbI\n5/MMDw/T0tIir1HL/vzi3QWW/THOH+nhxpwblSCw6IuQyhbocljwRJIYdRpKokhJLKPVqFgOxPj7\n24u8/czwrudWy2V348YNTp8+vUm9sFtuRS2iPggyPQilhrTOQVTa1cSu1Wpr5n0Ui8VN79vq6uq2\nOxFp07D6nBTTy9ODQsiHEFsD4aXHfD4fy8vL2Gw2Tp48ydzc3Ka8hd0gkWc9SW3lcplYLMbCwgLl\ncllug2xFrWr6r159BFR6x6NdzWg1KqbXQgA0WfQEE2kee8IAeOM5Lox1k8wW+NXPvsTkcCdt9sbF\ncBqNZsfcilpEvfUW/iCciQdFyOVyueF86Z3W2YvYd3vfqvM+crkcoVBom428ehN2L9PLVrJWiLo2\nFEI+RKg1maNcLm8akTQ5OYlerwcaU0RIz93rS5pIJAiHwzIR79YG2VohhxNp/mG9fyzJ8JosGxeM\n6dUg/+jEIP/wcEV+bMETps1uIZLM8v98+hs8/zPvrOv11IOdCEdKgksmkwQCASKRCPF4fJvMbOst\n/G44zBVyo6i+EykWi2g0Grq6ujbZyKs3YSVJ31Z3YjVRZ7NZpqenOXXqlPxeKaaX7VAI+RCgWkN8\n//59RkdH0Wq1squuq6uLCxcubNqIgUrlUW91txt5i6JIOBxmcXFRVjhMTk7WfO7WNasJ+W+vz9Js\nM+FbN4O4Qgk6mzdbjjO5Ah1NZnzRFADDnQ5c622Mlx6u8sfffMCPfdeJul7TfrE1Ca5UKtHb2yuH\nC9XKVq7uT2/dFIODrZC/1YS80zp72chTqRSJRAKv17sp78NkMslDAyQiVkwvtaEQ8rcQO7nqnE4n\n0WiUnp4eLl26tKurrtEKeevxg8Egi4uLGI1Gjh49ik6n4+7du3WtuVWR8cJL9+l0WGRCPtrXyq15\nDz3NVlzhBDqNmgcrAQY67DIhp3IFPOEkZ0e7mJr38ne3Fjk32sV4T0vNYz5N7NRrLRQKJJNJUqkU\nPp+vpszsSR2OEg4bsZdKpT1bKFtt5NXnILkTo9EomUyGqakpAIxG47YUPek9/HY2vSiE/C1ALTNH\nPp9naWmJcDhMX18fly9f3vML1Qghq9XqTf1oKeXNYrFw4sQJzGYzwKa+9V6oblk8Xgtyf6kyZ++5\noS7uOL2AQK5YwmrUIQgVgr7r9PNoJci5sW4erwWYdVX6y1PzHp4b6mDaFebffepFPveL78Kge30+\nnnuRoFarxeFwbMuGrpaZhUIhotEo169f30TUUmW900W10XOpF4eh0q7Wk+v1lTCp8fFxuYUhvXfB\nYHBT3sdWot6qpb5//z79/f2YTCb5OG8UolYI+XVE9WQOQHbVSbrewcFByuUyra2tdX0JGm1ZFItF\nPB4PTqeTpqYmTp8+vSnbV3peI1W39EX5s5fvy4+vhaJ0Oiw8XPUDMLNWIeBCaaOCfLjsY6zdwn13\nQn6sJJbRaVTMeSL8xl9c4df+2XfWdR7fKlTLzOx2OxqNhomJiR2NGzs57KpxGIi0GvVUyI2uI20O\n7mYjlzYUt+Z9mEwmstmsTL57mV4+9rGP8Uu/9EvbWkyHFQohvw6oNZlD0vVms1mGh4flEUmJROJA\n+sJbj5/JZLh79y5tbW1MTk7uqM5oZJKH1LIolso8WPbJjwfjGZ7rd+CNbqyz5ItgqNogy+Qrdwdq\nlUCpXHmeTqOhzWYinMjyp69M85ajvbxtDyncYUF1ZVtr/l+9E7VzudwTpe1JOCi1xtMg5J1QbSOv\nlnKKorjJRp5Op3n06BHlclneiK2uqqtt5J/73Of4lV/5lSc+/9cLCiE/RUiKiZmZGUZHR1GpVESj\nURYXFxFFsaacrJGqd6/nlstlXC4XKysrCILA+Pg47e3tu67ZqJlCFEW+dnueubWAHCQEkCoIjHU1\nMeeJAtBi0pBbvyABNFv03HfFOX+km5vzXtQqgXlPhFgqx4Uj3Vyf8/D/fvEmR3paGGy31zz+QeEg\n0952wm4TtauJOplMMj8/z8LCQk3VR73kWCqVDlXr40mIfauN3OfzcfbsWYAdL3Krq6t85StfQRRF\nXnvtNY4dO/bE48h+67d+i+effx5BEDh58iR/+Id/WLfstF4ohHzAqGXmiEQiBINBlpeX0el0jI2N\nbXOhSWi0ZVCLkKUPpMvloqOjgwsXLrCwsHAglU41BEEgGAzyPz7/EoF4hgvrZpDeVhtzngi9rTb0\nWjW5Qgm1zsCSL8jZkU6mFnz0NVsIp/JMzXvpthvQa9U4g5X8i6k5D5eOdHN1zsPPPv81/vzf/xP0\n2sP9Ud3vht5Wok4mk/T29mKxWHYMF6qHqA8DkT6NdSRIF5udLnIjIyPo9Xpu377NZz/7WR4+fMhb\n3/pWPvjBD+7reC6Xi9/+7d/m0aNHGI1G3vOe9/DCCy/wvve97yBejozD/Sl/hlDLzAGVEUnJZBKv\n18uxY8e27URvRaMVcnXfTJoa7XK56O7u3pR7/KTB89WQTCo+n4+SxsDd1QhQMYOMdDXTajWxFkyw\nFoxz4UgPTl+U6dUgUNEidzksJPKVcymLIoJag8Nmlgm5JIqkEnHMOjUzrhA///zf8av/9AIWi0XW\ntx42HPRm3G7hQluJOpVKbctVlpQ7T4pSqXRgxF6vpltCKJXHoteg1zR2fEEQaGlp4e1vfzsf/ehH\n+d3f/d2Gfn8nFItFMpkMWq2WdDpNd3f3gaxbDYWQnxC1zByiKOL1elleXsbhcNDU1MTY2Ji8K7wb\ntpLsbpAq5EKhwPLyMl6vl97e3pq5xwdByNLrcjqdOBwO2tvb+cbjkNwDLosiArDsj8q/c3POzXcc\n7+elR6sApPNFxnvN3F0KyM/xxVL0tW1uSwSzMNTh4OFakK88cHO6b57LgzYymQzAJuLJZDJPFNv5\nerQsDmqd3Yi6ekMsn89z586dbURdrVyoBwfViy4Wi9s2kHdDtlDiE68s88tvH9v0eCMXmVgsts0U\ntF/09PTwC7/wC/T392M0Gnnb297G2972tgNZuxoKIe8TtTTEUs92bW2NtrY2eUTSvXv3Gqp6JVH9\nXiiXywQCAXw+H319fbzpTW/asZp5EkKWZvAtLS3hcDjkTcFH0zN8+h/uc3ygnYfLFUWFUa+l2WbC\nu64zLosiyWwerUZFYb2/rNWoODu6ETY00dPK1VkXzw11csfpY7iziUVfHE8kxYWxTvzxDB/76gwX\n/u33c/5Eu2xESCaTlEol5ubmNsV2PknI0H5xkBXyk+Yqt7a24vf7OXfu3K7KhZ1GSh3E+WxFqVSq\nW/pXFkX+61cXGGzZTuCNtGLi8fiBBG5Bpe34+c9/XlYo/fAP/zCf+cxn+PEf//EDWV+CQsgNQtqE\niUQi2O122cyxurqK2+3e1iqAihW1WLWhtRuq9cI7IZfL4XQ68fv9GI1Gzp49e6CaZQnVRNzc3MzZ\ns2dl2zbAjQU/3kgKjVq90StWCdxd9NDdbMUdTjDS5eDWglcOqgdYDcYJxNN02Q14Ylm067ek854Q\nnU1mWqwmFn3xyjHmvbzlWB9L/jj/5pNf4y9/8QdptZlkI8Lq6iqnTp0CNjIYkslkzeyKaqI+aBnU\nYbNOS5XkbsqF6pFSW7XA1TkfB/HaGukhf+Qr8zhDaX76O/q3/UyycteDaDR6YBXy1772NYaGhmSZ\n3rve9S6uXLmiEPK3CtVmjlwux/z8PKdOnWJ5eZlAILBjqwAa1wvv9NxMJiO7+AYHB+no6MDtdtf1\nBW6EkEVRxOVysby8XJOIJXxxahGAtWCcSxP9PHYHebDko1gWsZl0eCLQbDGyQJSbc27GupoRVAKP\n3ZVwoXK5TJNZz8xapb+czBbodFhwrzv9KucCvmiKjqZK1f2zz7/IH/3s96HTbH+fa6XBAZviJ6ud\ndpLcTCImKdB9Pzhsho69sNtIqWqiLhQKTE1NbSJq6cImTdOuB/US8h9cWeHmcowuu54O23YFQyOE\nfJAti/7+fq5evUo6ncZoNPLiiy9y7ty5A1m7Ggoh74FaZo5SqUQikWBqaoqBgQFZ0rYTnlTKVh0K\nPzw8LE8CaVSzvNdzy+WyLB1KJpM7EjHAsi+C0x+X/33z8SpvPjHESw+WgIoZ5OKRXqbXybYsimRy\nebpaNsjSl8jxncf6eHnaJT8mAN3NFlzrE0YG2+3MuiMMdzSh1+ZIZPN86E+v8Bs/9pa6XjfUtkRL\nSphkMkk4HJaT9Lb2XC0WS81b+a14vXrI9eJJBhRUE7Xf7+f8+fOb3HXJZBK/3y/387e2PmoRdT2E\n/IV7Xj59fY3RVjPfNVbbOt9I6yMWix1Yy+LixYu8+93vZnJyEo1Gw5kzZ/ipn/qpA1m7Ggoh74Ba\nZo5UKoXT6SSVSqFWq7l8+XJdH/z9EnJ1KHy1eURCoxK5nTYLpUS55eVlWltbMZvNHDlyZNfX9r9e\nvEWL1UAgXvlSlkSRdDaPShAor98u54tFTAYd8UwljtEfS9O7RVMcSeY4NdjOvaVKD7rJYuDGnIfT\ng+3cXQrQbjexFIiz6ItyZqgDjVrFX7z2mLEuB+/77v2HEAmCgE6no7m5GZPJxMjICEajsWbPNZVK\nyRViddujkQqxXhwUIR80dnLXVedVpFKpmkRtsVjI5/O7vlffnAvxyVdXsBs0LEcyvP1oW83nSRO5\n68FBEjLAhz70IT70oQ8d2Hq1oBDyFmydzCEIAvF4XB6RNDQ0REtLC6+99lrdXxy1Wt1QDzmbzXLn\nzh0KhcKuI5meNO2t2jjS1tbG+fPn0el0RCKRXXfXM7kCf/bSfWKpLMf7Wnm4GuJ4fwc35lxcmujj\n2uwaAPliCYfZgC+aRBThWH8bV2ddHO9v5+FKAKtBw/RqELNRT5vdRCieYdFXGfW04I3Q3WxhLbRh\nrb6z5OPSeA8A/+WvrjPQZmN3EWF9qCbBvXquUshQNfGYTKb1WYHqJ1Z8HETL4qA24upZpzqvYuvv\nSkSdSCRIp9PcuXOnZlTnQ3+O3/mmE6NOhSjCQIsJu7F2j7/RHnJfX199L/aQQCFkdp7MIbnqVCrV\nE41I0mg02yYs1EIsFmNubo5kMsmZM2f2dBbtN+2tmojb29tlIt763J0I+S9eeUAsVVGCuCNJLAYd\n2vWe7p2FyoZeWRR5tBJEBHl6SLFUBhG84QR2k55uu54ZT5J4Ose4o4V2u5mHq5WwoWS2wEing1nP\nhoTuSJeDq7MeTva3cn8lyB+8eJ//fcLK+bregSdD9a18NSTFh2TceFLFx0FUyAdJyPvtqVcTdXt7\nO8FgkAsXLmyL6nx1eo3ffC3OkE3gUVjkdKeetw4Y5V7t1tfRCCEfpMri9cK3NSFXa4gfP35MR0cH\nVqtVHpFkMBgYHx/flv/aKPaqZCORCAsLC6hUKoaGhlhYWKjL5rkfV9/Kygqrq6u0t7fXzFiWnruT\n3lMURV57tLxx7sksbzo2IFfF2UIRs16DWafBG6lI3+45vRzra+XRakV7HEpkODXYQTi2sXk36wrx\nj04NwDohA+i1ao71NHPLWWln2Ex6RETmfREG2mzkCiX++9eX+I4Lk3Q3P1mtvF8Ck6InbTYbJpNJ\nrsiqB7XuNK1EIuvqv8Fh2hg8aHcdbI7qnPUl+fgdH8e6bCyFMxg1RdIFmGgSWVhYIJPJbJtSks1m\n67Yrx+PxA9vUe73wbUnIkoa4VCrJ1USpVMLn8/Ho0SN5RNJuRg5Jd7zfVDYpFH5hYQGdTicTv9S7\nrgf1tiwkvbLb7WZgYGBHIpaw2+Tpb95b5G+uTzPR187MOsGWy2WO9LQyvf7vBW+EU/0bt/u5Qgm9\nsJ6tsE70kWQGq1EL0UqlrdeqmZrzcKK/lQcrQQQBlvwx/LEM58e6mFrwsbg+uTqdK1IWywQSaaKZ\nIu//va/wJ//2ndhNtTcg98LTyDHeaVBrteJDcnEWCgV0Oh0Wi4VCoUA8HsdkMtVdCdY6l9drDFS9\n2HqhWQym+MhX5ul3GEnkisQyRS4PNdFi1nP0yKj8vK1TSgKBgLznsdM4KQkH3UN+PfBtRci1zByS\nxMvr9WK32zlz5kxdV2BJW1yPHbSaOLeGwm+1UzcSdL5XNVUqlVhbW2NtbQ273U57ezujo6O7/o50\nDjsR8u9/+TqIkM7m0aorX9bZ1SBalYhOrSJfKnNysINZV4iuZguecKUK9ibynOxr4c5yRXVh0YjM\n+xJ02g14Y1nGupp4sBpmNRin3W7CYTEw66pYsqfmvbz5WO8mNUaL1Ug8U0CvUbHgjfLhv7zGf3rP\nm163DOWtqLfVsJfiw+/343a75ZAcvV6/bVrJXiR5kHbng66QARaDaf6vz9xjosPMK4sRJvtsnOy2\nEssUed+lzT3frVNKpHham81Wc5yUNBH7C1/4AsFgkEwmcyBtoNnZWd773vduvIbFRf7zf/7P/NzP\n/dwTrbsV3xaEvJOrThqR1NHRQX9/v2xJrQeNELJGo6FQKODz+VhcXMRqte5ZgT8JJKPK2toaXV1d\nXLx4kUwmw9LSUl2/vxMhT6/4eGVd1rbij3J6sI10Nsecr0K6Fyf6uTa7SrEkkskXGTDp8UVSHOlp\nYcYVwh9NM9bVzKIvQiBdplAWEVSqiqkkX1GAxFI5+hwqtOLG8cuiSKFYorvZgnud4EURFn1RhlqM\nrEZyXJ/38rOf+ga/+39/j3yhaAQHYZ3eLwlWKz50Oh0TExPymlJuhSTP2+qyq6UJPshM5YOqtKX3\n1xlK8/4/vstgi4H77gQaFWhUAtPeJB02PecHdq9opR7yTuOkSqUSwWCQtrY2vF4vH/rQh/B6vUxO\nTvKpT31q369hfHycO3fuyMfo6enhh37oh/a93k54QxNyLQ1xsVhkZWUFn8+3yVW3trZWtxIC6m8X\niKJIKBQiEAig1Wp57rnnGvL0N4JqIu7u7t40/klqy9SDnTKRf++LVzna38b0SqU18WA5yFj3Rq/7\nxuwq54/0cnNuDRCYWQty/kiPnHVRWrdRnxrs4PZ6X9gdSXFxrJtbixt5yp54jvbmjVt9tQD3l3yV\n3rRegygiT7J2hjK8abybK4+9uMIpfvHTL/HRn/guVKr6CfYwjV6qxm65FZKCYasmWGp15PP5J1Z8\nHHSlPR9I8dGvLdDvMJItlIhli1watHN1Kca5fjtvGa2tJqq11k5Qq9V0dHTwL//lv+Szn/0sX/rS\nlxrKh6kHL774IiMjIwwMDBzYmhLekIQsiiLJZJJcLofZbEYQBHK5HMvLywSDQfr7+7eNSKpXCVH9\n/N0IXOpzraysYLfbsdlsHDt27Ile107YmvJWaw5fI62QWhXyaiDK31ydpsWqR62CUhmGOpvIFUuy\n9rgsiph0GnQaDflihfyd3jA288adgCecYKKnddPaIiKnBttlUj7W18rUop+zI11MLXg52tfKg9UQ\nqXyeI512dBqBh+4NU0oskeRUbxP31qJ86ZaTnhYL/+77z76uet7XUz+8k8tOUjD4/X7i8fg2xUd1\nRV2P4uOgWhbFYpG1FPy3z9zlZJeVqdUYz/XamOy1kS6U0akFMoUS332kta616umtS5916Tt+kFb5\nF154gR+s+zdbAAAgAElEQVT90R89sPWq8YYi5GozRzQaJRKJ0NfXh9PpJB6PMzAwwNjYWM2rfiN5\nE7CztlhqhayursoBQyqVSh7ueJAoFovkcjmuXr36VAeixmIxfu0Pv0ixXMYXy8itCYNOy4OVABfH\nK9pjo07D7UUPz410cn220u8d7mzGH0vL4UIOi4GXH60wOdzJrUUvUJkw4o0k6W+1sRKMo1onintL\nPsa6HLKkDuCxN8ZbT/RBFSFHMiXc0SQne+wsBZN88mv3WVr18G/+8Xhdc+0OW9rbfiEpGPL5POVy\nWd4vqFZ8hMNhWfGhVqs39actFssm4jqo1sfdtRi/fiXBsS4b15ajGDQCKkFgzp8gX4LJPjuZQpnB\nlr1beI3I3gRBOPCLZD6f5wtf+AIf/vCHD3RdCW8IQq5l5pB6ttFolKGhIY4dO7brH6dRQtZoNJta\nANWh8J2dnZuUDFIPu17speCQ2i5udyWsZzcillBPaFH18UVRJB6PMz8/TziZxZ/ceG9uzbt4briL\nu84Kod5zeuhusdHbauP6YxfXZ10c6WnhsSuEO5xkLRTnwlglXGisu4Xrcx5m1gK0WfWYDHqc62aQ\nUrlMR5OZh+vZyYVSmXQuT6aw8d7ZjDpemXFxfqSDGws+Om063NHK7fp9V4zvPtHH1x+u8ZXZEHa7\nh3/xXSN4vV45Ga56k0yyRR8EDpPDbutnZzfFhxTGFAgEcDqd8jRti8Uik18jJLgVryyE+YPXXAza\nNZREkVyxzNk+O3ddMU712FAhUCyL/JNTHXWtV2+v/qC02Fvx5S9/mcnJSTo66jvfRvFME7KUvCYR\njSAIxGIxFhcXyefzGAwGzp8/X9cfZr8VskSOHo+nZtKbdF6NQOpPb/3gFYtFlpeX8Xg8cpjRjRs3\n6lq/niyL6uM8fvwYjUbD6Ogof/M3N1nyR7Ga9CTSOQrFEs3WDSLL5IsMm/X4YxXdsSiKJDI5Tg91\ncnd9EvX1ORfH+ttxr2uT07kiDpOWVquRlUDFjecKJfjO4/28NL0mr93eZCaezmPQqskWShzpbmZq\n0ceNeS+TIx2kU2m8iY2/myeS4uxwO1OLfv727hp6g4H/8K4L8kUml8vJbrtQKEQ6nSadTjMzM4PV\napXJutHe62GqsuutbLVaLXa7fZtWVxqLJJld7t69u2lSifQe7ZWr/MX7Pn71b2aZ7DHzKFjgWJee\no50WcsUyxTIYtWpeXYxwusfKO47tPlqsUcTj8Sf2D9TCn/zJnzy1dgU844Rc/eGNRCIsLi6i0Wjk\n8S0PHz6s6wMuimLDhCwIghxC39vby6VLlw5MIiQRslRhVxNxX1/fplS5vVx1EuppWSQSCRYWFojF\nYvT19TE8PEwgluQzL94ikytwYbyPG4/XcFiMvPpoicmRTqYWKlWyoBJot1tY8lWcde7Q9l6xRgWJ\n9Eaf3hfL0tOyeVfdE01yYbSL6/OVrORCqcyCL8pzgx3cXfaTzG1sztxz+hlp35AMOsx6Zt0RRGBy\nqPIF/8zLs2TyJX79vZdRqTY2yapt0VJIVCaTIR6PyxIqtVpds/f6tHBYJk5LQ1oTiQQ6nY7Ozs5t\nk0r2Unz8+W0Pv/n381wadHDFGcGqFxBFCCVzhNNFzvfbubIY4WiHmWOdVqyGg6WiaDR64BrkVCrF\nV7/6VT7xiU8c6LrVeKYJGSAQCLCwsIDZbObo0aOypleapFEvBEFVFyHn83mWlpZwu93YbLZtm4MH\nAam9UD0JZCsRVz+3mrx3wm4XJmmwZqFQYHR0lHA4LGcTfPbrt8msk+CNx6sc6+/AZjJwdXaVRysB\nWi0GgsksKgTuOz30tNhwheK028289HCZkwPt3F8Pr1er1Ay02bm3/u+RDhvXF7xMDndye9FHb4uV\nOXcEQYhyor8Vdzgpj366s+TjzRM9vDbrkc97qKMJZyAuD1Md6Wzi5kJl7dtOP285Wsm9+Ny1eYql\nMr/xo2+qKYmTNsm23tJLvddkMkkwGGRpaYlCoSDf0leT0LNYIe+F6k29ehQfqVQKr8/H87fiuJJl\nxhwa4qnKWK6hJi2zwRQnum102iuFgVGnxqTT8D0Te2/mSceqF0/DFGI2mwmFQns/8QnwzBNyuVzm\n9OnT26RkjWxiCYJAGXYl5Gw2y9LSEuFwmIGBAY4dO0YkEnlq2bVS7vHTnASSSqWYn58nl8sxOjoq\nD4qUwoW8kQS/98UrjHY1M+8JI4qVwKDH7gpJZvJFuppMmE0G7i15AQGrUYdKEBjsaCIQT+MKxnFY\nDIgiPFgOUCiVOX+kmxtzHorr5z2zFqSv1Uanw8JaOIkoiiz7ojw33MnLMxtmkEKxzORIB1MLlTZI\nk9nAnDeGL5JksM1GMrNxATbptVx97OHsUDtTTj+roST/4pNf5+M/+V2Y9PXtuO/Ue83n83LbQ5pp\nl8lkiEQixOPxfeUFw+GpkBtZp1rxYbI5+Mhrj5jylBhtN/PAk6TbKjBgUxFKFsgVRXKpBI9CZdot\nGgabdETSec7312dvbjTp7VmzTcMbgJC7urpqElKjlYZRryOb307IUih8LBZjcHCQ8fFxBEEgEokc\n6EYdVL7oy8vLhEIhuUe81xeikc06CalUSs4KkIi4Vqzn7/zly6SyeRBAJUBZhBabiVa7maszlRl5\ni/443316hOV1W/PMaoBLR/vkyjaczHBysB2jXsf1x5Xq9vaCh8mRTm4teEEQSOeLCAJ4qoLpE9kC\n6XwRi0FLMlshWl88w1owzvG+VqbXQiyut0fimQIt1vKmdsZ4l4NbSwGmnD7OD3eQKZa4PRvg//id\nr/CJn/puWq0bF/BGK1PJxFE96Xhubg6LxYJGo9mmDd7a9tDr9TWPd5AV8n434arRiOxtNZzhY99w\n8siT5Gx/E686Iww4DFgMGsKJDJ5UmaMdJh4HMwy1GNCrgXKJ820qbt68uafiQzqfN3KwELwBCPkg\nd1I1ahWZXB6jXieHwieTSYaGhuRQePm5+9gE3EloL7VBAoEA/f39dHd309raWvckkHovDOVymfv3\n75NOpxkZGaGlpaXm+6dSqVgNxvjcy3cBmHcHuTgxwH2nl9nVAIlMjtHuZubdYRxmPTfnXJts0tFo\nDLNWhSRMe7js58xwp7x+sSRi1Gkw6TWk85Vzt5p0aNRqOW5zqN3O1IKXE/2tTLvC9LXYWApUVlz0\nRbk83s2rVe2LVpuZRX+cbocZdyRFvrR+kRJh2hXmRF/lNvvhWphf/bOr/Pz3TzLScbAVlMFgwOFw\nbNMGS7fzkUiEtbU1crlczZChZ7FCBriyGOYX/2qa4VYTOrVAav1v2tds5LXFCEfb9Jh0GqwGHflS\nmjargatLUd4y0sxPve0I7VY9xWJRbg8FAoFN7SHpPVKpVHW/LqVCPqRo5MOp1ajx+gLEwgFyuVzN\nUHgJjWQRVz+/+qpfTcQDAwNyRTw3N/dEOcdbIV1cMpkM4+PjtLa27jnZ+Pe+dJPTw91cnVkB4N6i\nm/Pj/by8bp0ulcpo1Cq6HWYerkXoaDJV/MyCQLokoNVp0Wny5IslJnpauLsUoMdhwhVJoxYEHjh9\ndNv1zAcqPUa1oOKu08eFsW6uz3lotZtwBuI8WAlybrQTlUrFUrBC1ul8kWJZpKfZgmv9IhBOZgkl\nMrTbjYx02JlxheXXc6TLwbV5P2eH27mzHGA1lOJHPvb3/NY/fwvfMd5V1/u8F3aqblUqVU2Lb7FY\nlNse0lipfD5PsVhkfn5+U7XYKLm+Xmlvoijyp1NuPvL38xzttPDYl6RYFonnikz2Wpn1pSiJUC6L\nuOMF4nmRCwNN3HMlmGg3YdSqaLdWAqE0Gs2uig9p7l88Huf69euy4qNavlh9rtFo9KlJ054mnnlC\n3o1YtFpt3XkT8XicTCaD37OG0d7MhdOnD1y3LD0/n8/jdDoJBoObiFhCI22I3S4MmUxm0+inWCy2\nqXrbCY9Wg3z9/hI6rZreNjtrgRhqtUC6ysno9Ea4fLSPW+tqiDl3hPNHesgVy9xbl7pdWM9BFlQq\niuUygkqFSa/lSHczd5b8xLIFjvc0sRZJ82DZBwjcmHNztNvBbBWh3l70cWGsR/63Qavm/koAq0FH\nk1GDyahnYV3L7I9lGGy3ky2WcIUrErvCerU8tejn3HA7D10RMoUSP/3Jb/DBf3qBYe3rvyGn0Wi2\nhQwlEgmcTicOh2OTkmGneXY7He/1qJBjmQL/4YuzBBI5nuuzIwDJfJnTPVa0GhXJXJFAMs+JLitz\n/iQDDgNWk45CqYzDrMVq1PKDpztrrl0NSfHhcDjk0VrDw8ObFB+rq6ubFB9f/OIXWV1dxWQyyVX2\nkyIajfL+97+fBw8eIAgCn/rUp7h8+fITr7sVzzwh74Z6AoCkEHpRFDGZTDz33HPEUzlC0Titjp1v\nefZTIWezWVwuF6FQaFfXYCNtiFoVcjabZXFxkVgsxsjIiGyKmZ+fr4s4PvvNBwDkCyWsBj0gcmKw\ni6vTK1wY7+fG44pOOB5P0GzR4VmP0Lzn9HF6eKPivDHn4k1H+7kyU3n+WijO5EgXmfzGa5t2x3jL\n8X5eelTpSYuAShAx6VSsT4dioNnE1Tk3x3ocPHJFmeitVNzpXJE2s46BVhvuSFpeM5EpkMmX6G+1\nEk3lmFlPjQNAgM4mE4lsgVAyy+985R6jDi0fP1HEbHgySdtBtM+0Wi0tLS2blAxbp294vV45K7ia\npC0WCzqd7qlXyPdccf79Xz4imS0w3GZhaiVGj92ASgCTTs1rS1Eme21MdFjQa1TkStBi0fLaUozn\nemwIiETSRd480lzjqLufj0aj2VPxMTo6ys2bN/n85z/Ppz/9aQwGAy+//PIT/X0+8IEP8I53vIO/\n+Iu/IJ/Pk06n9/6lfeCZJ+S9KuSdpG/VofAjIyPY7Xbu3LlDsVikrdnGnVknLU22HddvRN2Qy+WI\nxWKEw2FGR0d3JGIJ+53BV03E1cNQJUjmiN3es79+9T7TK360ahWFUpnpFR/fcWKI2wsVV+CjZS9N\nJh25YpnlcBqLXoNOoyJfLNPbZieYSMu/K4oVgm22GgknKuwajKdpb9q4fRcRcYeTtNlNBGKVD7mg\n1iKoSthNemLpHFazCTGUYc4TZaDZSCy+MdYpkMrTkc5iM1Zm97VYDMy4KlrkYrnMmcE2XprZ6DXH\n0gWc/jgtVgOXRjt4bd6PP57lRz7+VX77n7+FofbNiop6cRDOsN3aHtXTNyRUy/JCoRDLy8sUCgXy\n+bxMGtLv7WeTbyshl8oif3BlhVcWKncvJ3vtvLoQYbDFiCeW40yfnRsrMfTqimppLZJBEASOOFTc\nWkvS22QgnCnQZtHzjmNtskW+XuzlGJQUH+95z3v4+te/zs///M8zOTlJqVR6or9NLBbjpZde4o/+\n6I+Ajar9aeDpzxv/FmJrW0HKIr5+/TrLy8uMj48zOTkp962qn39qbICr92Z2XLueP3A2m2V6epqp\nqSmMRiMTExN0d3fXpZxopELO5XJMT09z+/ZtmpubuXTpEh0dHdvOca+LSCqb5zf++Kt4IkmO9VZX\nHmBczxlOZvN0t9o4PdJNMlvAG8twZrQbALvZwKInzGTVv2/Nu+lqsiCdSkeThXtOL0MdlVv18S4H\nc54wNqMOnUZNu93Ew5UgnnCSziYzLVYjj9Yr3EJJpCyoQb3xZeix63mwFsGiBZNWRbtZjaRWjafz\nRNM5jvVWKrF2u5E5b2WtUCJLqSQyOVRp4QTiGX74Y1/hc9cX63rfnwYarWwlWV53dzdjY2OcOXOG\nCxcu0NTURHNzM6VSCY/Hw927d7l+/Tr37t1jYWFB7lnvVVBUn89KOM37/tcdfv/lZVSCQCxTIJSs\nDK/tsunpaTKsXwRFTvfaeOBOMNxmZrjVhICIAPQ6DKyGM2hU8LajjTvzGrFwx2IxeerOkxq2nE4n\nbW1t/ORP/iRnzpzh/e9/P6lU6onW3AnPfIW8G6QesiiKsle/Vii8hGpCVqlU2C0WHs4vc3y0sZi9\nbDaL0+kkEokwNDTExMQEi4uLDfWF63luLpfD7/eTTqcZHx9nYmJi1wvFXoT8R393DW84Dgg8WAkw\n1NlMJpfn6vQyQ+02gus9hBV/jBODG7KxG7NrXDrax7X11sT12VWO9rVhNeq5Mefm4YqfC+M9PFoJ\n8nA5QL5YJlcoYtJp5JjMeU+EsyNdaNQq/LHKcWZdIf7RiX7+4dGGFrmrycKCP0ZnkxlvNIXVoIVY\nHncsx3CHHVGjASq/bzdquLcSRC2oONJuQq/V4I9X2iuCAM5ggkA8y3ibAZvNxg1nkF/5s+tcmfPy\nH3/oLE0NTCA5TMYQgKampk05HdXTtCWji3TbLU3ekEYrVcvyROCz19f42myQWV+Si0NNvDQfodmk\n5bE/xWCzgeVwBnc8x6jKxGSfnVS+Yo22G7S8uhCm2wKjbWamvUneNOTAZtDQamm8wmxEh3yQ45uK\nxSK3bt3i4x//OBcvXuQDH/gAH/nIR/i1X/u1A1m/Gs98hbzbB1itVhMMBrl69SqBQICTJ09y6tSp\nmmQM2yvqYyN9TDvdZLL5us4lm83y6NEjbt++jcPh4PLly3R1dSEIQkObgHv1kPP5PLOzs0xNTWE2\nmxkYGJCPs9e6OxHyzIqPj/7Z1zk/vj4TrixSzOex6dWUyiLz3hjnjlQ21k4MdvJg2UtHU+V9LIsi\nOo0as0EKU4JYMouvSlc8Nefm3GgX6XWttzuUYKTdyox7o797x+lFs8VJtxRIcGFsY/PHG0sRSmQQ\ngI4mE6uRzMb7UiyRK5RkIj3S3QIIlESRx/4UpqoecY9NR2CdnGcDWcRykW5HhcBWAkl+4KN/x9cf\nblwI9sJBDSd9Wptx0jTt1tZWBgcHOX78OOfPn+fs2bMMDAxgMBiIxWLMzs5y48YNpqamWAilee/v\nX+W/f22BVLZIs0lLNFP5+w21mjjZY8Ni0OCO5+i262kyalkKZZjxJpnstXFlMUyvw4BOBWqVwGib\nmUyhxHvPde/rdTWiQ04kEtsMPftFb28vvb29XLx4EYB3v/vd3Lp160DW3opnnpBrQcoiXl5elic4\nHz9+fM9kr1qk+YNvPc///MI3aj5fMntkMhmZiKWWQWdn57YZa086Ky+fz/P48WNu3ryJxWLh0qVL\nNDc3P1HOMVTI5Jc++UWKpTIzyz7sxgpxGQ06mh0bKoC5tSBDnc3cc3pIZvK02owginQ1W3n14TIT\nfRsKju4WG3bL5ukr3kgSR9VjggCnq2bvHe9v47UZFycHKuuMdDax5I9x/bGHcyOdjHQ2sbIufXNH\nkgy02jb1IbubLTj9cWxGLa1WA+FkVv5ZT7OFa4shzg61oVWr6KzK0DDrVEwthQnF0hxp1VPIZwkm\nsvzrP3qF//inV/HF9t7AOUwVciPELkV2dnZ2MjIywunTpznx3CTfCNv40zmYD+U40a5l1pcilMwx\n7UmgEkAs5bnriqNVC6gFGG4xc3MlzlCrqZLipqpU1912PYtxEbtBy4w3QYtFx9n+/Rk2GmlZHNRc\nQYDOzk76+vqYnZ0FKgH1Tyvb/Jkn5OoPsJRFfPXqVRKJhOxCa3Qs09bHJo8N88KXX6557IcPH3Ln\nzh1aWlpqErGEJyHkQqHA3NwcN27cwGQycenSJXp6elCpVA33m2sR8h98+ar8eCKTo6fVuu7ME7gz\n76K3tXLrF0tlGelqJr3uiHu47GOi205vm51SWeTmYxeTo92oVQLucJx7Th/nxyrV0MnBDmZcIbqa\nzagEAZ1GjTOQ5M5ygJMDlX5iZRNQZMEbZrDdTpNloy1ya8FL75bJ0pl8CYtejc2oQxBgOVCpyFeC\nCdptBrJVsZ3djko2x5QzwEiHjWBiQ8LXa9chIpAriSyG8piNRpqMlWr/4WqQ7/uvX+Y3/+RF7t1/\nIDspc7ncpgvhQVXI38osi7Io8uWHPr7//7vOCzfdFMrQZTdS1hgoAxNdlYr4VJeJW+4MWhUs+hP0\nWgSm3RXXpKpc4M5aHE88x5k+Gw89SYZsAq8uhjneZeM7GlRWVKPRcPqDxMc//nF+7Md+jFOnTnHn\nzh1++Zd/+cCPAW+QHnKpVMLlcsnj7c+dO4dOpyMcDhOPx/deYB07TQ25cGKMl2894u6sk9PjQ5tc\nfN3d3Zw4cWLPL9J+CLlQKLC0tITf76+pV4YnC54HeLzi5SOf/SpalSDHaz5aCXBhrIvr85WgHqtR\nhwB0tdj45r1Fzh3p5ea69C2SzJEXNyrIOVeQy0f7eeVRxVBye9HDSKeD1DqJP1oJcOFIL6WyKCfF\nLXrCnBps58FyZTRUOlekVC7ji26sq9OqubccYKKnmRlXGIfFwPRaiGJZZKjNxnBHkzxAFcBi0OON\nZhhqt+H0x+XYT+l9SOWzjHbYmPfFSRc23pOJniZuLYexGbVMDrayEk6TLpT59O0w3rye/21CzdGW\nwibHncViIZPJkEwm0el0+67MnmQuXzX2Q8ivzIf42NedaNQC2UKJC4MOXl4IY9BkCaxv3ln1lQ1T\nzbqu90S3lXC6iF6tYjmR5lyPiRtrafqsKvTkicXzNOsFNIJIj11HLJ3ne4/trYPfCfX2kKUL20G6\neJ977jlu3rx5YOvthGeekEVRlHu2W8fb7yZ7q4Xd+rwf+Gfv5Gc+/An++dsvIpSLDA8PUyqVcDgc\ndf3hd5owUgtSOPz169drjpvaum4jRC8Rcj6fZ2FxkV/77DfI5otkgfMTXdycXaXJYmQ1mMBm0hNP\n55he8XPx6ACFUhl3OMHMip92uxl/LEWTSUeRyqDKYlkkmclRLoty9kWhWMZq0jHv2egVX3+8xqXx\njenCqVwBm1GLdf14UMlBDidzFXt1rsixvhZuLfrJF0uMdDbRYjFyYz1kyBmI85ZWK00mPdF0DkGA\n1VCCcCpHplDkzeNdvPp4Y2afUashEM8QSWa5fKSD1+YqphQA3fp0knimQCpboM1qQK9R4Yqmub0a\n5auPvFwabecXvvckp3sd8rTocDiM3+9neXl5WySlxWLZ1cgh4aB6yI1U69ecEf7mvpe/vuvDolMx\n0WVFrRaIrgc1jXdYeeRNcmmwiSuLEUoiuKJZxtrMFEoiy+EMk312zvbZKFPJPOlpsXJ1KcalQRsz\nngRGNTQZRUasJe7fuSVfxOqZ5lKNenvIyWTyqWQhvx545glZEATOnTtX82dP4qarRjqdZmFhgTcf\n6eUTX3yV5z/4M2g0lQ3DetffOmGkFqpzj4G6woUaTbXL5/PMz8/j8/l4cTbElDNIe5MFfzTJjZkV\nTg53o1OruLVQsUrfmK1UwslMjnimQpaJTI6BDgcGnYbH3hgiApeO9nN1Zo2Tgx1cmV5hosvGjLfS\n781kcwy02ni4Ppj0aF8b95f8dDaZ8EbTGLQa7i0H6Gmxkc4VKJbKhJNZnL4YJ/pbmXFF5CS3VK5I\nIJbCYtzYoDNo1Uwt+mm1GVGrBFptRmY9lVvoTL5Evlji7HAbU4sBdBoVs+sXh2JZpFgqM9JswJ8u\nkyuUeOyJyetajTpuOoNoVALfNd7JzaXK+d9cDPB//sErPNffzE+/dYLJwRYMBgNjY2PodLptQ0h9\nPt82I0etfOWDVFnstk5ZFHl1PsT/eHmZe644Qy0mjnZaaDFreWUxgkmrYtZfaf+YdGp6mwwUyiIl\nEcbaTFiNGlbDGcLpQkVzXBaZ9iYxaNWc7bNxey3BSKuRh54kY21mnP4EzXYLP/fOcTpsevkilkql\n8Hg8pFKpHae51Nqc3AuxWOzANvRebzzzhAw7k9KTEnJ1Ktrw8DA/fuIEnsxf8Z/+x5/y6z/zzw5k\now42RjJJk0DOnz/PnTt36g4XqoeQi8Ui8Xgcv9/P0NAQhtZePvXxr1AslRnrbccfrXwBjToND5cr\n1eSN2RVODfdw3+khXyxh0msRqGzWPFjy8j1nRllZD/y5NrPCaEcTgUiFhB97ExztbSWZzTHrjgAC\nR7vtTHvi5HM5UrkCFn0lD/dofxtTC17i6SDnRruIZ/LMrRPqg5Ugbxrv4bW5DXNHh93Mmj9BX4uV\n1VCCoz3N3F4OshJM0OUw01y1cahRCcx74kTSOc6PdFAol7mzvJFpG07mWAjnaLcbODPYysuzldcu\nCAKL65NMimWRVK6ETq3i6GAruVKJ+2sxXpr1cWc5xJHOJt7crWJ8QpR/t9YQ0mojR3WAjk6nk2fh\n6fX6A6uUtyKeKfDXd728MOWi1azjnivO0Q4zCCqmfUkmOio9+iMdFu67Exxv1TC1EiNfqlwo9JpK\n9sSrzgjn+u3kSilO91h5eSHKmR5rJbdChA6rjhazFn8iTyxdQKuqbO512CrqF61Wi8PhkHXCwI7T\nXACMRqM8UqqeSdrParAQvEEIeSfsl5CriXhrKtov/MQP8hP/4bd5/q++xltPDdW9fi1CLpVK8mw8\naUipWq1uaAbfXheFcrnM6uoqa2tr6PV6xsfH0Zms/PBv/i4jXa3Mrvm5M7/G5JE+Zlf9rASiHBvo\nkHvE3nCMy8cGuLLeE750dICrMysc6W3jyqNlOmwGfPEsoggWo55gqlLJlkURXzTJaHcLa6EK2T/2\nxrk03svVWRcg4ItnGW414w5stDNuznt4y0QPVfxLoVTm3EgnN+YrPWe7Sc+8NwaCQLtFR6oqNjWS\nzK4H4VtZDiSY6G3m4Wpl/RsLPr7zWI/s6ut2mFnwV0jXH8vS3ZTn3HArD1YjDLZZmVmvlgVBwBlI\nEEnluekMcnmsncnBFu6thhnrsDO1FGJqCb65+hrnR9p419kBBtu2Sytr5StLY8iSySQul4tMJiMP\nxJWIqJY+uF6URZHXFsN84Z6XUDLP1aUoagGajBqOdVkw6TTcXInhMGmYk6pirZpeu56SWCJfEulp\nqmyQ9jr03HOvX6RKIla9Bl+igFGrQgTuuROc6bWRLZZZDGY43mXhkSdBn1XLu8/sLnWrtkNXT3OR\nJkjwXnAAACAASURBVGlLVbQ0SXu3aS5PY1rI64U3BCHv9CFt9MMrWZwfPHiwYzylSqXi1//1j/Cv\nPvw8QjHHO970XF1rVxNn9UDU7u7ubeOfGjnvnSrkcrmMy+ViZWWFzs5OLl68yMrKCqVymZ/52J/h\nCsYY7NSgWQ/+WfaGOTXczWvTy/giCQZabSwHE+QKRaT+KsCtuTWGu5pRCQLZfBG7QYNWXekfx7IF\nBtrtRJ0ZQMCg1ZDK5uV+cqksIgis95/XU940GvparHjiFWu23ajj6mMPR9otPPan0KlVPFoNkMqX\nODvcwbQrzKO1inU3nMzQ5zDIqg+Ao70t3F4KYjVoOdrjQFNVadqMOq489tJiNdBqtdFiNcgDUk06\nNTPuKLlima4mE+02o0zI4112ZjyVOwGNSuDBWpREtkC7zYDVqMWs15DKFdGoVTz/zTme/+Yc7zzd\ny3iXnX98vIvB1tq6d+lvrdfr0ev1pFIpeWSSJKdMJpPEYjFcLhe5XE7ODa5ue2ztqxZKZV6ZD/H1\n2SCuaIZX163OY+0WTvfYsOhUXHFW7kB6HRUly3CrmRlvkpPdVq4tRSmJ0G+rfCaHW4zcXI3RajGT\nyGU42W1lIZjGolfjS+Q41mlhajXORIcZZyjNcKuJdL5Ivlimx6ZDrypxrGt/PV1JlmcymVhdXeXU\nqVMAcuGUSqU23W187nOfY3V1FUEQuHnzJseOHXviQbaDg4NYrVbUajUajeapbu69IQj5SZFMJllY\nWJB3zS9cuLArKQ72dPKu77nAn/zty5iNBn6kp2fH50rQaDSyakIi4loDURvF1gpZFEXcbjdLS0u0\nt7dv2uhUqVT81udeJr9eUS55Q1w+PsRrj5bpa2+SJ3iIYsUibdBpONLbzpWHTk6P9nB3odK6aDJq\nuL+uiPDFs1yc6KdYKjM1XyHVixN9XJt10d1i5ea8h4tHerk+56LFZuLmnJv+djvRVCX/Qq0SuP7Y\nxdnRLqYWvIz3tnJj3stiMMXR3hYMWjW3lyrHmlr0Mdlr57Zrw3Bi1qnxpvIMtlXyknPrUrdEtoA3\nmmKkc+O2eKyriamlIL5YBq06S9e6FA5goqeZ20sVlUYgniWVD3Hm/yfvzYMk2686v8+9mTf3favM\nylqy9qX3/T3pSYNALLKIsTU4MCZkOzACAsvCCi+BHQEBzBBAEAx2jI3xzGDGcmBbGocIBiTLgxgJ\nLW/rqq7eqqq71qzKyqzc9z3zLv7jZmVVv/f6vW69Rpg355+urrp5l8y833t+53zP9zvp57DYwH7G\nYWQx6mE9qYNZp6/w6k4Os0FkIWAaqsoBxAtNvvrgmN//14/4oeUwAaeFG1N+rk36GHE/6W5zEmdL\nFWf1K87KSPb7/WHZ48RNu9OTSXcMHDRENgt9irUWe1Vdy/pi1EXYZWbKb2U732In3+fKmJ6hT/qs\nHJY7iIJuOCoZhWGteMQhUWjJXIo62co3afdVVA2uTbhBE6h3Fc6POkkM9Cqm/FZskoFmT6EvqxTq\nPUJOMzaTyI/PvH9n77dS3p4m1xmNRvmjP/ojtra2+MM//EM2Nzf54he/yOTk803bvjW++c1vPpG5\n/03FvxWA/LRmyYmpZ6/XG2bEr7322jNlqJ/51I/wV6/f5wtf+TbhcJgfuH7uqduelA0ajQaqqr4Q\nID6JkwxZ0zSy2Sz7+/v4/X5u3LjxNgGUv3jjMV/86/tYTBKjATfHhSp3to84PxXmMFum3GhxcSbK\ng/00hXqHj12e46/v7wICyVwZl81Mu9vjqFDn6twYtwcNv7XdFFdmTx9Kazsprs5EuLevlxhu7yS5\nGAtjMRm5vXPMXrrM1ZkImVKDx8cVEATu72c4NxEgPnAekRWNRK7K/PiTN0FFFrg2sHESBYHjapda\nV6HXk1kI2XmUKnGS0U+PeLizn+PmzAgr+zlqndNMejLg4tXtDBcnAuyly0MgB1iKeniYrHD3sIjT\noosnnQgonc2450bcrB2WkBWFeldgq1hhJugg4DJzUNAzb8kg8MZ+kWZX5v9eSeC2mZAMIksRFzMh\nJxN+O2NeKwGnhWarj9nydg6tqmo0ezKVVp98vUuh0SNe7HFQ7HFQVHiUbhDzW9kdHHPGLeA0wahD\npNJokqkphJ0SxWYfk0FgO6dTAINOM3azvsI5EQyqtPSH9aTXxE5eoSur5Oo9vFYjRoPAg2QNi2Rg\nym9lv9Ci2Ozhs5lo9xSy9R63Yrp56a1JD5vpOvMBC9fG7G+7pueNZ+UgR6NRgsEgi4uLfOYzn3nf\nx/1+xwcCkN9rfPqtdJl6vc7u7i6yLDMzM/OEFc/zxG999if59K/8AX/4L/81oggfvfokKJ8Mqhwd\nHREOh4dari8yBEGg2+3yxhtv4Ha7uXr16jsOwvzl7U3+5XceIgrQ6fXxOWwcF6rIsoLPaWPjQAfP\nTLGK02qi25fZOy6wPDnC5mGOYq3F4pgftzPEm1tJCvUjzscirB9kuDozynaygN9lo1hr0VdUrGYj\nNouJWquLpkGu2sBmPn1ArO2l+fBChOMB11hWNaySEatJ4kSLYtTv4DBbYdTn4LjUYDbsZTdbJZ6t\ncW0mTE9WeJjQG3StvorLYWfeILGV0csL2ZIO7rf3slwe97CVP82sPXa9wfQgUSDilDCIT05VnsRE\nwMnruzlCLgsTPgePM6e89tYZEHdaDNBQ2Ms3cNvNZGsdZkIOxv12kqU28UKD+ZFT5knQ0eXbO3pG\nfmHMzcOUvt9LUScb2XuYDCKXxzysJSr0FJX5ESdb2QYmg4DRaKDVU1gKO3mU0a/JazMzGxTxWI1k\ny3XqPQ2rzcFWqgaCvpIBGHcI7FcVJt1Gqs0OO8Uu18b1LDPqNpOpdbk24eag1KLcUZkMGhh1m5ny\n23h1v8KlMSeKoiEZReLFNtfHXayn61wYddGRFeodhWvjbnbzTS5EXXx4zPx9t5M60f9+USEIAh//\n+McxGAz8wi/8Aj//8z//wvb91vg7P6n3XnGWi1yr1bh79y6PHz8mFotx48aNdwTjZ5308bpc/Cc/\n+jLZYpn/4f/8f/jqd/RmzElG/Prrr9Pr9bh58yYzMzPPXdN+t/M4q1wnyzKXL19meXn5HcH4zY04\nv/j7/xf76RIXpnRdiPX4MTcWJ7i1HOPbD/a4uaQv6XKVBosTI8yOuDnKVcgUKlgl/UaotHqcZJ+a\nBsfFKgGHme1UkXKjTdjjQACiARdvPE4yGXTDQHttPOhGVlRsA9U4v9PKym6ehfDpkrPS6tLt9fEP\n/O6cFhOlRgdFVgi6bLgGGhUacGcv8wSbQhQEDgsN9rI1rk4FGfc7SFVPNUhUwG02ELRLGER4nDpl\nWrgsRh4clbg6FSDosuhZ+yBOeMm5Woe+quG2mbgy6SfotJxS5ATINU4biye2VHu5BpVWn91cXWco\nuCzciPm4OObBYzdhHDwEzo5/N3oKsqLR7ils5xp0ZRWvzTRsuC1GXPQVlQmvlRGXmeuTHpbCDuLF\nJrv5Jq2eylFdf8/7qv7vhNdKuqGfUzToYT5ox2iU2CnqNMbDgv4wCFpUJFGjVG+Ta/SxGMAwUHY7\nLOmA7jIb2Ug36MkqF6NO6j0FWdXoKirpahfJIKCoGiGnGYMg8JFJ2wsZYX5epbcX2dT77ne/y717\n9/ja177GH/zBH/Dtb3/7he37rfGBAOT3cvaoVCqsra2xvb09BOKzlJuz8Ty8XoPBwIcuzXJlcZpG\nq8m/+Fff4H/50ld4/fXX6XQ63Lx5k9nZ2e/JseDdzqNUKrGyssLx8TEXL17EarW+zXX7JF5b3+PT\nv/nHTI/qS/9HiTwRv15DFICdlF6ffbCXIjoYka43W0NBpVKjy/kpvUM+4nXy8CBNxKc3aIq1FuN+\nO+WGntFuHGa5uThO2OtEUTUeHmS5OT+Gw2ri8VGBRL7K3KgP0JiJ+OgpKolCnVjIzULUz266TLba\nxGmVGPM7eXBSp6628NrNHJ8RKwp5bHznUZKlsL4cXh7zkau1kVWNtXiO+dHTG1IUBDK1Pplal1Zf\n5SMLozR6p+9ttaOD6Z14gZBdZMqvv5cWSeRx+hScVQ1S5RZ3D4vMhZ1cjflxmI3Mj7god/T9+ewm\ntgdZtNkoDn/u9lXuH5VZOSiycVxhPVVD0zTGfVa6ssrFMQ8XRyw4zUZuxLx8ZC7AlN/OtUkvl8bc\nnBt1Mxu0IxlEZEUjVelw96jK6mEFTRCG7BbJoN8LLouRraz+fkXcFq5OuJkP2XkzXmE738I9WCHM\nBGyYTWaWw3ZSTYFKR8VqBLMBZt1w56iKzyKSrXW5Mebgu3tlgk4TVslAudnjoNjm5SkvD1I15kM2\n7hxWAQGjIPBDiwHQ1L/zgBwd9IhCoRCf+tSnuH379gvb91vjAwHIT4tqtUq5XObg4IDp6WmuX7/+\nVCA+ieehyp1s+3v/5X9MvyuTLxT50tff4OsPj5iZmXlHIH7W7Pud6GyVSoXV1VUSiQTLy8tcvHjx\nXTvIf7X6iF/5Z/+KVqdHrdnGZBTp9mX8LjvTowHW42nGAvoXt93tYzfrjIFcuU6p2cNl1zPQla0E\nP3Rljvv7aVqdHi6rCYMoMOp38SBR5ubC2PCYxWpzwMzQY3U7xfW5UeptHeDvx7N8aHF8OCbd7is0\nOz0cltP3Kp6tMBP2PMHF9djNmI2GYalhMuhC1eBRpsH1mdATN71RFFnby3N1ICS0GPWSG0iHNrsy\npUaX61NBzEYDkwEnmcbp+ywj8ShTZyZgYc5vHrqb2E1PgnO+1mM1XkRWVaI+G1GXDhbTIf28ABYj\n7mG2vBhxUR0MtyxGXNQ6fRQNfHYzjzN1HiQryBrcS9VZOSjT7CqsHJZZPSyTrHR4mKqSqrTZSNfQ\ngIWwg+pAec02WMGYz9SHZ0N2Yn5dDvOo1OZuoorTbKSnaEgi7OSbOC1Goh4LmVoXWRXIN/RBD1Ey\n47IaaKKXmMJuKxGnkWZnMEVp6rOaqOKWNMbdErlahxsTbh4eN/jwjJeDYguzSeTHL4w8V6nh3eJ7\n1UJ+v3Hi0nLy81/+5V9y/vz5F7Lvd4oPBCC/NUOuVqvcuXOH3d1dfD4fMzMzz/zEfB5ANhgMNJtN\n3nzzTX750z9Kq6cy4vfxYCfBL/+T/4NSrfG27b+XMed6vc7a2hp7e3vMz89z+fLlp0qInsSX/s0K\nP/s7XwBBV1VL5spcmNLtlbLlOmGvPhV3bzc5bMhtJ/Ncnx+n1OhSbfeYHdVF6t12C3vHRfwuHfy3\nknluLIwR9Dj0jHT3eLitxSyRKtQIuPVtHVYTjxMFIt7T81UUlYXoqQC+WTJSbnSwmY2D/xu4F8+x\nNObDIAqIgkCiUOcwX8NtMxFwWtk7M1G3n61ilsShCP65cT/lVpc7+zliQRe2MywJj93MZqrM6n6e\nEZeVCf8pHSvgtLCT1W++vUIbJCvXpwJ4bCZmQi76io60fquB3QF/uSer3D0okarJjHqs2M1GYn49\naz/76DVLp6BkOgMsZ7epD7J2URDYL5w23nYH5YqFsJPOQHfDPCilGEWBnQEIL4SdhJ1mlgISPVlj\nN9+i3lVI13QgPXk4LEWcLITsGASN+6k6igZ2swGzUeTmlIeNdB0BiJd7LI042C10SNX6FLsCl8ac\nHLeNOEwCDRkaHRmD1qNaqzNqVUkVa0y6DXxo3IYq959Lw/jd4nmA/UVmyNlslldeeYVLly5x8+ZN\nPvnJT/JjP/ZjL2Tf7xQfiKbeSVQqFfb29hAEgdnZWdxuN/F4/IWMT58NTdPIZDLs7+/T7/f58Ic/\njMlkIlFq88++/HXmJ0e5txXnP/jlf8w/+s9+mpcuzAHv3GB8WoiiSL1e5/Hjx/T7febm5p7pS9aX\nFX7jj/+cNzb2kRWVrUSGW8vTvLkZ5/5uirlRHz0VHsZTBNx2CtUm24ksPoeFufEwbzw6YiLkIZGr\ncGf7iGvz44iigdXtIy5ORyjWmoBAp9tHHgBUX9az3Gtz0SH1bT7qp9LosDge5PZ2ismQB5vJiCAK\nPEoV6fUVYkEnB/k6YY+d1b0M5yaCbKWKXJgMcWcvy/14jqszYRRV4/5AOOgwV+Pl+QhbZwB5OuTm\n9m6WK1Mh1hNF5DP0s0ylSaPbZ3bEzW62ymzYzeq+vq9kqUlHVlgMWtgtdpkOulhp6Jm7z25m87iC\nompYJQNepxWXpU2t02c64qMU12vQs0E72wPn7E6ny7e2dEGmqMeEQdC4NOYhU2uzPQB6k+G0jOEw\nG3ic1n8fdpk5GtS8F0acPBo0/2J+G4WBuI88uCyzQRiWIy5EXZw8iTQN4qU2XotApau/3mXRv2sh\np4lEucO1CTd9RWU1UeX8qJP14wYWo4CsaPjtEoVGHw0I2g1EXGYMRgPltk5/a3QVVFXXq7g85ua7\n+xU+PK1rXLwc81JodjGoGi6LyIfCAo8ePaJWqw0n585yp58XpGVZfmY+cb1ef2GTetPT09y/f/+F\n7OtZ4gMByIqisLq6iiiKQyA+iRcpMHSWWubz+bh27Rpra2tDetnP/8SP8Oq9x+wk0kxEQjTaHX7r\nf/0y15dn+K/+o7//zBlyq9WiVqvRarVYXFx8JhaIpmkcZIr8wz/+c7659pi+oupA/OiA9f0kIz4X\nrXYXi2QgntSX2jNOMwV0cZ9ri5O8tn6ArKqYJeNwmMMgCiRy+qTbg/00txYnuR8/Jldp0pcVHBaJ\nRqdPtlxnZvQ0691OFTk36uH+vj5yd5ircDE2gtUscXtHB+1Kq8NU0MG9gUv1RiLPtZnwEypva3sZ\n/t65iSeutdjoYDMbMIhWSo02iaIOPnfjOa5Oh9g9A9YLo15W43mMYpvr0yFy1VON5OUxL+vJMrka\nxIJOlDPlpJkRFysD0HXaTHx7K4tNMnBjOkDjDH3ObrMA+vlOR3yUDnT6mBmF1a0EBpubGa+EIsJ4\nyIbfYabW06h3FIIuMysH+ns77rOTqevAazWdglWhoQ/WhJw6z/nyuBuPVSJf75OutlE1uJ+s4jQb\n6Mj6+UecEuVuH4MAu7kmXpvEctjJWrLKTr5Ba5CJCwh4bRIXIk6+vVci5DSxlWsQtEu0ehrxSpuZ\ngMB0wEZf0dgrtLgVcyOKAgelDrdibu4cVXkp5uHNgzIXoi5UVeUji2GWFvRV1/r6OuPj46iqOpxG\nPLGPOjuJ+F5O2s9TslBV9YXRSr/f8XfzrN8SRqORpaUl7Pa38x2fJqn5bvt6KyCfAHE8Hsfj8TyV\nWgbwT3/lF/jRX/wN0vkSoyEfjXaHV+9tsZv857y0EGV2dvapx+50Ouzt7VGv17Hb7UxNTT0bJU8Q\n+MM//Qb/29deJ5kv8/L5Gd7Y2Gc9niLkcZKr1FmKRShWWzw8zLE85mczVWIvW+XmYoyjfIX1/WOu\nzEZZ2T5iJ5lnKeol3+yzkywwGnCTqzTQgLt7SV5ejvGtB3EAZkbcNDo9rs+P8931g6FeBYDVbmfJ\nauVeXM8ad1IFZkKnpYtKs8tU0EGhKQ1rzH1FJeK1kxyA7PSIh29tJrkxF2FlN8P0iJvtQS037LFz\nLuLkYfpUWtMgirjsZhxWE8flJrmBuaqsalSaHXwOM6Vml0an/0SN2iAK3D0ocH0qwHamSv6MXvKk\n30mu1qXZUyg3uxwWmlyZ1HWhz2bqJ9QyVZGJH2VQezKixYHd4WW/UqXYbjOvaWwXBvtWe0giOMxG\nWt0+UacBm9VMq6swHbDjNBtJVDoICES9du4k9GNdiLrYSNf0uvYgU54fcQ7/Xho0GK9OuJEVjY3j\nOruFFrWOwrUJN3cSVdwWAxZJpCcrZAfXOuGzMuqxIAoCa0c1JjxmXBYjxWaPR4UWSyM2NtMNxrwW\nbCbdSeZ82Em+3uOlaS+ZapcRl4l/cPnUeVxRFCwWC2az+W3aFSeTiG910j4L0g6HA0mSnnllqWna\n34ge8vcrPhA1ZOCpNdX3kyGfAPEbb7xBqVTiypUrLC0tvavgvcVs5r//r/9Tqo0m5VoTQQNBFNjc\nO+KffPmv+cXf+WP+enXjidecNSkNBALcunULh8PxnmwPTdP4yqv3+N0vv8ZvfuGrQzfnO48PmAz7\naba7RPxOwj4Xx/kyJkHPznczFaYiejZ7lCsR9Ngp1Vs8Psow4tX3sZOuMD8WotJss3mY4daSnqVO\nBL0cZMpD09O9bJVr0yNsxPVMeCdbZ3k8xFjAxd39NJuJPHMR/Ua8MB1h47jG5SldkN5llVg/quCz\nGhiQA2i0OqzspLkxq9PzPCeNxcHvvGdE6zOVJj1FYzKgn7PRILKXqZIsNmh0+nx4IUKicFrHd9vN\n3DssYDMZuDTpH5qnAvjsFjQNVvcLjHps+J2WITf5+EzG7rWbkVWNu4dFrGaJoMvC9Sk/U16Jo1JL\nd6roVAbTkBrGXoOtQVnCYTZwUO4P9iNxVFXoq2CRBDYyDVJ1BaXbYyvbIF5oIQoalZbe/Gt09c/O\naTYMuczzYSfdQR2jPmCKzAas+G16s64rq9xL1hj3WUlW9IdFpdXnUtTFuVEXK4dVXBYj27kmbosO\nsPeSNbqyiiRCxGXibrJG0Gnm0pgTm0mi3Vdxmg3cT1aRRIF6R8ZtlVBUDZfFwKcuhZHO2HA9rfZ7\nIsAUCoWYnp7mwoUL3Lx5k8uXLxOJRBBFkXw+z8OHD7l9+zb5fJ5UKjWcTnzavXECxi9SC/n7GR+I\nDPnd4nsRGOr3++RyOfb29nC5XFy+fPmptLJ3iqvLs/zsv/uD/NMvf53J6AgmychCbJRsocRhpsAv\n/NY/ZyE2yk987CYLETdqrz00Qz35Ir2b0Wm51uBPv7XGq/e3+X/fXMfrsGK3mFjbPuTK/CR3dxKY\nJSOCAPVmG5/NyGayhNNqxmM3U2l2MQgCNrOEz+UYdpbqrS4TIR/Zcp35US+H2SI2s0Sr22d1K8Hi\neIhuX+EwW+b6/DirO/qkXqcnMz7i5fFRAVlRyVbqTIW9JIt1FFWh3GgzGfKwmdAz5c1EgYVRHzaz\nkbsHBQ5LLS5PjdDs9Ngd1FdXdtKcH3Vy/yA3vO7d4xJzY34EQa+XjvmdbGUaOCwSS1Gf3gwcKLnV\n2j26fYXr0yFW93PYTEYeDQA4V2szEXRyZdLP/UQRVdWeyHQdVjOr8QJRr52poINXd/W6slEU2B3U\ngkHP5g8LTQ4LTRYCJuZHnOQyafKdFhjNIPcQ5A7dfh9BNDAfdrOW0M9hJuhk9VD/Oepzkq7rP9vt\ndqjqx0gO/ALdZoHtQSYc85p5mNEfEO2+iijAfMiB0yIxFbBhNwncT7dwWQzDLN9jM0GxzdUxF6WW\nzP1UnUmf/n2OeqyMuCyIosDaUZWQw0S51WfUKfIg3cRs0K97K9vCKApcn3Dx5kGFl6Y8vL6v/5up\ndmj3FS5FXfzwW9ykn5dl8U4j0Wc1z7vd7hNKcDab7QnxJVVV33Gl/HclPjCALAjCOy5VTpynnyU0\nTaPVanF8fEwgEHgmID7x1XurXOLnfvrHub25x/3tAxZiUSr1Jk6bBa3dZTE2Sr3R5B/+0ZcxS0Y+\nfusio9t5bizPMBUNEvZ7h/Xmbq9PtlTlIF3gztYB67tJvnX3MQGPi0S2yJWFSe5uJ7i+GGN1K8FR\nrojLZmErkeHGXIR78Tx2ixm/206x2mQu4qPS7HKQKfKxKwv81R3dJ+zWcow3Hx2ycZDm49cW+Dd3\nd9CAm4uTrGwdISsqIx4Hd3Z048/V7SOWx/00u302kgX8LvtwUi/sdVJtdZEMIn1FpVBrcW5yhEz5\nhJmg0O7JtM7Q4+7Fs3zsYmwIyABWu4NLMTtrcR0QR11mbm+nWRhxsJNv4rdJpEoCja7MTrrEywun\n49suq4n1oyJdWeVyLIBZMvLmXn7491y1Q6LYYMxnx2/WeJDRM0ijKLKb1c8hVW4S9liZ9NtxD4ZS\nHgyU43x281BwSBQE0g2VcjmJ2h4oxCl9jEYjqqZh11r0RNfQ4BWg1BwMrQiQKA1kJo2nwDsbsrM7\naBbOht3DckRHVphwG7EbVLrtFjajgBGFlUQTgyDgNOvgNxdysJaoYhQEDCLEfFYEUeSg1GYqYCVe\naBNxmWj3FTYyDS6O6quMhZCdtWSNMYcutHprysu3d8vcnHRTbPXpKSrXxl0kyx1emfGyntbBfdxs\n4ccvhJ+YeDx7j7yfOLm3g8HgE+B+ogTXaDQol8v8xV/8BV/4whdoNpt87nOf4+LFi3ziE59gbGzs\nXfb+7qEoCtevXycajfKVr3zlfV3Hs4TwnPWW/98WZ/r9/jtmlL1ej/v373Pjxo2nvlbTNIrFInt7\nexgMBiwWyzNzDVdWVrh06dLbdCMA2u0OP/LZf0S52mBhaozjfJFeV8ZlN1NsdBgbCSCKIhv7SXwu\nB2MhHyuP4ixPR8kUKsiqRiTgZSuR5vK8DrxXB/8uxUZ5dJgm6HHS7HRp92SWYqNsHqQ5Pxmir+pa\nEH63k1ShwpX5ce4OMtpby9P0FYUHeymmI0F2UnmsZgm/Wy/7tLp9LEaR44pem702P067K7N1lGMu\n4h1mky6bmYjPztZgsm1pIsR+ukw06CaeKQ9ZFyMeB6VGh/OxEe7tpwGBm/NREvkazW6feqfPTMTL\nXqbCzbkoKztpnFYTiqbR7slcnYmwkShgNklUB44il2MB9rK14VI+7DKRrctcGPPwMFXl6nSQtfip\npdPV6RHKrR7xXI25sHtIbwOY9JgI+tzsZGrEQq4h6JoMAibJSKOrA+nLs6FBTbbCuTEfq4Om37mo\nhwfxNGrjdPoPwGy10+3oyndjsSmsFgtuqwmn2UhXUZFVDYskUmrpllU2+rQxYxQFwm4LtY6CQRSQ\njAK1toyiamznm6gaXJ/wsprQ3/cRp0S20WfKbSBe1e+BOZ+EzSRhkoysJusYBAGXVaLc6nNz0oOq\nafQUlQfHdXxWCQWNab+NRLlDsdln1iPSRUIURbp9BZNRpNqRmQ/ZaPdULEZxAAYaIjDpt/JrVhWI\nwgAAIABJREFUn1x8x/vj3e69Z43bt29z48aN9wT3jY0Nfu/3fo9f+qVf4uHDh3z0ox/lwoUL3/Nx\nf//3f5/V1VVqtdr7BeRneip9YGrIT4v3Yk0Ui0Vu377N8fExFy5cYHZ29rme6O/GnLBaLfxP/+1n\nkCQj2wdJnBYjXpcNh9PJZCSIqmrsHGVYjI3ic9tZ2dzn/MwY1XqLertDLOzj8cExN5dnuLt1yNWF\nmF6WWJjk0cExt85Nk6/UmQ7rztOlSpULsREO81XMZjPtXn843HF3+4hr8xOYjQYUVSWVryArKt1+\nH5NkoN3t43faEEWBUr2FqmnDseHjQpVWW+/obx2XuTmwX1qOhakMbJYAHiVy/L0LU8QzOqDd2Ulx\nYy5KNKCP+97dS3NjLkrQbeNePEumojMArCbjUOfi9k6KG3NhlsYCtLoymjbQvViMDsEYQDJKTAbd\nWIz6Vzga8OqavMkK8yMO0sXTTHvca2UtnucoX+P6VBCn1Tz8W8Rj46ja5068gIaGz24ejjSfG/MN\nwdhjM7F6UGT1oIiI7lIyNdA8brWaqI3TejQARjNytwMDSX+1Xeew2OJBUtemWD0sc++oQk+B7WyD\nvXyLSldjr9Bkr9Dk7lGVu0cVCo0ur++X2UjXcVik4dBJblCOmA3ayDb0urTL6WDWb+ZqxMJhReZB\npk2xoWfZky59BPp8yMxevs5qojrc11LEgSSKKCoUm309A66rWCWdmzzmtZIsdzgfcbByqDM6snWd\nq26VdP3up+kdv8gG27O6hQSDQT760Y/y2c9+9n2BcTKZ5Ktf/er3VaToAwPIT/uwRFF8xy9FsVhk\nZWWFVCrF+fPnh1NvL8r2CfQllddi4BM3FpBlhUKtjctho9eX6csyFrPEhZlxTEYjh+kCN5anKZTr\nFKsNLkxFub+b5Px0lPXdI0Z8Lg7TeVx2K4lMAZfdyvpekpDXyXYyz9WZCAi6aHe91SVbquGwmtk8\nOObW8hQAhWqD8YCT1ceHBD06mBxmS1yeHcNikuj2ZUb9eu0uU2lycSqMIIBdEjAYDMPl6P29FC8t\nTbC6dUS22mJ20CD0u2y88fiQ63OnpYNqs033zFL99naK85MheoNmVKLY5PLUCI+OTssJDw9zCOLp\nZyYg8DhVHDb6jKJAIl9j46iIzy4x7newfnSanRolE5LJPHSaPmkEyqrG5lGBcrWG364Pi0TcluGy\nz2I08J2tDBG3lYvjvmHDDHRltxPeddhj47vbOeL5BmMuid39A9AUBONglTSoHyuqqv9ONJDJldDk\nvl6iKOsgaTKIwxLFiMtMqn4yuOGiNmjSBRynD4/jAWVvOmAjMagve2wSiyMObsU8pMpt9opdZE2k\nr0LAYSJRVQb6Ih7CTgkVgWJLwWOGeKHOvEfkcbpGodnXra7GXfRVjY6ic6P3C02aPZmLUSfrxzVe\nmfZy96hKwC7hshjJ1TrMhRycG327ZdLfBtvhRbqFfP7zn+d3f/d3/0bcW54WHxhAftY40YFIJpPD\n8eOzTYDnBeR3ypBPxOFPxIV+45d+hh+4eZFWu8N+KgdoGAQDB8dZ9pNZen2Zc1NjSJIBt8PKpbkJ\n7u0kiI34KNebqJrKiM9NsdpgcSJModpgfjxE2ONg3O/AZDSQKtaptTrc3txnYSJMtlRjOabTj+7v\nJri5FKPd6Q1vkvX9Y15ajgFwd+eIm0uTPD7KsvL4kMVxvTGzup3kleVJdrM19tIlbgwyYw2Nnixj\nHUzAPYhnuLU4TmzER73d42E8zWxEp+sJgsBhvsJ4QL9hxwIuXts84twZWc16u8eFWIiTitiFyRC3\nd9Jcm9EB+GIsRKrcZGVXZ1pciIWGo9DHlQ5Rn50Rz+lnKIoCh4Ua1VaH69OhofobwLmJIPFSl1ZX\n5mLURTx/WroI2nSmwVGpSbbapCsrnB/TGSKFxml27h2Mb2tKn6OjxLBUZtQUnHY7yKfbanIPk9GA\npqkozTILI06yg8m5pVH3MAOf8NneVg80CAK7+dNR6ONqR3f/dlu4Ou7mypib/UKLx9nmMLsVgURF\nr0/H/FYuRF0sRxy8tl/muNanj77quTDuRZKMGC1Wim2VcbeRWqvDbrbGZrrOkge+u19m3G0a6FbD\nTMBOtS1zccyFomoYRYExj5Wfe+WdtYZV9cXoWDyP1+CLmtL7yle+QigU4tq1a+97X88THxhAfq8P\nrFwus7KyQiKRYGlpiUuXLr0jVe79ZMiappFOp3njjTdoNBrcuHFjKC70P/93P8dEOECj1aHR6iCK\nsBgbI+h1kswW2IynaLQ6mCQj67sJbp2bweu0MRkJ8pHLC9gtJn741nlUVeXa3Bj3dhKYzSbu7Bwz\nFfGTLde5MB1FVTXanS5mycjtzTiXZ8e4PDtBo9WhUG3oddqBstu9nSTTET/nYhE2DtK47VYUVSVb\nLGMzGTgfC/MwnmVkQKd749Ehl2YiXJkdY20nNRyXBp1pcaJh0e3LVJptXl4aZytVpNHuISsKHruF\ngNNGV1Y4yJWZDLiY9NtZT+S5u5fh+uwoFsnIXqaCpsHd/QzXZsLU2qeqbSu7en35BLwNosB2pkqx\n3uL8uJ9Rn52HR3rtuNGVEQS4MOHHNChtpCunDAXBKBFw2og4JQRBoNA5hUSfRWQvV2c9WWZ5xIZd\n0jNzk0FkK1NDU2SUZuWJ74pRMlJv9zlbLrRazNgtAwDvtdH6p4Mpsnp6vOMBLc1tNfIoXUcyCFwa\ndzPiMnN1wsOYVzcidVuNPEzVWTuqogGlgX5xaSAuNOPXaXnXJlzkGz3uJWtYJSOKBuNeC31ZZXHE\nzqNMk0pLRhBEro67GHHbOW6oLI16mA3YURAI2oyYRI14oUW11tBlPZttkHuoikK50eWlaS9B52kW\nfzZelI6FoijPnKW+KEB+9dVX+fM//3NisRg/9VM/xTe+8Q0+/elPv+/9vld8YAD5aVGpVGi1WsTj\ncRYXF99TB+J59CbglCZ3wleuVCpcu3ZN96470+gTBIH/8b/5GVxWM8VKnVa3S7PVxuO0szw9xtxE\nmFSuTPw4x/L0GPHjPJsHx2iqytdvr1OpNXnt3ha7R2kOs2UsZhP5agOnzcL+cYGA287tzX3OT42S\nyJa4Mj/BbDSEKIhsHhyzeZDm5qB0sb6XIhrUv7RjQS/r8WMK1QYBh36+5WaXhaif/XSJSrOD16m7\nOWuahmQwcJjVp9Hu7qa4OOnHbpHIlOok8xUiPv297XT7tLv9oYZDulRncSzA45QOls1On3q788RU\n2urOMR9eGqPUGAxYaBpdWcbnPGW6LI/7+fZmkqvTIxhFgdmgnVKjS7Mrs3FUZCnq4wQQRUEgWW6y\nup9j1GvnpbkwydLpEElfUdnN1UjX+3x0MTwso4iiQP4UN5FMZjbSDWySwLmQGVHtI9dy0O+cHstg\npN3pgnoKyIJkpt3pUK7VQTRgMFl4tHeEQdAtk6rtPjG/jVtTXsySyIhN5NyoG6sk0lc0+qrGVrbB\n5nGVlYMyjzINJv32YTmjOxgRn/JbiRdbzIXsOE26JVezp3BYaiMAiXIbv10i5rNyWG4jGUUKzR5R\njxlNQz9Gus5c0MZ+oUmy0qav6hOKqbrCh2d8pFvgddoxSQZ2ix2a7Q5eY4+YeszGxgaHh4cUi0W6\n3e5wFfYiAfn7LSz027/92ySTSQ4ODvjiF7/ID/7gD/Inf/In73u/7xUfGEB+msDQ/v4+DoeDc+fO\n4XS+t6/X8zT0TqaNdnZ2KBQKXL58maWlJczmd84YIkEfn/33P4ZZMnCcK9Pty6RyRXaTGUxGA/MT\nYRYmR9mMJ1FklfmxECube0yEvOTLehNuMhKiUG2wFBslV66xGIvQ7PQIuOx6k7JaZ24shKqomE1G\n1rYPmRvTSxBrjw+IeO20uj1CHjtTER/fvr/DXFgH591B9jzidXKQq7A0ob/ucSLLjYUJRrxOdlIF\nnDbzkPy/nihwaWqEbKVBpdnBIulNuqWJEPf2MyyPBwENURDIVhssjgWG+WPY66DY6OEf6BpbTEbu\n7me5MXc66dWTVVZ3TwdFTsDuzn6W+ah3qMYGYLcYeW07zeXJIFaTkXNjPtKDeu2JvdONmSCiIDDm\nczyhe1xq9pAVlRvTQS5N+CjUdUS2SiJ7g7JBratSVwwUshlQZDRNw2jSa8SnBCQNu82CIJnR5NPM\nHtGI0uugyj16zTo+h5lkuc1BsYWsQrzQIttSOa50qHd1m6xHg4GSxYiL5uA6h3Vsl5nHmQaTPisx\nn51Rt4VSs8+9bIeucio+tBxxMOG1Iisqd1O6UpyialwddxF1W9nMNFgMO1iOOHFZjeQafS5F3STq\nGgG7iZDTRKbW5fyoC1nVsFtMLI+6ifhd/Oc/dpFbN64zOTmJ2WymXC7z6NEjVlZWuHv3LvF4nF6v\nR71ef2ZJ23eKv03pze93GH7913/9ebZ/ro2/n6FpGqqqUq1W2djYoFwuMzs7y9TUFMViEbfb/Y7U\ntHeKo6MjxsfH33WbUqnE+vo63W6XUCjE4uLie+oey7KMWVDw+ALc2dylUKkR9Lnx2G2U6g2SWX36\na24ijM1i4u72ERNBD7KqUa63uboY487jA26em+H25j6X5iZY2zrkXCzCTjLPx64tYzCIOGxmbj86\nwDhwsD7MFLm2MEkyX8Fulhgf8ZMrN3CYDORrLQr1FuenR8lVGqiKymjAQzxTplRrMjHio9Jok680\nuDgTZSeVp1RrcX1+nFSxxkLUz16mgs9lo9HuUW60uTgZZG0/Awhkyg3Oj/sY8drZSpXJlBtcn4+S\nKTewmCTSlRYhjx0NjXMTIXYzFVLFOrfmR3HbLTweDHMclxp89NwEq/ungyIht41Gp4/VItHqylyK\nhTgsNMhUWkQ8NrwOK8fl5mBbKweFBslSk5mwizG/g0RR/5vHIpKqdOnKKsflFuM+J6NeG6Vml+Wo\nb7jdiNNEPHEEZ4BW1TQkyfjEqspgMCKfnQ41GEHtY7VakWUZTZXBZKfZU7FKIsVmn76iEbaLJKv6\n685H3cPpOo/NRKHZIzAY2pgP2ZnwWenICoV6j1y9R7HZ59yok1S1i8tioN1XWQ47UDWBe8ka5yJO\nDssdZoJWNE1gL9+i1OrjMBuwSgbup+pIosBcyMZuoYVVVKh2NYJ2iVpHxmuX6MsqPVm3C7sYdfGp\ny6MIgoDJZMLhcODz+QiHw0SjUfx+/9D/r9VqcXh4yPHxMZVKhXa7PcyeDQbDeyZB7XabVqv1TJ52\nf/Znf8ZHPvKR98U9fmvEYjF++qd/+v3u5jeeZaMPDCC3223u3btHqVQaAvHJiHOxWMThcLzryPPZ\neDdArlQqPHz4kEajwcLCAlarFUVRnmmZpKoq2WyWf/CjP8C9rQPShTLlWhOP007A48LrsiPLKo/j\nSQqVOkvjQfx+Hw6bjbmJMAfpPDNjI5SqDUZDXpw2C5ORIIqioCgK8bQ+Kff4MM2luXF2kzmuzE+Q\nKlRodrp47DZ8DjOSUdABt95mYdAkVFWNkNeJZDTQ7vbodHt0ZRWXVa9Jnp+KsJHI4HfZabS7pApV\nXrkwxc5xiXpbz7jbXV0pTBRFFsdDpAZ6FJ2+bhOVGThNHxfrXI/5eTTgM1ebXWYjPjLlFo2Bg3Sq\nWOfceJDD/GlDzm03Mx5wkR6AbNBl46DQwGQ0EAu5yVRaNAdNMq/DTDxX41IsSLrcZHksMCxXtLsy\npWaPixN+So0uUbeZfFN/3YjLym6uTqrcwmmRmPA7qLR6dHoycj1Pr6+ANsj2BBFEEbPJNKwlmy1W\nup02ToeDXr+PwWBA00BA07NbUcQgQq3ZRjTbWRqxDZ1NRh0GioM6ttEggiAwF7JjNRmIuC1EXBZ2\n8y3yjT71nkKu3uNi1EWi3EEQ9Jq0U4KFETvxYoeOrJEotdEAj10i5rVilYyspxtcjLpwWyX8DjP3\nU3UuDFyhJYOIZBBwGFS6mkBPAY/VyHa2jsNsxGeXCDhM/Bc/OPOEpOhbw2AwDN+ThYUFotEokUgE\nu92OqqrUajWOj485Ojoil8vRaDTo9fT3QZKkJ0C62WzS7XafSdflS1/6Ep/85Ce/L4akzxnPBMgf\nmEk9k8nE9PT0Oy5XTuq8zxonbh1nGwm1Wo2dnR0EQWBxcXFY/mi3288taA+6CNEnP/dbJLIFDtN5\n3E470YCbaq3KxIgfTRDYTGQY8fWJBLx8c3WDhclR0oUyjVaXmDXI6w93ub40xb3dJOdiEXKHGSbC\nftLFCslcCa/Txu3NOFfmJ8lVaoQ9dtZ2jkEQuDQ7zv29FNVGC5dNH50dC3l49eE+AOdjIdYPCyRy\nZX74xhJfv7MNQMijszpkRaXW6uJzmKm3e+ynSyyPB3A67NzeSpIs1rk6F2VtN83CeIi7e/rAyvph\nDrtFYr/Q5MK4j4dHej1a6XWQRBWLJNLpqyyN+fnWRoIbc6Os7KaJhTwDBxGBS7Eg3b46HIWuNLtM\nj7ix+51D9kXAaSVRaHJnL8fVqeBwyAV0veTVeIHbeznCHiuijn1oGkwEnUOxHY/NzLceZzGJYOmV\naTQHmhaihIiKKhhAlem02wNwNtDt6HXleqOB1Wql3ZcRND17FlBx2B3UG01Qmkw6AphFjcWAhKoo\nyKrClFc3CdgrdWj3NeZCDlYTFQQg5NQpessRBxtpnS7X6qmYjSJXJ1wUm322cz00saNrfPisVNp9\nbky42cw0kBWdreC2GBGAB6k68yE7y2EHPUVlN9/iQ9MeEqUedoPGmNdKp68iqyqXxjzIip4d/3uX\nwris7+2C89Ya8lnhoLPR6/VoNBo0Gg2Ojo5oNvXP6mQs+mzT/L2y6RcpTv+3ER8YQDYYDE+tHT3P\n+DScArjZbKbRaAwNUWdnZ992jLOZwLOc48nS1mAw8L//5uf4+5//HfLlGulckU6ng8lkxuNycnic\nZybiQ8bAnUd7XJqPkS1VqTXbnJseY2UzzksXZnljfY9Ls2Pc30txY2ma1cdxXjqv//7y/CQaIKgy\n7XaHO/kqy+MBHiWLHOVK+F020sUqH7k0x3Yyx3cf7PHSuSne3Dxg/SDH5ZkoksnE11cfD0arE+ym\nCtxYnMBoMPDGo0M8NhMuq0St3aevPukP92A/zSvLE3z3UQIQ2EsXmYt48TptrOwcU2l2WQi7KbVl\n4sU2XVlhJuzmuNSi3tKBdWXnmOVRN5oocFI/vn+Q56PLY+RqbcpNHTyLjS6H+TrXpkMcl5s8ODzl\nJYuiSKsjc3HCz4NEcajKBhDx2LmXKDETcmE1Gdg5Q5HzOSzs52q0aoUnyhQum4lWT0YdPOQ1TQOj\n9MQ2AIomIKinpQzNYKJebyAYJTRFJpnJc1gHQRS5PO7hXrIK9Dk3ItHua4gCbGf0VcSMz8RuSb9W\nAQGjKHB+1IkoCEgGqHcVtnPNwbSeLr1pEAV8domOrOpKb+MuFE3XM75zVGMmYMVlMVJt99kvtHhl\nxst39sq8POni7lGVMb9IFxVB0MfdBUHjwqiLD808W/b5rE09k8mEz+d7IgN+61h0p9OhVCohSdIQ\n1B0OBzbbk559f9dryB/Ypt7Z+F6obPV6nQcPHrC5ucnExATXr19/avb9rKyMt56jJGj84o+/jNUk\nYTIZaXZ62Kwmmp0OkskIgu4uceP8LIfHObq9Puenx1jZ3OfqYox7W4dMhv3sH+fxu2w8PjxmxOfi\nzuM4N5ZiaKrMqMfG2m6KaEinqG0fl5iJBinVmowG3FyZG2dt+5DJsH4z3HmcYGFiBABNUweC9LC2\ndcTCgJ/c6faoVnWgqLR6QwPSTl/m9c1Drg0GQwRBIF9tMBE8tYkSRYF8Vd+nqmnsZqssTwTpygNj\n0EyVqzPhoR09oPvfaRrSYDAl7DTxnc0kBlRGnCaWol4OB3ziO/s55iIeIoOhEATIVFuUW10eJIp8\nZCFCq3u675MSx16uhmQ0EPFYWYi4cZiNPEwUdTbFk58ifVl5grImSRL0u0/0KGw2G71uGwbDIoLR\nMgRsTQMMJjqdNkpDXyG0Bw7WNkkkXta3OzfqotYblDCMBrwWkQWfSKfdxCxq9Ltd7iZrWCTDsAFo\nEAUuRx3cjHl487BCX9bYSDcYdZmH6m+dvkrEZcJjk1hNVPFYJWaDdpKVDtcnXNxL1ZnzGbmfqtKV\nFVwWI5IoEHCY+dkPx3jWeD8si5NsOhwO4/P5mJyc5ObNm5w7d25Ynz46OmJtbY2VlRW++c1v8qu/\n+quoqko+n3/fQyknnpiXLl3i3Llz/Nqv/dr72t+zxgcmQ4Z3Fxhqt9vPtI92u029Xmdra4uFhQX8\nfv8LBXs4LX+IoshP/Ds/hMnp47f+xZ8iyyrZYhWfWyHgcdGo1+n0elSzTS4vxBAFgZ1klisLk+yn\nsjhsFiSDgV5fYTriRzSa8Dpt7CTSHB7nqLZ7iKLIxIiPh3tJPXPe2KfT7eN12rAPRoibnR73d46Y\njgTYTxco11pcjI2wcZgl4vdgt5hodnoUq3Vmwx52kgVkVWNpYoRHiSx7mTI/fG2Br6/tAvBg/5iF\nsQBuu5XbW0lCHgcBl41CrYVRFCl3O4TcdnLVJhG3ldc2j7gYC/HgIIdBFDjM1wh77eRrLWqtHh6H\njQeHeRaiOmsi7PeQbeQpNLqYjSJB5+ny2SKJ3InnUFW4OhWkr2rDsghAqdWj05e5MR2k2uqxkz3N\niOsdeSgsdDPmY3VjG5Q+aCJDKptB0ultBv2YRkmir6iDh6eBXg8cdjuNgRqZJvdx2O2DZfhgH6IB\nQRRQVVC7DTySZ+gAshhxs5ao4LZKuKwS1yY8GA0CiVKbclfTHU8Oq1iMAoc1/XsXtGq0ezDpFDmq\nK+yWG0z59c92NmRH1dB1K1J1xr0WrCaRZk/k3lGNpRE7+8UWYadJ9zXUYDFkJVtrc3XcjazqZQpB\nFPn0rXHs5meHDEVRvieD37eGLMtDka+nZdPpdJrd3V3q9To/93M/x/HxMT/zMz/D5z//+e/pmGaz\nmW984xs4HA76/T6vvPIKn/jEJ3jppZfe9/W8W3xgMuR3i2cBzU6nw+bmJvfu3cNut7OwsEAgEHjP\nmtXz8JZPOs7b29vMzs5y5coVHA4H/+EnPsJPfvxlNFWj0+2SSBeoNVoUak1sFhNjIT+b8SRvru8S\n8XuIp3I4bRbGR7zkStVByeIYEY1v3HmE36WD3eW5CdrdPpLRgMlo4M7jOGMBJ3ariQszUd7YiLP6\n+JCFiRG6fZme3MduMTEe8tCTFRRF4yhXZm7gWC33ZZw2C7KiIisq6WKNgMvGhckQX7+zzUuLeiO0\n11eQRJF0Sc/acpUGdpORWwtjbBzlyVWaGA0CPocFUdQV4R4d5bk4GeLKTIRksc5uuozHZuHSVGjo\nPr2VKjE94iZXPdUnjrgtbKSb3JgJIQCLo16aXYV2X+FOPIcgd3BZ9Cwt6rGxmSrT7Mqs7OcJuW2c\nG0zizYZcQzBWlR5vPHg0NDbQVBWj2QwGI5oy6EUofaxWm24XNWjyNVotkCxDMAawWS2oqsYJGDsd\ndrR+F63fw2wy4bDbKeUyLIesTLmNyIqG02LEKhl4ba/MnUQVRYV0rYdBgHhBTyyWIi5aPX3Iw2q1\n01MErHYn9T5MuCUS5S4LXpGtdJXVRJV6s0PQbmTEIXEnUSNgN3Fl3I1FMtCTVURRYC/fQB0kNJIo\n6L8HDAL8yHKAc5G3j0e/W7xIP713o72Jokg0GuUzn/kMdrudr33ta9y/f5/Pfvaz3/MxBUEY1rr7\n/T79fv/7orH8bwUgv1sNudfrsbW1xdraGj6fj5deegmXy/XMvMlnAft2u836+jrr6+uYTCauX7/+\ntnn7X/35n+Sj15ewmEzYzBL7qRztbg+P08ZuIkPI62Z+MsLdrQO8Tgduu41724csT4+x8ihO7P9j\n782DLEvT8r7fd/Zz19z3yqqsrKy9q6u7a+liFs2AB1kIW5ixkAHHMGJkLALwyEgEsh14jLFhZIEE\nBmQCgXEMVqBwgG0wlgkWMyzT1NJd+5JVue/7cvezf/7ju/dmZndVdVZ3zjAq805MdFRW1rnbuc95\nz/M+z/N25bkzPsex/i7uTy9xYrCHaw8meP3EIBMLq7x+8jBdrTnasy5zq5v8ye0nXDh5mChO2C5V\nyadd5le3+MjZo7zzZJZHc2u8elRpf2+Pz3NhpI+WXIZbE0u8cVxJirZKVfpas8ytKfri2ugMrx3r\nw7VMtiseYRTRWtcYb1c8/CDCqU/mFzaKHO9va8ZQhlHC7FphTybWzFoB2zCamRSg1L61IGSkr04f\nCYGUcGN8mbOH2ij4OxfHkZ4W7i6qzvRMb5aco9G4gWpxDa6Nr/JgbovBvNm0XiehD6UNkl1fDSE0\nojBC321u1nQEckdxAQhT0RKNL67QLWo1T92d6SaplEupXK0/Z4mfaJQrVaIo5s6TafxYcnexSMmP\nGahbqTUhmNlUIHy2L8dGJeBoRwrX0ujMWDiGzs25IromGFurogs40pWlI2ORSmcpBHC41Sbnmggk\nt+ZLtJiwvl1ier3EWrHK8Q6HqfUKJ7qyLBY8Fgs+LY7SVmtCcLInw7ed38kn2W99rTdOe563Jy73\nw3bncRxz/vx5urq6+NSnPsXly5c/1PH2Uy8VID/rCvY0lUUYhoyNjXHjxg0ymQxXrlyhp6cHIcQL\nqTIaioynVRAEzU0gXV1dXLp0CdM0n/n7/9N/8X0cG+xB0zVStkEcS0anFuhuz5NLO2xsl3j1+CAy\nSRifW+biySHefjRBf3ue7bJHNuXgByGWaVCs1Mi4NhPzK7xx4ghhFNPdluXO1HKTC74/Oc/hnjZW\nNosc6+/k4skj/P6NR1w6eQSA23XqIe1YlD3VHQNcezTDpZOD5NMOK9sVelozKtNMwqOZZS6dPMTc\neoGlzRKtGYeUbTLc187tyWWO9bRh6BpZ1+bx/CZZRydXzxo+3t/O7fFlXhtSHPbZwU6ANV3XAAAg\nAElEQVSujy1RCyKGu1sY7mnhzvQqWxWfqeUCHz8zwPTGDhVlmTqFit/sehvbpou1kOWCj2k59Lao\nRZlHu1uaPPB2Lebq+AqdZkhSWieOYxUEBJiGgdQ0SKIdjljTMQ2Naq2G7SgAMCynbotOMCwbdFPp\njeulaxrVWtBcSCpMG0JPZV8gkElMaVtRK6YmGK9vkj7TlyWIEs7158g6Oh0ZG0PTeGtym9VyQKl+\nATrbl2OkK01PWvDW5DYrpZCNSsDJ7rSSti1VOdSe4WxflhN9eWZKkpGOFOvVmHLNp9OWzK1v027F\ndLsQRTGChPa0wd//+NFnnv/Pqxdx2D2v9ttpb29vk8u9WBf/vNJ1ndu3bzM/P8/169e5f//+gR37\nWfVSAfKzancXG0URExMTXL9+HcdxuHLlCv39/XvA/EV44addBKIoaoJ9Pp/nypUrdHV1IYR4LsWh\n6zq/8d//A7paskRxQhCGlKo1ltY38fyAtGuzvl1isKeNc0d7mV5c5UhvB2gaXhAy2N3OymaBi6eO\n0tfRyptnh3Esi0rN4/aTGSYWVmnLutwam+PyqSGlG5aSk4PdbBTKzTS3t0enGezMISUUqj6nh3oZ\nnV1hZmmdgU7V2d+fXOCVo32sbJcZnd/g0km14un04R7uTi3R366+GBNLm7xxrJd7U2qR6f2ZVc4e\n6uTkQAdbFY+l7RrtWYeRvjZuTi4RJQl3ppa5MNzT1CRvlT0WN0v0tWVptNBhnLBaqHG6N4OuCQxd\nY36zwmbZ4+H8Jh870cuTpZ1IzKM9Ldyd3WCz5HF5uIu5jR0ZXG/OIqgWWVxe2ZlByARh2CSSplKi\nVtsZ0oWN3I665jgKvCbYJrH6u+aZoel70uDSKRcZ+iAEpUoFTAcRR2xuFXCSGhcPtzLcmea1Qzl0\nTVDwIrarIV+Z2Ga9HDTt5sOdykb9xqEcq2Wfd+YKZCyhdOO9GVrq+cd35ou0OjpRLJncqPJ4tcKV\noRZuzFc41ZNhqSIZ6GzBNG10U62uEjJGeBU+ki/w6P5dxsbGWFpaeiHX3de6Q/5qKSxaWlr45Cc/\nye/93u8d+LHfXS8VID+rQzZNkyAImJ6e5tq1axiGwZtvvsmhQ4eeGlryQQZ1oE7Aqakprl27hm3b\nXLlyhb6+vj3P6/0450za5Us/8UO05zPYhgEJhFHEvYk5gjAkYxs8nlngzsQCg72dVGo+SRIz3NfO\n5MIqb5wa4k9uPkIT8AfXH3C4p4PRmSUunhqiUK6RT9lqoefYDCcP99DXkSebdphe3uD6wymGe1qJ\nE0m5FjLYmcd1LNa2S6Rsk2LVU0HnKZtTR3q5N7lAb6vi2a49muGvnTvK4/k1tko1pJS0Zlzasi73\nplc5M9hJY5lELYiI46QJWFPLW3TmU2TrITwNHrMrv0NVHOlq4SuPFpoW6tMD7YwubPJwqcSRziyX\njnWzUlDdspQqWKgz63KsJ0/aNnhUt0n7UayOL+D1I+2kTI3Hs8sk1UITbNUHZWDpkt07GYSuqz/u\npikMiyCKm2CsFnLu6GV1XXXTquv2yGczVD2/+fuZTBoR+9iWidBNShurTC5v8s7sNmslFQ4E0FnP\nGenIWDxZVcaOrozFRjmgFiXMbnk4hmDTk7xxSNmc7y6WGGhRiW/He7LcWShytjdLzjHwwoRX+7Os\nlwNOdKe5OVegLWORsnWErpFJmfzwt77Kv/uJb3iPsuGdd97hxo0bPHz4kNnZWTY3N5umjnd/H76W\nWRYHGb25trbG9rY6Z2q1Gn/wB3/AyZPvDeA/6HqpVBZPqyRJmJ+fp1Qq0dPTw5tvvvm+J8mLArKU\nkrm5OWZnZ+nt7X3uY+xnCHi4r5uf/9HP8Xd/7OdJNKHyhGXCxLxSVgz2djLYa/FwcoG2XIaO1hy3\nnsxw6cwwbz+c5MThnjod0c7tsWmO9nVy7cGkMoOMz3Hx5GGErlOpBdyfXKBU9Tkz2MnDuQ02SlV6\n2nJYhk4+ZTG6sEEYJ7w2cojb4wvMrGzy71w4yf97a1ytJ7JNNZ0XGjMrWxzr7+DOxBKLG0WOdOVp\nyaS4M73K7ckl3hjp58HMKhU/5PHCBq8P93JraplXh3p569E8hzpz6LrACyImV7bZLHtcHOnj5sQy\nQZSQSMmNeixnJdihlGbWS0gErwy2c292g/62DPdmN4gTxYF+8uwh3hpbVp+tpjGzXma95KlhY1Ih\n9FS3LJIQiahrikP8JEYYNhCQch18PyROAmX48DwwbGTo40cCDAudhDCSCJlAlIDpEMuYuLGqSjPw\ng7AJ8dlMmlLdbBLLnfzgufl59FwX3fkW5utW6Im1Kmf7srSlTW7ObrNU8NiqRiSoC1BbyuSVvixv\nTW6RrYZMbtQYyNtUw4jZzRqaEFwazHNvsUTOMZBI5c7M2gSRAmf1foGII/69Mx2c7FXg9ixlQ6VS\noVwus7GxwfT0tIoGsO2mRjgIggPJEn7airSn1fb29oF1yEtLS3zP93wPcRyTJAnf8R3fwbd+67ce\nyLGfVy8tICdJwuLiIjMzM3R3d5NOpxkaGtrXv90vIDfiNiuVCrVarckRH8SxL54Z4T/9Wx/hX/yf\nf04YRmiawLUtql5AsVwlSRLOHB1gfbvEw6l5Tg92cndsloGuNoqlGqahI+r/C0KlnijXPN4Y6Wd6\neYP+rnYeTC1yrLeNUtXjyeImJwa7eTy7widGBrk1Nsvs2haXTh3h+ugst8bmuHJmCBD84TuPuXzq\nCNdGZ1ncLDHc00o+l+XW+ALOZonB9jSzGxWyjsl2uYKhqdvod8YW+NiZQ/zZo0VAbQI51ZdneUtJ\nvubWivS0Znj1SA9feax2990YW+QTZ49wbWyp+d6EcUKcQHvWYaPk8cqhdm7VjSAXhrsBjcVGCLwh\neGd6jaxjcry3BUPXuDm9QRL6xOUtSru+5zJJ0EyXJNyhH2QUoJk21dpOxnGSxApMy5Xm7yHri2nr\ndIWmCZIk3uEthAZSqWgwbAxdNP+9ruuESYLQNEQikJpOUlplo5DhwmCetKVzbXqb8bUy5pZOOUg4\n2ZNirVzgeKca8FWDiNGVCmGiQusvpC0EcGO2wJtH8mzXFHi3pkw60iZPVkoMdaTRZMxmOcBucdA1\n0OKEy4Mp3hx6vk1Z0zSy2eyewC4pJb7vN113tVqNW7du7XHoZbNZ0un0gXDL766DpCzOnTvHrVu3\nDuRYL1IvHWUhpWRxcZGrV69SrVabmcQvIll5P9CUUrK6usrVq1cpFArkcjmGhob2NdXdT4fcAPpT\n/e18z9+4Qj6TwjJNNCFwbZOtQoXZpXXG5pc53NvBx149gR/GnDjch2ObRHHMmaF+DF3j4+ePM9DV\nyvnjg0wurLFeqLBVqvJ4eoHethzjS5tcOTNMGMV4fsBHXhnmy7eeMNSjjCTXH01z+dSR+nur1BAA\n1x5Nc/mU4o1Ttqlu46XECyO2qwGXTgzwaGGT6bUSpwY70YVgpLeVP384x+m+ndvKOE7oyNpN/to2\ndJ4sbjDUrX7HMXUeza3T35amPetgaILNisfY0hZxIjnWmWZmYydkfmmrwkqxykiv+mK+criT7YrP\narHG3dkNNAF5LSAurYOMQewAg2E7JJGPvgsshGGRtvaCh59olLyoCca6bmBqKvsY1HkoDBOSCFPX\nFRgLrUl1CCSWJur/XmBZpuKp45BcLgNxqAa3swvcnFrj0UoFP5ac6ctR8iJcQ5BIyameDCnb4OZc\nkRPdWTYqAadaBRPrVRWpuVziwmCeRysVlos+mgDX1FkvB7w60IIfxWxWAg63p7B0QRxFnOzP8s3H\n8h+IahBC4DgOHR0dHDlyBNd1uXTpEufPn6e3txchBEtLS9y5c4fr169z7949pqamWF9fx/O8D23m\n+LfdpQcvWYdcKBS4e/cuLS0tvPHGG3tiMJ+1Hfpp9TxA3tzcZGxsjFQq1dxKffPmTaIoOhBAXl9f\nZ2xsjHw+T2dnJ99/8SKGleLXfvePiWLQdEG5vltO0zTujc/ihzED7VmW17cIooij/d28dXeMK6+M\n8PvX7nP57DH+7PZjXj9+iFtjC5w53M2D2VW6TYOUY3Hj0RTf9MZJ7ozNs75dxtQ1bo8vcG6oh7sz\nK9ybnOeT50f441tj2KbBiUNdPJ5b5e3RWT5+9gh/en8GgNeP9XJrcgXT0NksVWnLplgtVLg7tczF\n4/3M1amFhwtbXDzer4wZS5tAhWPdOWbWK8gkYq1Yo+yFnOxTAUpvT6ywWqzSkXP5hlP9/Gm9w94q\ne/Tncgx1pNkqryNRWRu3ptfULfpwF3O78o9P97XwF3fHINxRZshImTxcq55nDOiGSRzHyuBRqVCO\nA2UEiSMymQzliupsTcMgTCSxhDiKKJTKCN3EsU1qtXqmcxTiuCm8ujbZsmyCMKAah2im6pS9+uOm\nXIdCsYwwLAxdI/RrRIWAlUSiWw6JhDcGW7B0wV9MbdOVsdishWgIMo5Be9oiTEIKtYiPHG1ludiw\nWsPpngxvTW3zseEWxldDwjimPWUR2wlhHBP4If1tLp//puNN09JBlWEY5PP5PfxuI7q2XC5TKBRY\nWFjA930Mw2h20g1r9H6bqWKxSE9Pz/v/4tdxvVSA7Lour7322lNT3Rogu58IzqcBcqFQYGxsDMMw\nOHPmzJ6AlBfhnJ8FyIVCgSdPnmBZFq+++iqpVIpHjx4RxzH/6LPfxmahwv/+5av4QYyp6ypfIFRf\nrJZMirH5NY4MdONYFrceT3PllWNcezDOK8MD3Byd4lBHjjvjCwz3tfNgZoVLZ47yzugMn3zjFFNL\n69x4OEU+m+Lx7DKXTg9x/dEM96dXePPMEJulKm+PzjDY1crs6harm0X62nN0t6S5+miGgbY085sV\nbo4vceX0YTbKHmML6wx05GnLumyWaoSxpL89y+p2BQncn17h3JFuNSQTML5S5ONnD/POhFJj1IKI\nzVIVEe9wxVUv5OHsOq8PdXJzao2cazG9UaUSlDnR14ptGdyZUQH4iZRIAXGScG6wnduTi9x/9Bji\nWHHEdWrBcWxiSROMAULfA9OmUq02wcAxdAzXVmAMICVSM+rHaQz5BELTm2CMEEjdwKtWsGyHIIoJ\ndskpEymb2R9NWkQIbF3g1QeFjm1RKazQ19/NzVm1taQ1pc7hI+0uh6RaHvCViS26sxbLVcnlw3lu\nzxcRSPKuQVvK5M5CkY8Nt/KV8U3ePNrC1FoFx9RoS1t4FY+ca/JT/4FaCHpQw7jnlRCCVCpFKpWi\nq6ur+fMwDCmVSs2goQb18eDBgyZIZzKZp36P/6pD/jor27afeWV/EUDeDZrlcpmxsTHiOGZkZOSp\nU9wXceu9+3crlUrz+CdOnNijo9z9uz/5+e+mVKvyhzfuIYSGH0TEsURHsri+RVsmRaFUYSMucfnM\nMDceTnD8UA9TCyvkUyrHIJ9x2SiUOXGoC0PTef34IH944yFXzg4zsbBGay5NxrW5/nCKCycOU6xU\nmVvdxDLUvrVs2qEl47JVqnK4Pc344iZBlFCo+vS351jcLBKEMfn6puv59QJHeto4daiTtx7NAXDh\n+IBaO9WV49rYEuePdnN3eo3WrMutiWU6cynsWshm2aO7Ncf92XUuHOvlnYlljve1cHt2k/Wyx/Gu\nNIau82hFdZ6PF7d4fbib14508M7UWjMoaKtcY2l5FenvdMo0ZFuGpbpTIbBtB9/3EUJDGMbO7wAg\n8OKErLXTqaVcBz8MMS2bMFAJb0I3kKGPsBxkqAaB1To460Idp6HaEKZahOonGhg2SaQ0yrZlKdCW\nkmw6Tamq+Oy1zRKxLDPU185WEHC2y2R0pUzRTzja7mJocLwzzTuzAbEEUxec7c3y55PbfMPRFkCy\nWvJ582gLK0Wf3rxDytSY3yjhmIKf+85XmxefgwDkD0o/mKa5Z4BYq9V48uQJhw8fplQqsbGxwczM\nDEEQ4DhOE6DX19fZ2tr6K0D+eqrn3dqYprlvs0eD3rh37x7VapWRkZHnZrG+SIfcCCPyPI+JiQnK\n5fIzj6/r+h7N58//4/+Ez37hF7h69zGaEOiaIAgVT7lVruHaMV1teeI45rVj/QRhxOkjfWTSKbww\nQhOCB5ML+EHIO6NTZNMuHS0Zrj6Y5PzIIW6PzfHqsUPM1lc0SRIW1rbpbc/TnkuxsLbN4c4cA+2d\n3J5Z58ShLqaWtyjVAixD48xAKzfHF9A0wdnBbu7PruJaBquFMlnXolQLePvJPK8dbufOvJIU3Z5c\n4bXhPhCC21MrlLwC3S1prpzo5+oTNch7e3yJy8d7eby0s+GjFEJK6HRlTFbLIYfaHG5OKYv1sc4M\nLWmHGxMrxNUCJPEet6aOJDYciHfkZ77igzANvdnFuq6L5wdKRxyHlMoRCA2hGVR9BZpx4mEYhrKA\nN5Qfob8nz8IwDMI4xjI0wlCQTqUoVyqKc7VNEgkxau9dlCg1CZpBuVoDNDIpl3K1iqZpLK1t4WkO\nRzq6KPpVhvI6euzTl4a3prawNYjCkIylHHwX68ltr/Rlmdmo0ZkxybsmG4UK45UaXVmHX/3sJdxd\njcp+qb3n1UEcA3byMN4d2ymlbG4jKZVKfOELX+DBgwfcvn2bS5cu8YlPfOIDh8rPzc3xmc98hpWV\nFYQQfN/3fR+f//znP/Rr2U+9VEO959V+QdP3fR49ekS1WqW7u5tLly69bzD2i+7hW15e5ubNm3R0\ndDz3+Jqmvee4v/bf/ABvnDqGZSp9q+tY2JaJoWn4YcTM0jqj0wvcGV+k5Mdslqt85e4TgiDiz+88\n4UhPO1PLm7xy7BDr2yXasiksQ2dsboWRgS5c2+LM0X7efjLD/FqBoZ52ljYKpC2djGPSkstgWGqC\n/3hulVOHu9AEjBzqphxC1rVIEsno7Cpn+1uYXd1ibGGDnKPjmhrtWYeJ9SqvHu3BqA/ydE0lqKXq\nw7OKF7K4VeL0rs3UZS8iZZsMdqipfmcuxeRqke1axPnD7TjOjmV2qVDhzsScSlKrmzqixnVNNxC6\njkG4o5CgPojT9D2UgqlrWKYBTcedBMNSDjzZWLKqEaHvgDECqZtKTVHPSNY0jSiKCIKATCbdBGNN\nN/B89fNYCmh83kJHFwp0XNukWq1h2A4p16FcrSH9MjdHpzickViWxdh2Qns+x0DeYqhFcHupSt6I\n6HIla1sljrYYjC6VONJq8XixwJP5dcXxZ2x+5XsukHP33jUeRIf81TaFCCGwbZuOjg6Ghob4zd/8\nTU6ePMlv/dZv8bnPfY729vanHG1/ZRgGP/MzP8PDhw+5evUqv/iLv8jDhw8/zMvY/2N/TR7l66De\nLxM5DEOmp6dZXV1laGiIzc3NPdzW82o/YB/HMbOzs8zOzpLJZLhw4cL7dhBPA3ohBL/+3/0Qf+dH\n/xn3J+bQgChOsE2dshdgmwbFiodlmaysb2MYGq8MD/D2o0muvDLCX9wf59xwPzceTnKlnqf8kXMj\nSGCrWOXx7DJbpSoXTh7mnSezlCpV8vWtIa+NDPKVB1MkUnL51GGuj85xZ3yBb75wkt+/OQbA8YFO\n4vUiuq5RizUOdeQZXdhgfrPCkc4chq4xsVrm1vgix3tbqAQxo3NrVPyI4d42tqseR3vbuTG2hKGV\nuXisl0hKbk2pGEzXMvjk2UG+/EDJ4oIoQSKwDJ22tMX65jaVcpUoriso6soGGYdNmiBKdnhbGYcY\npqIdTNMkrNMKtuNQLFfRrJ15RC6ToViuqCGd54HQ0XSdOPTBcNCSkEQzIA6JAAwbgWyCvOOmVB6y\n5WCSEMbKeCI0DSlAS2IMy0ZIiR+GaLrZ1C0nMQQyxjBtklj9bHZ5nSCKyWczbBagGAgWg4QLh1p4\nvFpmsMUljGNqfoCVeNyeKoGU6JpG1jX48U8NYCQBUWTuAb2D6G4PKljoRfbpFYtF+vr6GB4e/lCP\n2dvbS2+v2uuYzWY5deoUCwsLnD59+kMddz/1UnXI7xeT+TTKouGu222l7uvrew9d8Lx6Xki9lJL5\n+XmuXr2KlJLTp0+TTqf3dcI/q/PWNI1//cX/nFND/YRRhO8HeGGo4jTr0jjXMql4PnEiuTU6zZtn\nh7n2YJwzQ33MrW7xkXPHEMAnXz/FX9wbRyaSRzNLdLdmsQydW0/mONyZZaNU4fUTg/hhzJ/dHefC\ncZXodu3RDG+ePszlU4f5/Xcec7lunX4yv8ZwXzuHOlqYWNpgcmmDU4c6AehqayERBq1p1c1OrBTo\nyaeafOPE0iY9WZulDeVOi5KE0YV1XEtvLlUN44QHM6uc6FarjWxDY7lQ497kIlvrayReSYGxeqPq\n/zWwLAtTyD1dsSESpDAIAx8QhGGEMEyEaeN7ai2SDD0c20aYDsWyCiryPA/bdrBMrXlOaTIk0UwV\n1wmK5khiMvWcDmHa9c0iAhlHmJYFMkETAse2m0tTgzBGajpo6vxT4fe2UoNISRSFoBlIXXHN2ZRN\nsVRiYnGdjfUVovIm9ybnKG6uMTq7zNTiOhPLW9TCGF3XMEyTjpzLz/2HZ+jO2iwvL3P79u1mVsP0\n9DS+738gp+ru+lrnWABNXvkga3p6mlu3bn1NgoXgJeyQn5WJ/G5Abjj45ubm6Ovre4+77kVVGe/O\nW25olScmJmhvb2+aRra3t19oANiIgHx3bW1t8Q++7Qo/8a8qLKwV8Bu3zFJi6DqFchVd16jUfCzT\n4MbDSY4f6mF+dYNsyuH+xDy5tMtmscKRvg6uPpjgjRNHeOfxDCf623m8uIkmNC6fPsof33rCK0f7\n2S7XuP5omjfPDHF3chHPj9QtPUqX/ObpI9wcW1BLLJMEy9AIooTJxQ2+8dVh/vjuFACDnS2YhsZQ\nbxvXHi9wpLuVqh/iBRErJZ9qEDHcmWFirUxfzuKt0QUOd2QoeSFdWZvRlSqrJZ/+tgzdOYe3R6eQ\nUUCCGuz6DRtvHGI5LoHnEYYKiNPptFJPGBZBEO61SwvR1Aj7DeAWgjARyDCg6fLQDMU5N6gMoamQ\nKRk35XAJSgpXKpXJZHOUy2V1fE1FoVarVTAUqNc8NfiTugVxSBxJ0G20yCeddilXami6TijV56tp\nGkkYoJkWYSTRLRtbF9QiDYQkThIyrq0APJHYhqaMg4ZOi2vwS5+5wKG2vWuUpJTNDR1xHDM6OkoQ\nBFiWtUfdsF8Z2tfaNv1hNcxPq3K5zKc//Wl+9md/9kBDi55XLx0gP6tM06RarTZNF1NTU3R1dXH5\n8uWnfuANAP8gMrmGVjmdTvP666/vuWp/GEUGqNuyx48fqxjPN97g/7lyhU//yE/zcHJevU7DoFit\nkXJsoigGJFEcEyeSxzNLmIZOnEhMw1BbOAyDcsWjPZfm7tgMQ90toBt804WT/NE7j9mq+HTk0tyb\nXODCicO8/WSOhbVtLp08zJ/cmUATgtePH+Lm2Dw3n8xxdrCNm9NqKPjKUC9P5tXw760HM0rXPLXM\n7No2b54aZL5u6Jhe2aKrJc25oz185ZF6HdPrJb7x3BB/fH8WgJn1MgOtLo23Q8YhK8vLzM1HyF1r\nkhqbR4RuYmoKFPcszKx5KomtnuZGpIAN1EU6iUIwVFer6Qa2qVPzPXTLJQ58RKNbFQJhOsgkxtBo\nfv7pdEY9RsMEYjqUSyXSmTSVuqytSWGYAj9SQJJyXaqej65pmIZJEnikUinKXoTQNBKhuOxsJkWp\nUsN2HHzPx3EsCuUqMuWiJTGxAKEp+zlIEDqmYWBbOjnH5Fc+e5G+lp2MkEYJIUin06TTaWZnZzl/\n/nxzcFYulymVSqytrVGtVtF1/T3Ou3eD70FyyC/S9R5UZnEYhnz605/mu7/7u/n2b//2Aznmfuql\nA+Rndci6rlMsFrl69SotLS1cvHjxuWD7QbTFpVKJJ0+eoGnae7TKu4+7X0DePdSr1WqMjY3h+z7H\njx/fI7/7zf/hH/I3f+gnmF7eAiQpS/HllmGorrxcrQ9BDMIooVz1SadgeXObod5OZpY3GOnvYLiv\nk2LNp+z5/NHbj7h0aojrozP0tefIuBZvP57h4rFe7s5usLBe4NzRXu5OLnNnbJ4TPXkioXNzcl3Z\nqh/Pcm9qiY+9cpT70yt4YcTD6WVeP9bHeqHK/ekVDENnpK+dscUNDne1cHtiiVcOd3FvZpWUbXJ3\napmRzhQzmzWCWJLNZHg4vUhbymC9VKB576CbO91qfT2SjEOC+tucTacpV2sIQ/1c00x2YTitGYeN\nQrn5Z8/zEZZLEgXU6vGWcVAjn8tTKJZ22aVVRxzXNc3o6qIvTJVx0ejOEYJK1QPTaq5x0kxb8dBA\nWy7PVp0OsSwTzw+wLFv9GwH5XIaaH2FZKUrlKumUS6Xmk0unKJSrpNMpan6AadQHiLGyYSdopG0T\nkLSmHX7pP37tqWD8rGoMzmzb3jMki6KISqVCqVRicXGRcrmMlLK5lDSbzeL7/teUQ/Z9f1/N035K\nSsnnPvc5Tp06xQ//8A8fyDH3Wy8dID+tNjY2ePz4MVEUcfHixT0h1s+qFwHkKIpYXV2lVCpx/Pjx\n52ohX3QpahAEjI6OsrW1xbFjx566xcQ0TX7mB76D//rX/m8eTS9haCCjiCiRVEoVMvWc5DCMcW2T\nIIzxPKV7HZtfUXrfmRVeGbYYm1uhsyVLez7N24+neX1kkJtjc1w5e5SaH3FjfIELJwd5+8k8D6aW\nGOrMsV0NqAQxmfom4muPprl8+gjrxSp3JhYZ6GwhjBIqfsjU0gZnjvQyu14EQvwg4iOnB3lnfAk/\njHkwvcKFY72UqjUeL5dYL0F/WxpLk9wfHQOZsF5rON7qXW4S4dg2XpRAHO5S+6qqeP4eKiMJfdDU\nHYJhmGxslzBshyioO9tMGxl6O5pglImhUK7t5BkbNjIKsCyTCA3bMgn8UEnWAo/WfJatonL0GYau\nQu6jANdxCCU7j2U4bBZLoBvYtoXne6AbRHEEAjLpFNulCqZlU6r6ZDNpvCBEM495wkUAACAASURB\nVExK1Vq9Y/bQTRNN0wnCiJSrtog3JiAdGZdf/swb9OZT+zrv3q+e5rzbvZR0c3OTjY0NwjCkUCjs\ncd65rvtCXex+O+2DTHr7yle+wq//+q/zyiuvcP78eQB+8id/km/5lm85kOM/r15qQN7trjtx4gQz\nMzP7AmPYXycbBAETExNsbm7iOA4XL148sJVPcRyztLTE6uoqp06d4sSJE++jszb4l//l5/jh//E3\nuHZ/XK0dMgwMVznANF0j41oUKh6GrqFrGmEcIxEsbxZBCO5NzDHY1c7c6hbDA134QUShUuUbXz/B\nn9wa48xQH6au8fboLGcPd3F/bp10OkV7WwtvP5nHMqqM9LYytrTF/PIa7fk0kzWfR7MrHOtrp1gN\nac2l+LP7U1w+Ncj1xwuYhs70yhbnhrq58WSRREqKpRKGaaPLkMDzmJ3bUjIxTdDYLdoAG9uySBD4\nUVJ3zamw91xWKSIaXbEf7z3VdcMgDgOiesca+R6O6+KHsdr6Uf+sRCyRQlCtb8HGtMk4VpMTDsIQ\nYbn1breu3rBcBcaGhYYkkjSdgdUgQdQHlMJwkI2OWdMIfI9cRsVzRnGCZtqUqzU0wyIMAox6trUU\nOoZI0B2HOJFkMi6a0Kh6AaI+yIxiiWHo9ORdfvmzF+jM7O+8/6Bc7O4AIQDHcRBC0N7e3qQ8VlZW\nqNVqTcqjAdJPozwa9ZeRhfzRj370q8JJ76deOkAWQjTddUmScPz4cXK5HFEUvfDm6Wf9fhRFTE9P\ns7KywtDQEENDQ9y/f39fV/7nbRgBmuFI09PTdHR00N7eTn//+6/P0TQNKSVf+m9/iB/4J7/Cn7zz\nkCCISITEtgws06BQrpF2LLV1WZNKSiskrm1T81XHPLu6gUCwuLZJZ1uemaUNFtcLHOvv5N7kAqcG\nu3g8v8740iafunCCP3j7MbZpcOZIDw+ml5lZ2+bjrw7zzpM5FrbW6hGbK0wtb3Kqr5X5TaWguPZo\nljdG+okSuDu9olx9bSkKtYAnc6vEUYiuaU29r5SSBAOoLxoII9DMetdbD+rZFeBTrPqYlkXU6KLr\nmRWmrhEmgjjwm3ys+sCVfppdWz5qoTKLUOebhRCkLENtqm5u/nCQQY1MJkOlUkWYjurAAZIEx7Wa\nbj3LdpWiIwE3naFWt2ablqXyhDWDQqWKaehgqqCjlOtQ9QLQVYNgm4p2kpqB7ys3YBjGJEmMaejo\nuoaua5hC0N+W5l9+5gL51E6my/uVlPJAeNgoikilUjiO0wwc2v13DZBeWFigUqk0KY8GSGez2aZU\ndT+AXCwWv2aDt69mvXSAPDs7y8LCAseOHdtjuHgRqgCeLpNLkoS5uTnm5+cZGBjgypUrTZ73w2wY\naVQjWKi1tZWLFy8ipdz32pjdnfcv/ujf40d/7kv8X396U3V3oU+lFmPqil/UNXAso7nCyAsCHNvE\n0HWqXkAiJTU/ZHZpHYRQW1bml0lbJg9nlnnz7DDza9v80dujatD3eJbx+RXODvXg2hY3Hk5z4kgv\nt8cXuDmxxJunjuDHMbcnlujMp+lvTTO/UWJ1fZNixUOLQqIwZGqxjK5pNKLr4yQhl0lTrGcGyyQi\nm0pRCwLiKK6bPhp8riTtWghNUPZCSCKieG/Yk+tY1Kpe88/lSg00HdexqVWrBLGo78Xz0SyHpL4F\nxDAdoihGahqVarVOQ5i4jkW5okC1Wq3Sks+zXVSDSsexCaMIz/NIp1w0ISjXH9tJpahVKziOixep\nwZkKKlJJcLZlEtV8NMOkGkos0yRJ1K27HyakXbUFPJ1yCeqB+45lEiUSvd7YHevI8st/9xK2+WI8\n7kGqI551HMMwaGlp2dPRNiiPhj26ka/seR7z8/Pk83kymUyz8353HWQW8l9mvXSAPDAw8J4tHfDi\n01fDMHa2Du9SZnR3d79HmfF+Xe/7VUM5Ydt2M1gIVCfxIgPA3c/hn3z+M7Tns/za73wZS9fRLI0k\nUQtCkVD1A3RNEMWSdMqmXAtIu5oKnXfUF16IHa10lCSU6wE8V+9PNHnaGw8naM9n2C7X2CqUWJdQ\nrXnceTzNQEcLi1slJuaXSRKJDH1W1mogJY5lMbu80Ty+XqeI4iRppq0BFMtV0HVFE9Q8vDBSYAwg\n4x2Thm7gBaHa6lGf2Mk4bK5NIpHUKlWy2YxaNApIzQRRX83UCPmRES0tOTYLO8O7SG0b3dU9q5VR\nDYA1DINI6mwXi2TSaSp+pCzXAEKj6u90ealUimqtRvNCkkRkUim8IECQYDtqYOc66q7FNg3CWGKa\nBkEsyDga1VCSdmxE/e4HJIkUWIaGrgleH2zj57/7jQ9k7kiS5KsOyE+rd1MeoL53169fJ5dTssGl\npSU8z2smwjU66VQq9VIEC8FLCMi6rh8I/9PokNfW1hgfH6elpYULFy7sifRs1Ae9xatWq4yNjREE\nwXuCheDp1uln1W4jSxRFTE1N8dHj3Tif/kZ+5Xf+VA2CNB3bMEiQhHGCYehomqRc9cm4FuW6Zrni\nBaRsk5qv7MpC1/H8kLj+vhraLisyNBUK86ubzZ8lscbcigLc1c2dOw1N10mkxAsCMnW1AIBjGlTq\nrzWOI0zTUu7DOuiV67f9YRggNAOSGCEEYRTVb+s9YtgTCuTYFn4sIN7REJdKFXTTJJ1yKBYVD6xA\nuqIGdUnIZkH9HCnJZrKUymUVPhTEStEhEzzfr4O9rnjtRL3GaqB4+fqLVTRKHBElMVgu1VoNTdPq\nNmgPTTeoeB5oBvmsUk3YtoUXBEp7nICsZ1EbuqDsh2RSDrUgRgCaJrEMDQ2JlAkX+jJ84W8MEYbh\nU8/V96s4jg8sg+LDArsQAiHEexyzYRg2Q/Dn5ub44he/yN27d+no6CCbzfLaa6/x0Y9+9AM9/vd+\n7/fyu7/7u3R1dX1Nlpq+u146QH4/cNwvR+Z5HsvLywRBsKdrPYiSUvLo0SO2t7cZGRnZw6/trgYv\nvJ9q5CXMz88zMzPDwMAAly9f5vJlGD7Uz4/90v9GxQuwTIMojtVqOClBSvJpFy8M1RcASca1qHoh\npq5R9UNcW9EHtqHhx+r52JaBH0R7FA2moRPWu9e0Y1LxFEilHLXpBNRGZb+OmeVqDcs00XWdih+C\nppx3fhCiaUKBsACSqKnTBXAtDSFMqp5PHIVUd79FMgHDJutYlOqZEblsmmJJdcXCMHEsk2JpZ9uH\n53lYjkvoe/XXotxxKctQWz0QKgnOTiEDr9ncpm0TQ9co1DvufDZDoVQH+XQKz4+I6gCnGyZhUFOu\nuwZ9oRsIJFJKbNOkUKpguyl0DWSUYGqaknGizClCRnUqJEHXBJqm49oGUqpMjU8dS/Ndr3VRKBSY\nn5/fY+zYr8rha0FZfNgyTZPW1lZaW9V28S996Uv803/6T7Esi3w+z2//9m/zsY997AMd+7Of/Sw/\n+IM/yGc+85mDfMr7rpcOkJ9XDZ71eUOCSqXCkydPCIKAbDbLuXPnDuzxG3kWlUqFwcFBTp48eWBC\n9kqlwtLSEr29vVy8eHFPx/zXv+E8Az3tfP9P/arq/hA4pkGp6qNpGn4YksQJMknwQ1nPh4AgjknZ\nFjU/xDSUOy1lm1SDiDgJ0YTYoTj8kCCMaMmmiGJJzQ/Ip10KFY9qLSDlmgghqHgRpmmgCbUr0DR0\nqo3bewR+mIBQAKikaXX6AdmUqlW9gJS76wIZKxlYkqgwnprvU/Z2LrzFUgXTdtGFxPMDKtUQTAei\noJ7KVkMkYVPD7rhu3Y6uN5+X4ThEfk1xy6GPMN0mf4xpY+k6hfpKJtd1KVU8lVkhBKEUJGGA0HSk\nTNCkBNNBxoqvt50Uvq8MK379ltzSNWKhY2galq7haoJSoFx+tTDBNXUVjB+Da+v8/b82zJl0hXw+\nT1tbW/O1R1HUTERrqBzeHQK/28p/kCltX+1M5d1VqVS4dOnSh9579/GPf5zp6emDeVIfoP5/BciN\nCM6nAbLneYyPj1OpVBgZGSGVSvHgwYN9H/t5G0l2Kyf6+vpoaWmhu7v7QMC4VCrx+PFj4jimu7ub\nY8eOKcdZkjRv+QDODg/y2z/9D/nMF/4FEwtrhFFELu0ggXLNx9B1qLMjDQ5ZAl7dki1lQj7tUq3z\nmn4YITQBEipeoDrmMKZQrmLoBkkiKVSqdUuxJAgjVHMtCcOkvtZIaYRFQ00h5R7lg2sZRIlOkkhq\nNY9sOlOPpBSK99V0kImiLPwYZEyt3n7bhsAP6vwuGqEfEO56uy2RYO6KyJRJhOWmCKJkJ3MirJHL\n5QjDqGlvFrGSuRH66r2tPwe12Rw001EB9UJgiIQQA+IAt97ZRnGMbjsEgY/r2niJwPc9dNMirjtD\ngyjG0pQzzzRtKjWPbDqFbQiqXohjG81Apayj81/99RFS3iqZTHtzkN24GGuaRj6fp6WlpXk+xHHc\nVDnMzc1Rqd9JNIC5Mbv4MID6IqFAz6oXuTgUi8W/4pC/Huv9AoberYYIw5DJyUk2NjYYHh7mzJkz\niLqy4EVUGY3ue/cJJKVkfX2d8fHxpnLCsiy2t7f3nZPxrPI8j7GxMWq1GsePHycIgmZaXS6Xe6rd\ntK0lx2//sx/h+37yl7l2b5w4SfD8EFPT8MKYlmyKOE6oBSEakEo5ICU1PyKKEwoNiRhxHQQDtDqw\nxnHS7JjDKG5+DqLOxUZxHYTrlXZsKt7O0BQg46rHa8jXap5PPpuuUwKCUqVSN2tETZmbZRpNKkO3\nbOJQddteqJLRolAFBwGkU2kqdcdeEAQkcsfZmXZdKp6nEuB2SdpKpQro6mtiWDYySSD0SLkuqqMP\nieOISjkin89TrFMWruuqLl+G2E6KWpRAHDc3TQtN5UsQ+uSzGYpehOs61PwAxzIIolhtC6n5ZNIu\nZT/C1pWTT9d1kIK+lhQ/fCVPOt7ixNmzpNN7XXiNcKLd/228342hmFanReI4plarsbS0RLVa5fbt\n28Rx3JSiNbrp/Z6zB5UYt19QP0hjyF9mvXSA/LzaHcHZoA8WFxc5fPgwIyMje06gF804boB9Y69e\nYyWTbdvN3Xsf9Ni7qzGwW1tbazr3kiQhjmP6+/ub/KHv+ziOQy6XI5fLkc1mcRwHXdf5hX/0WX7s\nF/5X/s3VB1iGrr7gWky15hHFCZZpEiQRSZxQ8QNsUydOVMda81WOcGPdkKZBlEiEBkk9I0MiiWJJ\nSzZF1Q+JE7BNkyiJiRNI2ZZyoqEBEiEhl0lRrAO+Y1t4gQLpQqmCUf/cdE1x2ELT1PAuCQmTHYCI\nA59cNkPFC4mjgCjwELrVVEdoAsXhxkFTzodhYxmCSq2mwDnycV0HL5T1QCEgThCWSxTUdi40mqb0\nyHGMpukkukmhWEIzLKSmU6sfT5gOvqc67nQmS7lWVYYdw8APAnKZNIVSBcdRYJxJuVTDGNux0DRB\nytWRCaRNQZhIZCKRScKpTpe/d04wcqjnmXdbjfN5d6fbAOU4jpFS7gFq13VJp9NYlsXhw4dJkgTf\n9/ds6gjDsLmpowHSz5Kifdg7wBcF5Aan/G9zvXSA/H4dchAEzcHX01Le9nOcp1UDZBvKiTAMn6qc\n2P27+6kGFQKwsLDA7Owshw4dasYBNo6j6zo9PT3NJY9SSjzPo1gsUigUmJubw/O8Jnh//7d/Ix97\n4xw/9aXfoVTxERKMurFAE6LZeeYzigfOphzKNZ+UY6JrBpomKFQUgOu6RlzXNIexUhGbuqasxoCh\nq/B8UFrgqq9oENPQaSjYiuUqhqETxQmeH5DNKG5XorTTpmkQhhEIqZQOoj4ZjFU8o64bRHGiZHJC\nbXMGkEmsgoZ0KFXU39mWhR+ESlURB2jWToKZ0j3XEEKdEwo8dRIZEevqYuM6DpX6sXK5DMWyr9x9\nQqDpGiIKsVxHuedqHkLTsGyHSqUCel3hUaliOS7FSo10OkWl6iEMlV+RSaeoeD6maWLUw6AQOrZt\nYOuCN/sEf/tMBsMwmJqaYmlpiWw2u+fC+6zztwHSu5uPRgc9NzfH0tISx48fbwK2ZVm0t7fvsezv\nDhxqSNEaWz0a3fRBKJ1eJHrzrwD567ieFjDUAKjFxUV6enqacZgH+ZgTExPNlU/PUk7AiwGypmms\nrq4yOTnZ3DCyW3O8myd+9/NxXRfXdenq6mqCeX9/P67rUi6XOdRi8o//9sf55//Hn7O2XSGI4noo\nTQIS7Lq7L+XUb51dm3LVJ5s2KFQ8LMMgiGOVGqdrJFLxz6VaQBQnSl3hh0RxQjadolT1qHkB2bRL\nqeoRRjGt2TTbdeCOYqkynRE7DjqhnotE3wn1SVTnFCUSiUaSSOI4aL5207QIwwDNsDE1iW3blHYt\nJ9V0A3RUpwx4tSqm46Ih65nHIHQd3XSJAq+ZryxMF0Gyy3nnUCxW0G0XTWpEUnXpmqbhBQmGqath\nI5pSaRgmIokpVyo4lo0mBIFp4/mhugBVamBYhPXO0K5vUNE1HcPQcHX4rrNp/s4nzjdvz6WU+L5P\nsVhsOt88z9ujrsjlcs+NzaxUKoyOjtLS0sKlS5eaIPgsyqNh7GhtbW2ef7vdd+vr61SrVd5+++09\nzrvnWaSfVi+Sqex53r5jEZ5X3/md38mXv/xl1tfXGRgY4Md//Mf53Oc+96GPu996KQH53dWIwwTo\n7+/n2LFjB3bsOI6ZmZlhbW2NgYEBzp07d2B5FsVikXK5zPLyMufPn8e27acO7J5XGxsbjI+P09bW\nxqVLl95zgr8mJZ/6xEf5z376f+GtexPIRFILYmxTJ4hiDE0QxwlCQKnq4Vgq1CbjupRrPo5l4IUx\noDjiYtUj7dhU/ZCqF5DPpoiihHLVI5dWHWGpUiOTdoljyVapim40FCGKdyw13HRCURoAUaisxSBw\nLEN1jYl6XAkq1ziOMAwdxzKVfree+BaEZdxUCq2+hbpWqzYjNhECYViEvtfk3U3TxLYtKl5Uz0hG\nqSICD9ux8TFAMwjqxqEkjpUhJfLrJhFlIjGFTqxrOLZNIpWrzzBNIinwgxDb1SEKkIZJzQ9IpRxs\n02C7GpJxDYJIYhoaugatVsIX/9YpXj05vOdzF0I07cm79bqNfXPFYnFPbGYDpLPZLK7rMj09zfb2\nNidPniSbze45N55FeTTAufH/xvNogD/AzZs3OX/+fFMvvNsinU6n91Aez2qM9ktZNJqvgxiS/8Zv\n/MaHPsaHqZcakN8dh1kul9Vt4z6r0YnuRzlx6NAh8vn8vk6K90uSawzsPM8jm80yPDyMZVkvBMSN\nPA/DMDh37twzu4fGdP1Xv/AD/Ovff4t//q/+DVrVI5YS19YBQTUIMTQNxzFAqseu+T66LtTwyVJ0\nQVT/clY8H8ey8MOIYrmGrmtImaiwH00Zd/wgJKy7S+Ioac77FK2gAxJdgO049YWiYChRx44LTjea\nrjySBHSTKAqb+mPVKYegm9Q8ZXppJMSJyCfX0kKhWG6GCfm+ksNFUUAYqQ49l8viBzGBr1QVhm4g\nRKwyh2NBJpOmVCoTxYJ8NkMQJUS+r3TTNV/FbGg6fhCRzaQJwhhDJiqHox6zCRIpBWECoRfg2gZC\naKRsDRlHXBnI8lPfdeWFtPANquHdsZkNCdzY2Bjb29tYlkVbW1tzcUI2m31uF/t+IB3HMdPT07iu\n2wTfVCpFb29vk36r1WrNfOXJyUniOMZ13T2Uh23bL6zUOCgJ6V9mvZSA3Fgd7vs+IyMjTTmM7/v7\n3jwNT98a8izlRMN7v596Vof8tIHdo0ePGB0dpbW1lXw+3wxdeVY1Euga26xfRAr0H33zN/Dm2WN8\n/xf/Z+ZWN/HDCEPX0YUgQaIhKPkBpq6haYI4kSQSZSqhjpZCkEk5St6lCyzDpBaEGLqGlJB2bcqe\nTxLXOWAhlBtQE1R9pUs2dB0/jIiThGpVxWD6YUgUg9B2Xrtj6niRrlxyMlbRQ3UZmpSqu0RYzc88\nCCPQdIRmYGqSQqGI46bwvRrplNrMLWV9hZJM0E2HYrGEMCyEpmPadjPLQjMspGEr44jQEJZDoVxB\nCA3DSVH1PISuK7rH8xVlU6khdMVJG7qmFpgGCY5pYOoGXhTXjR/qPLNEwo/8zVP8+5dP7PszfF4Z\nhkE6nWZ+fh7DMPjIRz6CaZp7+OAnT56QJAnpdHoPL/28c64B0qVSidHRUXp7exkZGWmqN949PHQc\nB9u26erqapqfGsPD3aaW/6+9Lw1vqzy3XXvQaNlybMcmsRPPQwYSEtsQoIeGXiA0cMLQXoZyDlDK\nJXDJAAeawuHAgTKXXEobIJQCpZzS8AClpECAAk2YYyeEhCae53i2Y1uztKfv/tj6NluyZEu2EjJo\nPY+fx7K2tz9Z2u9+v/Wud72KosBiscBkMk3Y1JIIid3RAiZO8v278aSLEw0NDbDZbOO8g2lxa+HC\nhTGdZ+/evSgrK9MyE71yorS0NCTrPHjwIAghmDt37qTn7enpgSiKKCgoABA6TmrOnDmauxvNPGhG\n4XQ64XQ6NTkSVVCkpaWBYRitKFNYWDgtnbOiKLjv93/BW5/sQUCW1G5kArj8AtJSLHD5ArCajMEu\nPrXhgwt29anFPdV9jWUY7QOjejMEb4Y6+ZvJaFADJYLcb/CmRotr6vEMOJYFw7BBRQcHBsF5cwyj\ntTkDgMVqBc9y8Pn9kINZM82izWYzCFHbxrWtNsfDZLYg4P22cy/FZoMsy+rkaKjqA47l4BckyJKo\ntloHDY9SU1MhiOrkaJPRCIZlVYN5k0Ud9CqIYFkeRBZhsag2nbxRzf7ULFCEwnCwGDhIijp+i2eB\n0qwUPHntGci0jx9yMBXQHV1XVxeKi4snHOBLjX4oL+1yuSCKYogEjmaxlD+mEsyKioqomTz9n4dz\n03rod4BtbW1gWXU8ltvtjtrUMjIygp/97Gf4xz/+kZD/1WFCTBfjcRmQo5nyeL1eNDU1aabTk2H/\n/v2YM2cODAaDppygdp7h6Ovrg8/nQ1FR0aTn7e/vh8fjQVFRkeaVMXPmTBQUFMRUsCOEwOPxaAH6\n0KFDqqtYSgpycnKQnp6O1NTUaWcNO/c14vbf/AmDYy6A5UAIwAaLd76ACLvNCqfHjxSLSXUfs5jg\n8QmwmA3wCzI4loHZaIBXENXfZVUfC5Zhg/4MBGzwNSrBz6HJZIIgSiAAeIM6rFVWFHj9olbTA8OA\n5Xgowfc4zWaFqDCqhagiw2K1atM4GJZFelqa6k8cdFHmDCawDGA0cKq6gWHBBOVvAZmos/gMBgiE\nVSkW0a++D5wBqVaLViBMtQU9MGhQ9/nUe5HBrE4MMRnBgIHZZIRXUo2LFPCQJQEmsxkqVaEqTxRF\nbb4xGxhcseQknFtqh8vlijtbjQRatEtJSUFJScmUPhfhiYHL5VILlYw69DUnJwdz586NeeaeHpGK\nh4qiaNk27TwMb2pxu91488038cYbb4AQgnXr1mHJkiWorKyc8rDT9957D+vXr4csy7j++utxxx13\nTOk8EZAMyOEQBAH79u1DdXV1TOc5cOAABEGA3++fVDkxODgIh8OB0tLSSc87NDSE/v5++P1qIamk\npETjiIHogTgcNGO32WwoKioKKeQ4nU4oigKbzRaiRY6lyk0IQX9/Pzo6OjBr1ixsfvsLvP/lP4PN\nHYDTE4DBoPLLYBgIoqwW7Lz+oIJCzaB9wRH2qVZL0ByIgclogEKC9jssC0FUm0jMRgNkhUCUFDAc\nQxNeGHUZNMPymt9xqs0Kn6Buh2VJUqd8yN9SRozBpH5ag6Y/aampcLo9qkcyCd4MiKz+HZZDitkE\nGer4JkDNiv1CUM0hCmCMFpCgzzFjtMJiYDRJW6rVCpfHi7TUFIDh4HR7YEuxwu31q1aaBOAYBhyv\ncu0MwyDVYobDF4DZwAMsCw4EFbPs+H9XnYaTdGOWwrNVp9OpeQ3T9zQtLS1iw4aiKGhvb8ehQ4dQ\nXl6e0MYJQRBQX18PRVGQk5OjSSx9Ph8MBsM4hUc8TSIulwt1dXXIyspCXl5eiPRTD9rUsnPnTjz1\n1FO48MILsXfvXqxZswbz58+P+zXJsoyysjJ88MEHyMvLQ3V1NbZs2TKlc0VATAH5+CBewhAtmMU6\nlokqJwYGBjBr1iyccsopkwbIWM/t8/nQ2dkJt9uNJUuWwGazaVlBrIHY5/OhpaUFkiRh3rx5mmWh\nyWRCamoqZs+eDUC9IGkmrecHJwrSNMinpqaisrISRqMRj64pwI/PbsHdz7yGvhEHbFZTsBtPdaNL\nMRshSxJ4joXLoxoGyYqqR7aYVFWGyWCAIMmQZBkKgWaODwTN54Mdfurjb/8HsqyABv40ixGSAnj9\nfrjc6oUvy+pcOyIJ4I0mMAwLoiiQJEHV83rVgOz0+pGWlgan06lRE7w5BaJCADGgDiYFwJmsYKB2\nCQIAw/CAwQoiBq02TRZIAR98igGMwQyOSHB5vOCMZjiDI57SUlKgAJiRZoPD4wXHGyHJMswcB0lS\n1MAc9ABhAFhNHFafXYGrzhx/M49mS0m9g0dHR9HZ2QlBELRGIKoDbmtrw6xZs1BVVZUQfwr6t/v6\n+tDZ2YmSkhLMnDlz3DE0MXC5XGhvb4fH4wHLsiF0h81mG5ccKIqCtrY2jI6ORpxJGZ5J0+//8Y9/\nwO/344YbbpjWa6utrUVJSYm2y73iiiuwdevWRAXkmHBcBuRomMw9jRCCnp4erWmkoKBgQpG9HpMF\nZEmS0NbWhuHhYeTm5sJoNCIlJUULxLFcMLToNzIygpKSkpAKeiToLwI9L+12u+F0OkMGVFosFtUf\nAsC8efPG0TLVC0rw7m/vwCMv/g1/2b4LAYaBLyDCYjJClBU1m+RU3tjAMap7G9QbDAMGgqhOfzZw\nHPyCCIPBAGOwmOURBPAsiwDUbNlmUmVraluyDIvJCJ8gBVu3GY13liQJhFO37wYWEAVBHdkU7Mzz\n+AKw2WwQBAGCKMHpdKpBlFEAhofg98JoMkPmOJhNJpCgN7LJkgJZIbCayuG3igAAIABJREFUjPB4\nvWAYAalpdlVfLQTA8QYQlgcRAzCYzTCZOHh9flgsajHT6fODN6hudFaLSbXnZNQmjxSWgUTUdIkh\nCk4rzcYjl50KmyX2Nnr9hOjwRqDR0VG0tbVpzRojIyMQRVEL1PHOtNPD5/Ohvr4eFosF1dXVUamP\naAoP+rnr7u5WR2ABSElJQVpaGliWRXd3t3YDiaXzcHBwELfddhtYlsVvfvObKb0mPXp6ejBnzhzt\ncV5eHmpqaqZ93nhwQgXkaNArJ6he12AwoLu7e9rKCX3Bbu7cuTjttNMQCATQ2dmJvXv3apmq3W6P\n6hOgKAp6e3u1ot+pp5465YuKZVntbwLQZEr9/f3IyMiAoiior68HgHGZNMuyuPOnF+FnFy3Hhk1b\nsK+5C15BAsswYKH6QYiSDL8ogwEDjmUgiiI4Vi3uGXlelawFlRUOjx9AABzPwxOcLZdiUTsCAcBm\nVbXOvoAIjudh4FgIQftPjuchSxIgizAYTZqSglEkzLCnwuMXEAgE4Ha5kZKSAkGUYDKbwTHqBBCX\nOyiN4zmIhFUd54iqpRYkBUaOhTcQUL2TzWa4nE4wHIe0tDQ4XB4wigCDyQJ/IACO5wDeBJmoreOK\nIoFnGAQYDgALWZG/NWRiOHCMgll2E+65eCmqS3Km9D5GwtjYGDo7O0OKuvqmEVrnMBgMIXTHZLwv\nIQRdXV3o6+tDeXn5lDriok0JcTqdaG1thcfjgdFoRF9fHxwORwhnHn5dEELwl7/8BY899hjuu+8+\nXHLJJceF5A04TgNyPG/ORJ4TPM/HrFsOz5AJISEFO32HncFgwOmnn65dLGNjY+jq6oIgCOPUEw6H\nA62trcjMzJwwK4kXhBAMDAygvb0dubm52jgqClo8Cc9o6IXy21t/gn+29eKhF99G9/Ah8JwZoiRB\nlgkkSYKNmg+xqv9yWpBbtpjVhgeHx4d0mwVjngAYoiAj1QqXT1DH21st8AQE+AVRO48cpDpAFAiK\nDIZVO/dU8yIZNqsZXkGCIkkYGXOqUjUwsJpNaimPM2oTYOD3gzFYYQ3ywABgtZjBGU1wudwgUgAC\nywG8EVYTr5oBGc0wsIDD6YTFYoXZZIDT44M9zQaX1w+eUUAIB19ARKrVAklRYLUYIMgExqAOmwGQ\naiS4clkh/s//OjlhnaI0czWbzaiqqgo5r8lkwsyZM0OohYmaRmgQpM5vLpcL9fX1yMjI0GxdEwWH\nw4HGxkbk5uZqXDEtWOtHOQmCAIvFgk8//RQmkwnvvvsusrKysH379gnrOvEiNzcXBw8e1B53d3fH\nNM8ykTgui3qKokTVG+/cuRPV1dUIBAKTKieGh4e1gshkkCQJX331FU477TQtyMdbsKOVbKfTieHh\nYQwNDQGA1qZKg/R0g7K+GEibTmKBLMsaN0i7CBmGwad1XfjLZ/vh8Pggy4BMFBiC0y5ESfWhkGQZ\nRgMPhag/Y4I6ZrUYqAZKQ7DoBYaByWDQ/C/Aqo0iBp6DTJig3JmBzWKGx+fXFBrqeCQ/TCYjJEX1\nfKZOcABgT0tVZwz6/OpuJtitl2I2Br0pAIvVBkEhkAMBVVHHG0EYDlajKuvjeANkUZ0WYjZwkMGp\njTGiBJbnERDVYxhCwPM8OE4tPBkYYHlZJv7v8iJ4gioBvXyRBsN4grSiKOjq6kJ/f/+UM1cKURS1\n95YqGARBACEEubm5mDlzZkTedyqQJAktLS3wer2YN2/epC3PlDPfuHEjPvzwQzAMo8lG33zzzYRl\nx5IkoaysDB999BFyc3NRXV2NP//5z1iwYEEiTn/iqiwIUQdHRsKuXbtUA3GXa1LlxNjYGHp7e2Mi\n9Qkh+Pzzz5GWlgZBEFBaWorU1FStABFrwU7f2EFvFHqJG72Qp6KeoJ7PgiCgrKxsXNFkKqBBenh4\nGM+88RE+3t8Jp1cAy/MAA4gyDbTByRksB7dfgNloQEBUpXGSoqgcLiEwBzlphRAERCXIOzNQgiZD\ngCpz07dXGwx8UHonQpQBhnxLHaWlpkJSFEiyonbbGS1gFBGEM6pTN6BocjyLWaUyDEYjzCYzZEUN\nBAaDASazGbIiw2g0QCEM3G4PeJMFsqKo056DWmxRBqwWI4hCIBPAzDOoLkjH/ZedAbstVIqlzwbp\ne0v1vpMpKBwOBxoaGpCVlYXCwsKEFe0AYHR0FI2NjTjppJNgt9u1nRLdJVEdcDyfPYpDhw6hqakJ\nc+fOjTj7MhL6+/tx6623Ii0tDU888YTGTY+MjIQMMk4Etm3bhltuuQWyLOO6667DXXfdlahTJwOy\nHlQ50dbWhqKiIhQWFk76YXC73Whra5t0agj1VO7s7MSSJUuQlZWldSjFGoipHejAwAAKCwuRnZ0d\n9ff06gl6ISuKol0kes5X/9oHBwdRXFw8rmFmOqAc9PDwsDbpe/PrH+CVD2ow7HTDL8ow8jwCwUzZ\nJ0hItZjgCYhItag0g8nAw8AbMObxwcCxAKsGXyPPgWU5+EUJYFjYLCYQMKqPs6zAxHEQJBEmowkB\nSTU5Yhgg026HV5DUga6yBJM1BQG/H0ajCSkW9VhRUieFswYTFIUE26oFMJwRJp6F369O/LCnWNT2\nao6FzWqF2+OFzWpRby4cD1EhCIgSUq1mtRGFYWHkODCMgkXZFvzy8tOQkxV70NArKOh7S7fsaWlp\nSElJwfDwMPx+PyoqKsZ5IE8HoiiipaUFPp8vauaqLwrTbJpqpennLpJWWhRFNDU1QRRFVFRUxKQT\nVhQFr776Kn7961/jwQcfxL/+678ey1xxMiDT7/XKCY/Hg7y8vJhaiv1+P+rq6rB06dKIzyuKgoMH\nD6K7uxv5+fno6OjA6aefHpeeWM/lzpo1C3Pnzp3ytGC32w2HwxGSzVAePCcnB8XFxQnloKkLHeUA\nw9e95e878T/vfo7u4VEQwkCQJPAsD5moDm4Kw0CUFLAcC1FWNFMihmFgMZm+tek0GCDKQdN7htW6\n8qwpFgiiyi1bTEbwPKfabwLIDvjw+5rXsfb7V2EsNR1C0DcjIKgmRRaTAT6ZASQBHMvCaDZDkmRY\nzEb4AyI4joNfEMBxHIxGE1iWg1eUYTWq061TrGa1UGg0QpJVOoXlWKRZDDg5i8P68xeiYM6chAQQ\nSmV1d3ejt7cXRqNRMxXSZ9K0c24qGBwcRGtrK/Lz8zXfiVgRSSutN7dXFEVLNE466aSYzt3X14db\nbrkFGRkZ+PWvf53wTPg7wIkbkAE1mOqVE0VFRTAYDGhqasKMGTMi6ifDoeeF9aDBqLW1FdnZ2cjP\nzwfLsvjmm2/g8/m0C8Rut4fMKwvH2NgYmpubkZqaiqKiomlNEAmH0+lEY2MjDAYD7HY7PB4P3G53\niMqCZlzxXsTUtMlisWgc+USo2d+CzX/djvr2Prj9IggDsCwDQhgEJBmCJMNmNkIKNobwPAeWYeCX\nFKRazeBYFu6ABAWAycB928YsyzBbzBAlWXWkY1kt2D5QuxVXNtXiTyWnYsOSlTCaTBDloBpGVM31\nU6xW1ZOZAN6gD7GkqL4K6fZUSArgcnthtZghyQoICGRwMPEMOI6H0cBDJiolMyfDimV5JqyoyEJZ\nWVlC30u/34+GhgZwHIfy8nIYjUZN5qZvBAoEAjCZTOOGEkz0/gYCATQ2NoJhGO3ciQAhRKtViMHR\nVJIkwWKxhNAd4TcRRVGwZcsWbNq0CQ899BAuuOCCYzkr1uPEDciEEOzcuRM8z4/znGhra4PFYsGs\nWbNiOs+XX36JM844Q/sZrQxbrdYQFzbgWzN5/UXidru1Crbdbtd8J1paWiDLMkpLSxPC5VIEAgG0\ntLQgEAhE5Imp4xddn8fjAReUc9GvaDIoym97PJ6ohdCJ4PH68bu/7cB7O/ejf8SpOpzJaqOE3y/A\naOQgyuqgUpkwECUZBp6DT1CgALCnmCETwONXh65aTAYoBBAkWZXDEYKuNx+GWRkvVfSzPIr+971I\nsVpAGBYKGHh9PnAG1X/CwDEQFVY16Ic6A9BmtUCQ1InXskIgKQSW4HgljmVhNrAozzLhX8ttmGHm\nkJubi9mzZ09L66sHNY3v7e1FaWnppLrzcG9kp9MJv9+vNQzptcgANG+LaA0e01k33fXpfTP0QxPo\n+uhNZMeOHTCbzXjnnXdQUFCAxx9//LgwnNfhxA3IgJrFRbrbd3V1gWGYEAH4RPjiiy9wxhlnaA5y\nVJVhs9liLthJktqUMDo6qrVMW61WZGVlaUEw1gaUaNBz0EVFRZg5c2bM5xNFUQvQTqdTK2TRG4jN\nZsOhQ4fQ09MzbeMiivr2Xjz31sf4urkbA6MudSYfH8w4uaAXM89Dkgk4joUCQBBlEIYBy6oaZwPP\nwyeq//8UswEGjofNOYY7dr+Dlb0NsMoSfJwB789dgAeXrsSoPQu+gKDymwwLf0CExWICARCQFDCK\nDIPBCMKysJmNUAUfDAgDcCwLjmVhNRlQkZuBy5YV45TZKWhqakJGRgbS09M1TtXr9WoG8fT9jTdI\nU+e09PR0FBUVTUvdEB6kPR6PxkvPmTMH6enpU/KgiPa39Nn8ZKoRGqQfffRR/OMf/4DBYIDP50Ne\nXh7eeuut4yU7Bk7k1mlAdfaK1P9O3/BYQQhBY2MjRkZGtCxFlmXIQU4zFr6XZVl4PB4MDg4iPz8f\nubm5WhB0OBzo7e3VMhkaBCknGMv6BgcH0d7erk1CiZeDNhgM4zqrBEGA0+nEwMAA6urqtBZePe0x\nHc5yXuFs3PvTC9HY2IhBVwBfNA3g6+ZuDDk98IkSTEETepOBgyCrN75UqxkBUYIoK7AYjfAKEjgG\nMJt4yLICSRbhMaUgYEmBSZbhZ3mYZAlekxWHUjMhCSKIokBUAEBBisUEr181AUo1GyAqRhgNHFhG\nnULC8zxYhkFWmhUL5mZh1ZK5+N68XAiCgObmZnR0DOHkk0/W3M3Ctb70BjcwMKDd5PQ7kUhBWpZl\ntLW1RTWNnwqoFjkzMxNdXV3a7olhGLhcLk2CRj0oJtspRYK+pXoy9ZIevb29WLduHXJzc/Hhhx9q\ntZ2xsbHjKRjHjOM2QxZFMWJAHhoawujoKMrKyib8fVqwa2xsxPz58zF79uwQT9dY1RPDw8NaY0dB\nQUHUopp+u0kLc5EaRfQZh9PpRFNTE6xWa0xcbjygOwIAKCsr06wjqWct3W7qB6nGehMRRVGT9pWX\nl4cEHb8/gHe+PICP9zWjtW8Ih5w++EVZtQANTi8xmYwIBE2JZBLMmDlWLcSJCjbv+BMGLTa8Wn46\nrmiqQXbAjXXn/BQSUX0yeF51rpNkReWHFYDn1ZuYkeeRbjMjLzMVp5XOwkVVhchKs2rvEd3mFxUV\nTaiEiQQapGmmGh6kJUnCwYMHkZeXpzVKJAq0wSMzMzOqTI4mCfr16RtGohkF+f1+1NfXw2Qyoays\nLKbCsaIo+J//+R9s3rwZv/rVr7BixYrjPQCf2JRFtIA8mbY4vGA3ODgY4g4Xz8SOpqYmGI1GlJSU\nTMkOkFbXaQCkTl90xDwhBBUVFXGZ0E+GcBnbRLylnhOkXxPdRPQBraCgIOaK+zet3fjsmzbUHRxE\n34gDDk8AXr+IQNB4SJRVpQbHcAiIIsCwanMG9cwHA4ZlIROifs+wMPI8rBYjZqRakZNhQ/msDFSV\nzsLpJSeB58fTA263Gw0NDdoEl0SpVQRB0DrSRFEEz/MwGo1xtTZPBH3GrTeiihW0YYQGamoURKks\nv9+PoaEhlJeXx6yE6O7uxtq1a1FQUIBf/epXCXWhO4pxYgfkaBacbrcbra2tWLx48bjnxsbGQjJO\ng8GAuro6uFwu2O12jU6Y6AIJBAIhw04T+WGjeuK+vj5kZmaCEDKpBjlWhLdSR5KxxXoe2m1Iv2iV\n3ev1wm63o6ysbMp+tXrIsoKW3mHUdfahvrUTDq+ANPsMSApUfwmoxvYmowFpKQacZE9FdnoKCrJS\nAOlbSmGiTF8f0KJNEZ8qqCTz4MGDIYW1cBtVfSYdT5AeGRlBU1OTNmIskR1tdPwSoCpXKKVF/382\nm23c50dRFPzxj3/Es88+i40bN+Kcc8453rNiPZIBOVJADgQC2L9/PyorK7WfUeN6vepBX7CTZVm7\nOBwOh1a0odI22s588ODBmBo74kU4TxyuVQ5XdrhcLs3pTS+/i7YeKmPTK0cSBcq3ejwezJw5UxvV\nI8uy1kxAR1PFW7jStw7TkVdTgZ4u0gdpllUbRLKzs1FYWJiQmwhFvBl3tCAdifMVRRHNzc0IBAKo\nqKhIyDRmCr3yQ787ox2b9POn9z6hrcgvvPACysrK8NhjjyWEGz/GcGIHZFmWIzq1ybKMXbt2Ydmy\nZRqXOTo6GlKwi0U5oed7qUGLxWLRJnbE60sQDfFqfikmk7fZ7XZwHIe2tjZ4PJ5xXO50oSgKenp6\n0N3dHZFvjaXbcCLvBDpJXD9pJVGgul8AyMrK0jJ+fccc/Yr35pVI0/hIQZo2ReXk5GDOnDlT0plH\ng8fjQV1dXczKD1mW4XA48J//+Z/YtWuXWphNTcWKFSvwwAMPJGRNFAcPHsTVV1+NgYEBMAyDG264\nAevXrw85hhCC9evXY9u2bbBarXjxxRejNn0dBiQDcqSATAjBF198gdzcXPT09CA/P3/KBTt9Y0dh\nYSEURdH4XofDobqeBbdx8WaBlPrw+XwoKytLSLDUKzto5Z/K72imPx3lBMXo6Ciam5uRkZGBwsLC\nmF+zvi2XBmkAIUHaYDCgtbUVkiShvLw8odkfLeT29fVF1P3GwplHsoukoBRCpF3OdEHlZgzDICcn\nR+ucm656AlD/L7T1PpJXdjR0dnZizZo1qKiowKOPPgqbzYZAIIDe3l4UFhZO9aVGRF9fH/r6+rB0\n6VK4XC5UVlbizTffDKkVbdu2DZs2bcK2bdtQU1OD9evXH0m/4xM7IEdyfKM86TfffIPi4mLk5+eH\njIeJZ2JHc3OzNvIlmp8ANY/RF+UAjKMSwukHug2PV08cC2hmmZWVhYKCAk0jHa6c0MvvYs0C9Q56\n5eXlcY2tjwa6FXY4HOjv74fb7YbZbEZmZua0ug3DQesHVA0T600kGmeuD9IWiwXt7e0QBOGwUAjU\nKzsabaPXmVOddKzNQLGoM8KhKAqef/55/OEPf8Cvf/1rLF++/IhzxRdddBHWrFmDc889V/vZ6tWr\nsXz5clx55ZUAgPLycuzYsSOmJrEE4MTWIYdjbGwMjY2NsNlssFqtKCgoiNuJTRRFdHR0xDyxg2EY\nbfwO9VXVc210lBOVFjEMg0OHDmHWrFlT0hNPBL2MbdGiRVpQ4DguxC9XnwWOjIxo1X/K90ayANXf\nRIqLixPa9UUD48DAADIzM1FVVaUVM51OpzYiKNYAEw7Kt/r9fixYsCBusx6GYWC1WmG1WkOmd9AM\ntbOzE6OjozAajbDb7RgYGNAy6elSWl6vF/X19UhJSUFVVVVUHjqSzlwvcaNFaP3/0GazYWBgACMj\nI5g3b17MO7T29nasXbsWCxYswOeff55Q86NY0dHRga+//nqc5UGkiSA9PT1HKiDHhOM+IOsLdvPn\nz0dKSgp2796NAwcOaMqJyTIsPR86d+5clJSUTPmOz3HcuMkJ1O6QGsb09/djZGQkJEudakFJlmWN\nsywtLZ1UmsQwDCwWi8aHA98GGIfDgcHBQbS0tGiz+TiOw8jICHJychJuYE4LgoFAYFywnDFjRkhr\nLZVn0TWGa3ztdntIN6R+kGs8ErxYQG/wfX19MJvNOOuss8DzvBakh4aG0NraqhU29XRCrBpeSiGU\nl5dPSfY4UZAeGhrSuu0sFgt6e3u1NUa7VmRZxnPPPYeXXnoJTzzxBM4666zvREHhdrvxox/9CE88\n8URCFTFHCsctZSGKIurq6rQmkIyMDK1gRwgZ54xGswMapGkApI0ddIufKP0poAYcandYWloa8gEK\nBAIhVEcgEIDFYgkJ0hNlWHoZW15eHnJzcxOacXs8HtTX12sTkGn3Y6zGShNBLwebSgMGhb5bjk5E\nNplMMJvNcDgcsNlsCTXUAUKDZVlZ2YR+DJTSCve61u9GUlNTQz5zTqcTDQ0NcVEIsYJK/BwOB+bN\nm4eUlJQQHbK+WSQtLU1zeUtNTcWtt96KxYsX48EHH/xOsmJAveYvvPBCrFixAv/xH/8x7vljgbI4\nbgOyJEno7u5GTk5OTAU7Pc/mcDjg8XggiiJMJhPy8/ORlZWVsAtXv8WPVSIXqUmEXrw0SNOiocvl\nQmNjI1JSUhIuY9N7K4cXvvR0TLixEg3Sk1EJ1KUuPT0dhYWFCb0ByrKMlpYWDA8PIz09HYIgwO/3\nT6nbMBKoafx0lB96K0v6Rf2GBUGAIAiYP39+wpspxsbG0NDQEJNmmQbpPXv24OGHH0ZTUxNyc3Nx\n9tln48orr8SyZcsSujYAuO666/D2228jOzsb+/fvH/f89u3bsWLFCtjtduTm5uLSSy/FPffcE3LM\nO++8gyeffFIr6q1btw61tbUJX2sUnNgBmQbW9PR0LQjHkmVRdYPH49F4ZnouyqXSLDpe7Syds9fW\n1oacnBzMnTt3Wlt8Kh3TB2m/3w+WZZGbm4vs7OwpZ6mRQLfa8agEaNFQL7/TGxdROkY/1qe8vDyh\nDniAOqmiubkZs2fPDml6iaacoPI2+j5PdFOja/d4PAk3jadrb2ho0CgNKhGcytSYidY+f/78mAuO\nLS0tWLt2LSorK/HAAw9AFEXs2bMHmZmZkw50mAo++eQT2Gw2XH311RED8qZNm7Bu3TqcfPLJ2nv7\n0EMPoaurCwBw4403ghCCNWvW4L333oPVasUf/vAHVFVVJXytUXBiB+Ta2lrcdtttcDgcqKioQGVl\nJaqrq7F48eKIH7pYJnbot5gOhwMul0vTVk7GR1M9MZ2zN9UsLBLoZGsq46Mjqmimr6djpuI85vV6\nNW/l0tLSaa9dTyXQ/6MkScjIyMDs2bNht9sT9v+hfr+EEJSXl8fExUdTToRTCQaDYVrG7pOBTtkQ\nBAHz5s0LWXu4RNDtdoMQMq5bbqIgTW9SlNKKdbLN5s2b8corr+C3v/0tvve97yXktcaCjo4OXHjh\nhRED8o4dO7Bx40a8/fbbR2w9ceLEDsgUoijiwIED2LlzJ3bt2oW9e/eCZVksWbIES5cuxdKlS/HZ\nZ58hJycHS5cuxZw5c+LKKPXbdBoAeZ7XAqDFYkF3dze8Xu+UPIQnw6FDh9DS0qJx3JEuwHA6hnKp\n+iAdKQDSgiB1uku0Py2lVqgKRU/JTGasNBn0HWWJUH7olRNOpzop3Ov1gud55ObmakNoE1XUHBgY\nQFtbW1x2p5PpuOl4JVmWtWJpeKCfCE1NTVi3bh1OPfVU3H///QmV78WCyQLypZdeqt1cNm7cmKjh\npIlCMiBHAi3offXVV3jllVfw+uuvIy8vD5mZmVi6dCkqKytx6qmnTsvzVxRFjI2NoaurCw6HAwaD\nATabLcQPY7qSJypjYxhmnAl/LKDb9GgBMBAIoLOz87AUBCVJQmtrK5xOZ1SLyYk4c32QjhQAaeEr\n3saUWKAP9HSnM9Vuw0jw+/1obGwEx3EJmTwiy3JIkB4bG4Pf74fdbsdJJ50U1XdCD0mS8PTTT+O1\n117Dpk2bQgY2HElMFJCdTqfmp7Ft2zasX78ezc3N38EqoyIZkCdCIBDA6tWrceedd6KsrAx9fX2o\nra3VMunBwUGUlJSgsrISVVVVWLJkCWw2W0zFt3CemHoi6AOgJEkRC3KTIV4ZW6ygGeDQ0BAOHjwI\nRVFCTNbtdvu0x8DrpWbxTB3W/76eM6eUEd2mW61WDA4Oalxuonlo2iQxUaCPpdswUgCkypLu7u6Y\npoPEC0EQQvxa9G3XbrcbDMOM6+bjOA4NDQ1Yt24dzjzzTNx3330J9fOIFxMF5HAUFBRg9+7dU/Y3\nOQxIBuTpQJZlNDY2oqamBjU1Nfj6668hiiIWLVqkBen58+eHZLoulwvNzc0wmUyT8sR6LwfKo9KL\nggZpPR+tD2aHK2ulkqeysjLY7faQ4OJwOMZduLFouCncbrc2+oo66SUC1Fipu7sbg4OD4Hk+ZGRR\nPGuMBlmW0draqsnB4g30kdQnevMng8GArq6uhFt7UlD6o6ioSNOWT7bG//7v/0ZrayvGxsawevVq\nXHbZZViwYEFCP3MUkykoqAfF1q1bMTAwgC+++GKcB0V/f7+2q62trcWPf/xjdHZ2Hk1ucsmAnGh4\nvV58/fXXqK2tRW1tLerq6pCamop58+ahs7MTixcvxq233jplf2J9mzB1leN5HmazGU6nE6mpqQnX\nzcabtYY731HVRLQGDEmS0N7ejtHR0Wmb6USC1+tFQ0ODViw1Go0ha4xmrBRrYZMOyqWWpIm0sHQ4\nHOjq6sLY2BiMRqPmIDhVz4lw6McpxUN/1NfXY+3atTjjjDPwwx/+EP/85z+xZ88ePPfccwn97FFM\npqDYtm0bfvaznwFQlT4sy2Lz5s2aNcKNN96IJ598Eps3bwbP87BYLHj88ce/M2olCpIB+XCDEIJH\nH30Uzz77LE477TSMjo5q3XzV1dWorKxEZWWlJr2LF4IgoLGxEW63G+np6fD7/fD7/XE1iEwEfVGt\nuLh4yucJV03QcVQcx8HpdCIvLw8FBQUJzVYURUFHR4dmjj7ZTTDS3EDazqzXH9M1TkWdEQ/osFxa\njGVZdlwTRvjNLlaFjP4mG88AU0mS8Jvf/AZ/+9vf8PTTT4cMZjjcmIiO+I4bOhKFpJfF4QbDMKiq\nqsL69eu1opqiKGhra0NNTQ0+/PBDPPLII5rGs6qqClVVVVi0aNGkdAaVsRUVFWHhwoUh1IXf74fD\n4cDw8DDa2togy7JWNIzFoH6iEUpTgdFoRFZWlsbXud1u1NfXQ1EUzJw5EyMjI+jv75/QDyMe6F3T\nqqurY9pGR2oV1nsgd3d3a8ZK9DWUlJQk/KKn9IfT6RzXDm4wGJBe7PwPAAAYS0lEQVSRkRFSF9Df\n7Pr7++Hz+cZ5cetvJPpxSlVVVTHfZOvq6rB27Vr84Ac/wGeffZZQWeZ0cSx4UCQKyYA8TZxzzjkh\nj1mWRUlJCUpKSnDVVVcBUC+qb775BjU1NXj++efxz3/+E0ajEUuWLNGCdElJCViWxYEDB+B2u5GV\nlYVTTz11XOFI7zVBzWz0DSLd3d0a16vfolPnNf0IpfLy8oRmrfrxT+FZazQ/jHgmndDClCRJUfXk\n8YAO/6QZpMvlQl1dHYxGI7Kzs9Hb24uOjo6E3Uio7jc3NxelpaUx/e/Db3ZA6I2kp6dH25EwDAO3\n243S0lLtszEZRFHEE088gXfeeQdPP/30kWyUSCICkpTFdwBCCJxOJ3bt2oWamhrU1tZqvhB5eXlY\nt24dqqqqpmW9SQ3q9YoEKm2bO3cuMjIyEpoF0S6+8E64iUCLhvo10nltemtNAJq3RXFxMbKzsxO2\nbiBUb11RURGiFdffSPR+E/F0ydEGD1EUUVFRkXD6w+v14sCBA+A4DjabTXuvJzPT379/P9atW4fz\nzjsPd91113eaFScpi+BByYD83eOdd97BL3/5S9x2221albi2thYjIyMoKyvTsuhTTjkl7kKP3sCo\nsLBQm+JADYuo9lg/iioe+Hy+EN3sdC/qiW4kc+bMwYwZM0KKhtMFpT9mzZoVc1NQeMt6uLRNr+wY\nHByMu8EjVug10eXl5SGNO9G6DVtaWtDQ0ACHw4F9+/bh97///WGdmvHee+9h/fr1kGUZ119/Pe64\n446Q53fs2IGLLroIubm5aG9vx5133nm0eVAkCsmAfKyAFpjCg6EkSaivr9e00V9//TUIIVi8eLEW\npMvLyyMGUUIIuru7o45QosdEar4I1x5HClK0qEZdzRKlh9a/dirDKy4uDpnGojcEojeSeKv/1Noz\nUabx4bIxl8ulUQlz5sxBRkbGtFUTelC3PbvdHtM4JUB9vz/88EM8/vjjkGVZozjuv/9+XHjhhQlZ\nlx50gMMHH3yAvLw8VFdXY8uWLSFTPHbs2IGrrroKiqJgeHgYOTk5uO+++0IUFN+xB0WikAzIxxto\nY8RXX32lZdGNjY2YMWOGpo2urq7GgQMH4HQ6ccopp8TdqRaJRgiXjHm9XrS0tByWUUS0saa1tRVz\n5syJ6LGgNwSi69R7TdAgHel16xUI07H2nGj9+oIsz/Mhyo5w1US82T51ChwYGEBFRUXMMkJBELBx\n40Z8+OGHeOaZZ3DKKacAUG98dAeSaHz55Ze499578f777wMAHn74YQDAnXfeqR1zDHhQJApJlcXx\nBjqB5Pvf/z6+//3vA/h2InVNTQ0++ugj3H777bBYLFi4cCHa29tRXV2NJUuWIC0tLaYLX8/hUlDH\nNlqUolm0JEk4dOgQ7HZ7QvSplP7geR6VlZVRzxnNRJ822vT396O5uTmkaGi328GyrDYwNh4FQqyg\nWWtaWlqIWX801URvb6+WRYfL7yKBqlcyMjJiVpcAwL59+7B+/XpceOGF+OSTT0L+rzzPJ7wRhSKS\nOiLSDLsvvvgCixYtOlo9KI4okgH5GAcdarlq1Sq88sor+N3vfocLLrgAzc3N2LlzJ9555x3cf//9\n8Pv9WLhwoeZ6t2DBgpiDKMuyWkCeP38+srKyQjLUrq4uCIIQkqGGG6tPBL0/9FTpD/24rNmzZ2vn\ndblcGBsbQ11dHTwejzZuaXh4OCHNF/TvUE30ZFlruGqCEBIywZz+L/W+IjabDT09PRgeHo5rnFIg\nEMBjjz2G7du347nnnjsstpjTxdKlS9HV1aV5UFx88cVHmwfFEUWSsjhBEAgEsHfvXo2P3r9/P6xW\nK5YuXarx0ZFM1elQ1MlM18PVCE6nU/OZ0FuThv/+6OgompqakJ2djfz8/IS35tJZinT91N+aBkDK\n30fT9U4GakqfyPXrC3JDQ0MYGhoCx3GYMWNGSCY9ERW1d+9erF+/HhdffDE2bNiQ8N1ALIiFsgjH\nUehBkSicuBzyz3/+c7z11lswGo0oLi7GH/7wh4idXJNVgI9nEEIwOjqKXbt2aUGa+mRUVVWhuLgY\nb775Jm6++WZUVlZOqehFM1S9Fwblo1NSUnDo0CHIsoyKioqEc5hUUeD1eic1jdfreh0OhzYuSx+k\nwwManT7icrm0cUeJBB2nNDY2pp0/3PtET8lYLBbthvfoo4/i008/xTPPPIOTTz45oevSY7LrRxRF\nZGVlIT09HampqRAEAX/9619DKIljwIMiUThxA/Lf//53/OAHPwDP8/jFL34BAHj00UdDjomlAnyi\nQVEUtLa24sEHH8S2bduwYMECTZtLqQ79xOqpQBAEdHR0aANAFUWZtmJCD8qpt7W1Tdk0Xt8NSQOg\nJEma9hhQG2yiFR2nCzpOadasWZg7d27U8+tvePv27cNdd90Fp9OJwsJCXH/99Vi+fDlKSkoSujaK\nWK6fbdu24Z577tEKmgzD4ODBg3jmmWcAHDMeFInCiVvUO++887Tvly1bhtdff33cMbW1tSgpKUFR\nUREA4IorrsDWrVtP6IDMsiwyMzNRXFyMjo4OWK1WiKKI/fv3Y+fOnXjppZfwzTffgOM4zeC/uroa\npaWlMSk53G43GhoakJqaijPPPBM8z2scqsPhwOjoKDo6OqY8KivWouBkiNQNSQjB2NiYZuxuMBjQ\n09MDp9M57aGuFDTrdrvdWLRo0aS7BpZltekqu3btQk5ODl5++WUIgoDdu3fjyy+/PGwBOZbrZ+vW\nrbjttttCGjr6+vpw4403asesWbMGa9asOSxrPBZxXAZkPV544QVcfvnl434eawX4RENGRgbuvvtu\n7bHBYMCSJUuwZMkS3HTTTSCEwOVy4auvvsLOnTvxwAMPaByzXnqnb4LQO76Fd8IxDAOz2Qyz2RxR\nMdHX14empqaQUVm00KX39+jq6kJfX99h0UTrJ3jrpXJ67XFnZ2cIJROvYxttUMnLy0NZWVnMWffu\n3btx66234vLLL8eOHTu0QurhHq0Uy/VzInlQJArHbEA+55xz0N/fP+7nDz74IC666CLte57nNU+J\nePDaa6/h3nvvRX19PWpra6MK0QsKCrQMjud57N69O+6/dSyBemScffbZOPvsswGoAau3t1cz+P/d\n736HoaEhbezT7t27NTF/LBlkJMWEPvh1dHRoo7LMZjMcDgcyMzNRVVWVcAkXNesxGo3jpHIcxyE9\nPT2kPqF3lRscHIzoKqdvnZYkCc3NzfD5fHH5c/j9fjz00EOoqanBn/70J8ybNy9xLzqJ7wzHbED+\n8MMPJ3z+xRdfxNtvv42PPvooYraRm5uLgwcPao+7u7uRm5urPV64cCHeeOMNrF69etK1bN++/Xis\nCscMhmGQm5uLSy65BJdccgkAoK+vD9dccw16e3tRXV2NG2+8EbIsjzP4jzWAhgc/SZLQ1NSEsbEx\nZGZmwufzYdeuXTCbzQkZlaVv8Ihngkc0VznKR1NXOYvFAp7nMTo6ioKCAlRUVMScFdMBvldeeSW2\nb99+2HTEE2Gy6yfWY5IIxTEbkCfCe++9h1/96lf4+OOPo/Jw1dXVaG5uRnt7O3Jzc/HKK6/gz3/+\ns/Z8MuOYHiwWCzZs2BDihuf1erFnzx7U1tbiiSee0Joo9FRHLJNQhoaG0NLSgjlz5mDevHnjrEmp\nZrq9vX1Ko7Io1x3e4DFVmEwmZGdna6ZIgiCgvr4ebrcbmZmZ6O/vR09Pz6Tr9Pl8eOCBB7Bnzx68\n/PLLqKiomNa6poPJrh8AWLVqFZ588klcccUVqKmpgd1uT9IVk+C4VFmUlJQgEAhoWcqyZcvwzDPP\noLe3F9dffz22bdsGQK0C33LLLZBlGddddx3uuuuucedavnw5Nm7cGJWyKCwshN1uB8dxWL16NW64\n4YaQ52OlPk5ECR4hBMPDw6itrdVc77q7u5Gfn69poysrK2G328EwDEZHR7WMq7y8PCYjo3hGZdEG\nj+Hh4XFcd6IwODiI1tbWcWZD0QyLRFHUdLmbN2/Gv//7v2P9+vUJHdwaDSMjI7j88svR0dGBgoIC\nvPrqqyEGRvT6aW9vR0ZGBmbNmoXR0VHceeedx5MHRaJw4sreYkUsPPRkAbmnpwe5ubkYHBzEueee\ni02bNuGss87Snq+vrwfLsli9enXU8yQleN+CSu9ogN69ezc8Hg/S0tLQ29uLTZs24fTTT5+Wq1yk\nUVmASi1kZGSguLg45hFPsUIQBDQ0NIBhmJjHcNG5jvfffz/2798Pk8mErKwsXHXVVTFRadPFhg0b\nkJGRgTvuuAOPPPIIRkdHx8lHgeO6mSOROHFlb7FiMh46FlBOLDs7G5dccglqa2tDAnIs1EdSgvct\nWJZFaWkpSktL8W//9m84dOgQLr30UuTl5eGSSy7Bli1bNO9evcF/cXFxzJIzPR8tSZI2waO4uFgb\n3ZSoUVl6hUa8Xs41NTX4+c9/jmuuuQZvvPEGOI7D6OgoDh06FPc6poKtW7dix44dAIBrrrkGy5cv\njxiQk0gcTuiAPF14PB6tW8rj8eDvf//7OC/XWJCU4EXHjBkzsHnz5pCbEyEEDodDM/i/++670dbW\nhtmzZ2va6KqqKmRlZU2Y5Q4PD6O5uRlz5swZJzVLxKgsv9+PhoYGGAyGuMyMPB4PfvnLX2L//v14\n9dVXUVpaGvL/0NMGhxMDAwMa53vSSSdhYGAg4nEMw+Ccc86JStslETuSATkK/vrXv2Lt2rUYGhrC\nBRdcgFNOOQXvv/9+CA89MDCASy65BG1tbRBFEXa7Hbfffjtuv/12AKHUx3QwGZdHcTxK8FiWHbdT\nYBgG6enpOPfcc3HuuecC+FaLXFNTgy+//BK//e1vMTo6Os7g32KxoL+/H729veB5HkuWLIk4wSNR\no7LKyspiVmgQQvD555/jF7/4Ba677jo88cQTh50rnoi204NhmKg3t88++yyEtquoqAjZJSYRO05o\nDvlIYiIuejITliSXNzVIkoQDBw6gpqYGu3btwp49ezA2NgZBELB69Wqcf/75KC8vn1bQC59w4na7\nIQgCzGYz8vPzYx6V5fF4cO+996KhoQHPPvssiouLp7ymREE/Kqmvrw/Lly9HY2PjhL9z7733wmaz\naUlJEhpi4pATa62VxJSglxAJgoBXXnkFq1at0p7funUrrrnmGgAql/fmm29+V0s9psDzPBYvXowb\nbrgBv//971FeXo6zzjoLTz/9NIxGIx599FGceeaZWLlyJe6++25s3boVvb29iCdJ4XkeM2bMQH5+\nPmbMmAGWZTFv3jwUFxfD4/HgwIED+PLLL7Fv3z5tbp8kSdrvE0LwySef4Nxzz8X8+fPxwQcfHJFg\n/Nprr2HBggVgWTbqTmrVqlW46667UF5ejoULF0YcnOrxeDRFCKXtFi5ceFjXfjwjmSEfZuipj/T0\n9IjUBzCxBC89PR1jY2MA1At4xowZ2mM9JpPgnegYGBjQ2rMpaNGtpqZGy6T7+/tRVFSkGSotWbIE\nqampUbfsXq8X9fX1SE1NRXFx8biMO9KorJqaGnz88ccQRRFjY2P405/+hLKyssP22sMRi/pncHAQ\n+fn5yMnJQVFREQYGBvDaa68hPT1d++y2tbVpzUCSJOEnP/lJRPloEknZ2zGFibi8a665JiQAz5gx\nA6Ojo+OOjSbBm0zjTAjB+vXrsW3bNlitVrz44ouHdfDl0Q5FUdDU1ISdO3eitrYWe/bsgSAI4wz+\nGYbBxx9/DJvNhvLy8ogWr5FAZ9s98sgjKCoqgsFgwP79+3HttdcecaOd6VBpScSFpOztWMJEEryc\nnBz09fVpXF406VQkCd6ZZ56Jm2++OUTjvGrVqpBC2bvvvovm5mY0NzejpqYGN9100wmt8mBZFhUV\nFaioqMC1114LQFVMUIP/p556Cl999RWcTicqKyvx4x//GNnZ2UhLS5tUeudyuXD33Xejo6MDW7Zs\nQUFBgfZcnMnRYUdS/XPkkeSQjwGsWrUKf/zjHwEAf/zjHyMqN6JxeXqNs9Fo1DTOemzduhVXX301\nGIbBsmXLMDY2hr6+vsP/wo4hmM1mLFu2DLfccguuvfZazJgxAy+//DJuvvlmtLe3Y8OGDVi2bBl+\n9KMf4eGHH8YHH3yAkZERLcgSQrB9+3acd955qKqqwnvvvRcSjAEk3Ff5nHPOwcKFC8d9hb//SRw9\nSGbIxwDuuOMOXHbZZXj++eeRn5+PV199FQAiSvCAb7m8888/H6+//nrSJjHB+N73vodPPvlE0xWf\nf/75AL6drbdz505s374djz32GFwuF8rKyjA4OAiLxYK33noLc+fOPSLrnG7jU9Ic6MgjGZCPAWRm\nZuKjjz4a9/PZs2drRcGioiLs27fvsK5jMi56x44duOiii1BYWAgAuPTSS6fUKHO0I5pFJsuyKCoq\nQlFREX7yk58AUL0ovvnmG7z11lu45557Ej4z8HAiFgOhJBKLY+fTkcSUkCibRFmWcfPNN+Pdd99F\nXV0dtmzZgrq6unF/71/+5V+wd+9e7N2797gMxvHCYDCgsrIS99577xEJxrHI2QC1zmAwGPDJJ5/g\n9NNPx4oVKwCou66VK1cCUCV9Tz75JFasWIF58+bhsssuC5mHl0TikQzIxzkm0zgDKkf90ksvgRCC\nnTt3RrRJjIWLTuK7B/XxnqxTzmq1oq+vD4qiQBRFTUmh33UBwMqVK9HU1ITW1taknO0IIElZHOfQ\nZzlU47xgwYKQQZMrV67Etm3bUFJSotkkhiPWivsXX3yBRYsWITc3Fxs3bkxmVEcYSR/vYxvJgHwC\nYOXKldo2lEI/aJJhGDz11FPT/jtLly5FV1cXbDYbtm3bhosvvhjNzc0hx1x33XV4++23kZ2djf37\n9487R1ITfWSQNAQ6OpGkLJKICbHwzHT4KKDeBERRxPDwcMgx1157Ld57772of0eviX722Wdx0003\nJfBVHB9IhJzts88+w969e/Huu+/iqaeewieffHIYV5xErEhmyEnEhFgq7v39/doUjNraWiiKMs7p\n7KyzzkJHR0fUvxNNE52U4H2LI+HjncR3g2SGnERMiFZxf+aZZzQ++vXXX8fChQuxePFirFu3Dq+8\n8krczQ7RNNFJJA5JQ6CjGISQeL6SSGLaaG9vJwsWLIj43AUXXEA+/fRT7fEPfvADsmvXrnHH/fSn\nPyUzZ86Mep7t27eTtLQ0snjxYrJ48WJy3333JWbx3xFuv/12Ul5eTk4++WRy8cUXk9HR0YjH/dd/\n/RfheZ4AIDabjZx33nmEEEJ6enrID3/4Q0IIIa2trWTRokVk0aJFZP78+eSBBx44Yq/jBEZMMTYZ\nkJM44pgoIN9www3kz3/+s/a4rKyM9Pb2jjvu448/Jl999dWEAfmCCy5IzIKPArz//vtEFEVCCCEb\nNmwgGzZsGHeMJEmkqKiItLa2kkAgQBYtWkQOHDhwpJeaRGTEFGOTlEUSRxVi0UQDKhedkZHxHazw\nu8F5550HnldLPsuWLUN3d/e4Y5Ja8WMfyaJeEkcUV155JXbs2IHh4WHk5eXhvvvugyiKAGLXRMeK\n41UT/cILL+Dyyy8f9/OkO9uxj2RATuKIYsuWLRM+fyQ10RQHDx7E1VdfjYGBATAMgxtuuAHr168P\nOYYcAX30RJ7Y1OHvwQcfBM/zuOqqqxL6t5M4OhCvQX0SSRw1YBimAMDbhJBJJQIMw3QAqCKEDEd4\nbhaAWYSQPQzDpAL4CsDFhJA63TErAawFsBLAaQB+Qwg5LRGvI1YwDHMtgNUA/hchxBvh+dMB3EsI\nWRF8fCcAEEIePpLrTGLqSHLISRyXYBjmJCaouWMY5lSon/VDkY4lhPQRQvYEv3cBqAcQ7jN5EYCX\nggWanQDSg4H8iIBhmPMBbACwKlIwDmIXgFKGYQoZhjECuALA347UGpOYPpKURRLHJBiG2QJgOYAs\nhmG6Afw3AAMAEEKeAfBjADcxDCMB8AG4gsSwHQxm3UsAhJOvuQAO6h53B392pJz8nwRgAvBB8D6z\nkxByI8MwswE8RwhZSQiRGIZZA+B9AByAFwghB47Q+pJIAJKURRJJBMEwjA3AxwAeJIS8Efbc2wAe\nIYR8Fnz8EYBfEEKie1wmkUScSFIWSSQBgGEYA4C/AHg5PBgH0QNgju5xXvBnSSSRMCQDchInPIJc\n8/MA6gkhj0c57G8ArmZULAPgIIQkBw8mkVAkKYskTngwDPM9AJ8C+CcAJfjj/wQwF1A56WDQfhLA\n+QC8AH6apCuSSDSSATmJJJJI4ihBkrJIIokkkjhKkAzISSSRRBJHCZIBOYkkkkjiKMH/B2KXaTBB\nWnQeAAAAAElFTkSuQmCC\n",
      "text/plain": [
<<<<<<< Updated upstream
       "<matplotlib.figure.Figure at 0x7fcb03be1668>"
=======
       "<matplotlib.figure.Figure at 0x11635f160>"
>>>>>>> Stashed changes
      ]
     },
     "metadata": {},
     "output_type": "display_data"
    }
   ],
   "source": [
    "fig = plt.figure()\n",
    "ax = fig.add_subplot(111, projection='3d')\n",
    "\n",
    "x = np.linspace(-2, 2, 100)\n",
    "y = x\n",
    "X, Y = np.meshgrid(x, y)\n",
    "\n",
    "ax.plot_surface(X, Y, f(X, Y))\n",
    "ax.plot([x_c], [y_c], [f(x_c,y_c)], '*r')"
   ]
  },
  {
   "cell_type": "markdown",
   "metadata": {},
   "source": [
    "### Tarea (para el martes 31 de Octubre a las 23:00).\n",
    "\n",
    "Elaborar un algoritmo, usando `sympy`, que devuelva el máximo y el mínimo absoluto de una función en un intervalo dado (finito), y que además dibuje una gráfica de la función en dicho intervalo y señalando los puntos máximo y mínimo absolutos."
   ]
  },
  {
   "cell_type": "markdown",
   "metadata": {},
   "source": [
    "# Recordar: examen el viernes 27 de octubre. Lo entregan el miércoles 1 de noviembre antes de las 23:00.\n",
    "\n",
    "# Para este viernes 27 de octubre: subir los avances que tengan del proyecto."
   ]
  },
  {
   "cell_type": "markdown",
   "metadata": {},
   "source": [
    "<script>\n",
    "  $(document).ready(function(){\n",
    "    $('div.prompt').hide();\n",
    "    $('div.back-to-top').hide();\n",
    "    $('nav#menubar').hide();\n",
    "    $('.breadcrumb').hide();\n",
    "    $('.hidden-print').hide();\n",
    "  });\n",
    "</script>\n",
    "\n",
    "<footer id=\"attribution\" style=\"float:right; color:#808080; background:#fff;\">\n",
    "Created with Jupyter by Esteban Jiménez Rodríguez.\n",
    "</footer>"
   ]
  }
 ],
 "metadata": {
  "kernelspec": {
   "display_name": "Python 3",
   "language": "python",
   "name": "python3"
  },
  "language_info": {
   "codemirror_mode": {
    "name": "ipython",
    "version": 3
   },
   "file_extension": ".py",
   "mimetype": "text/x-python",
   "name": "python",
   "nbconvert_exporter": "python",
   "pygments_lexer": "ipython3",
   "version": "3.6.1"
  }
 },
 "nbformat": 4,
 "nbformat_minor": 2
}
